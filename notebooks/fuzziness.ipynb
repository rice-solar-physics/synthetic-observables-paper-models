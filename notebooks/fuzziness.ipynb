{
 "cells": [
  {
   "cell_type": "markdown",
   "metadata": {},
   "source": [
    "## Coronal Fuzziness\n",
    "Compute fuzziness for some simulated images according to [Guarrasi et al. (2010)](https://ui.adsabs.harvard.edu/#abs/2010ApJ...719..576G)."
   ]
  },
  {
   "cell_type": "code",
   "execution_count": 46,
   "metadata": {},
   "outputs": [],
   "source": [
    "import numpy as np\n",
    "import matplotlib.pyplot as plt\n",
    "from matplotlib.ticker import FixedFormatter,FixedLocator\n",
    "import astropy.units as u\n",
    "from sunpy.map import Map\n",
    "import seaborn\n",
    "from astropy.table import Table\n",
    "from astropy.io import ascii\n",
    "\n",
    "%matplotlib inline"
   ]
  },
  {
   "cell_type": "code",
   "execution_count": 3,
   "metadata": {},
   "outputs": [
    {
     "name": "stdout",
     "output_type": "stream",
     "text": [
      "correlation_171_131.fits correlation_94_211.fits  timelag_211_131.fits\n",
      "correlation_193_131.fits correlation_94_335.fits  timelag_211_171.fits\n",
      "correlation_193_171.fits em_slope.fits            timelag_211_193.fits\n",
      "correlation_211_131.fits loop_parameters.h5       timelag_335_131.fits\n",
      "correlation_211_171.fits map_t001500_131.fits     timelag_335_171.fits\n",
      "correlation_211_193.fits map_t001500_171.fits     timelag_335_193.fits\n",
      "correlation_335_131.fits map_t001500_193.fits     timelag_335_211.fits\n",
      "correlation_335_171.fits map_t001500_211.fits     timelag_94_131.fits\n",
      "correlation_335_193.fits map_t001500_335.fits     timelag_94_171.fits\n",
      "correlation_335_211.fits map_t001500_94.fits      timelag_94_193.fits\n",
      "correlation_94_131.fits  timelag_171_131.fits     timelag_94_211.fits\n",
      "correlation_94_171.fits  timelag_193_131.fits     timelag_94_335.fits\n",
      "correlation_94_193.fits  timelag_193_171.fits\n"
     ]
    }
   ],
   "source": [
    "!ls ../paper/data/high_frequency/"
   ]
  },
  {
   "cell_type": "code",
   "execution_count": 4,
   "metadata": {},
   "outputs": [],
   "source": [
    "frequency = ['high','intermediate','low']\n",
    "channels = [94,131,171,193,211,335]"
   ]
  },
  {
   "cell_type": "code",
   "execution_count": 11,
   "metadata": {},
   "outputs": [
    {
     "data": {
      "text/plain": [
       "54"
      ]
     },
     "execution_count": 11,
     "metadata": {},
     "output_type": "execute_result"
    }
   ],
   "source": [
    "foo = np.random.rand(10,10)\n",
    "foo[np.where(foo>0.5)].size"
   ]
  },
  {
   "cell_type": "code",
   "execution_count": 8,
   "metadata": {},
   "outputs": [
    {
     "data": {
      "text/plain": [
       "100"
      ]
     },
     "execution_count": 8,
     "metadata": {},
     "output_type": "execute_result"
    }
   ],
   "source": [
    "np.prod(foo.shape)"
   ]
  },
  {
   "cell_type": "code",
   "execution_count": 32,
   "metadata": {},
   "outputs": [],
   "source": [
    "fuzzy = {}\n",
    "for f in frequency:\n",
    "    fuzzy[f'{f}'] = []\n",
    "    for c in channels:\n",
    "        m = Map(f'../paper/data/{f}_frequency/map_t001500_{c}.fits')\n",
    "        i_nz = np.where(m.data > 0)\n",
    "        fuzzy[f'{f}'].append(\n",
    "            np.sqrt(((m.data[i_nz] - m.data[i_nz].mean())**2).sum()/m.data[i_nz].size)/m.data[i_nz].mean()\n",
    "        )"
   ]
  },
  {
   "cell_type": "code",
   "execution_count": 42,
   "metadata": {},
   "outputs": [],
   "source": [
    "def fuzzy(m):\n",
    "    return np.sqrt(((\n",
    "        m.data[np.where(m.data > 0)] - m.data[np.where(m.data > 0)].mean())**2)\n",
    "        .sum()/m.data[np.where(m.data > 0)].size\n",
    "    )/m.data[np.where(m.data > 0)].mean()"
   ]
  },
  {
   "cell_type": "code",
   "execution_count": 44,
   "metadata": {},
   "outputs": [],
   "source": [
    "tab = Table(\n",
    "    {'Channel': channels, **{f: [fuzzy(Map(f'../paper/data/{f}_frequency/map_t001500_{c}.fits')) for c in channels] for f in frequency}}\n",
    ")"
   ]
  },
  {
   "cell_type": "code",
   "execution_count": 49,
   "metadata": {},
   "outputs": [
    {
     "name": "stdout",
     "output_type": "stream",
     "text": [
      "\\begin{deluxetable}{cccc}\n",
      "\\tablehead{\\colhead{Channel} & \\colhead{high} & \\colhead{intermediate} & \\colhead{low}}\n",
      "\\startdata\n",
      "94 & 3.06 & 4.63 & 4.19 \\\\\n",
      "131 & 5.56 & 3.61 & 6.13 \\\\\n",
      "171 & 2.79 & 2.81 & 3.25 \\\\\n",
      "193 & 2.69 & 2.80 & 2.79 \\\\\n",
      "211 & 2.73 & 2.83 & 2.84 \\\\\n",
      "335 & 2.63 & 3.08 & 3.21\n",
      "\\enddata\n",
      "\\end{deluxetable}\n"
     ]
    }
   ],
   "source": [
    "formats = {'Channel': '%.0f', **{f: '%.2f' for f in frequency}}\n",
    "ascii.write(tab, format='aastex', formats=formats)"
   ]
  },
  {
   "cell_type": "code",
   "execution_count": 41,
   "metadata": {},
   "outputs": [
    {
     "data": {
      "text/plain": [
       "<matplotlib.legend.Legend at 0x1c2f12cda0>"
      ]
     },
     "execution_count": 41,
     "metadata": {},
     "output_type": "execute_result"
    },
    {
     "data": {
      "image/png": "[encoded data removed]",
      "text/plain": [
       "<Figure size 864x576 with 1 Axes>"
      ]
     },
     "metadata": {
      "needs_background": "light"
     },
     "output_type": "display_data"
    }
   ],
   "source": [
    "fig = plt.figure(figsize=(12,8));ax=fig.gca()\n",
    "for j,f in enumerate(frequency):\n",
    "    plt.plot(np.array(fuzzy[f'{f}']),\n",
    "             color=seaborn.color_palette('colorblind')[j],\n",
    "             ls='',markersize=10,label=frequency[j],marker='o')\n",
    "ax.xaxis.set_major_locator(FixedLocator(range(len(channels))))\n",
    "ax.xaxis.set_major_formatter(FixedFormatter([f'{c}' for c in channels]));\n",
    "ax.legend()\n",
    "#ax.set_yscale('log')"
   ]
  },
  {
   "cell_type": "code",
   "execution_count": 51,
   "metadata": {},
   "outputs": [
    {
     "data": {
      "text/plain": [
       "PixelPair(x=<Quantity 543. pix>, y=<Quantity 519. pix>)"
      ]
     },
     "execution_count": 51,
     "metadata": {},
     "output_type": "execute_result"
    }
   ],
   "source": [
    "m.dimensions"
   ]
  },
  {
   "cell_type": "code",
   "execution_count": 52,
   "metadata": {},
   "outputs": [
    {
     "data": {
      "text/plain": [
       "398107.1705534969"
      ]
     },
     "execution_count": 52,
     "metadata": {},
     "output_type": "execute_result"
    }
   ],
   "source": [
    "10**(5.6)"
   ]
  },
  {
   "cell_type": "code",
   "execution_count": 53,
   "metadata": {},
   "outputs": [
    {
     "data": {
      "text/plain": [
       "12589254.117941663"
      ]
     },
     "execution_count": 53,
     "metadata": {},
     "output_type": "execute_result"
    }
   ],
   "source": [
    "10**(7.1)"
   ]
  },
  {
   "cell_type": "code",
   "execution_count": null,
   "metadata": {},
   "outputs": [],
   "source": []
  }
 ],
 "metadata": {
  "kernelspec": {
   "display_name": "Python [conda env:synthetic-observables]",
   "language": "python",
   "name": "conda-env-synthetic-observables-py"
  },
  "language_info": {
   "codemirror_mode": {
    "name": "ipython",
    "version": 3
   },
   "file_extension": ".py",
   "mimetype": "text/x-python",
   "name": "python",
   "nbconvert_exporter": "python",
   "pygments_lexer": "ipython3",
   "version": "3.7.1"
  }
 },
 "nbformat": 4,
 "nbformat_minor": 2
}
