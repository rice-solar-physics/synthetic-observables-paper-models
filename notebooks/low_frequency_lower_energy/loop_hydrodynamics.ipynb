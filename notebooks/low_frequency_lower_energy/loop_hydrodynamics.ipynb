{
 "cells": [
  {
   "cell_type": "markdown",
   "metadata": {},
   "source": [
    "# Loop Hydrodynamics: Low-frequency (Lower energy)"
   ]
  },
  {
   "cell_type": "code",
   "execution_count": 1,
   "metadata": {},
   "outputs": [],
   "source": [
    "import os\n",
    "import sys\n",
    "import subprocess\n",
    "import multiprocessing\n",
    "\n",
    "import numpy as np\n",
    "import astropy.units as u\n",
    "import matplotlib.pyplot as plt\n",
    "\n",
    "import synthesizAR\n",
    "from synthesizAR.interfaces import EbtelInterface\n",
    "\n",
    "sys.path.append('../../scripts/')\n",
    "from constrained_heating_model import CustomHeatingModel\n",
    "\n",
    "%matplotlib inline"
   ]
  },
  {
   "cell_type": "code",
   "execution_count": 2,
   "metadata": {},
   "outputs": [],
   "source": [
    "field = synthesizAR.Field.restore('/storage-home/w/wtb2/data/timelag_synthesis_v2/base_noaa1158/')"
   ]
  },
  {
   "cell_type": "code",
   "execution_count": 13,
   "metadata": {},
   "outputs": [],
   "source": [
    "heating_options = {\n",
    "    'duration': 200.0,\n",
    "    'duration_rise': 100.0,\n",
    "    'duration_decay': 100.0,\n",
    "    'stress_level': 0.3,\n",
    "    'power_law_slope': -2.5,\n",
    "    'frequency_parameter': 5.\n",
    "}"
   ]
  },
  {
   "cell_type": "code",
   "execution_count": 14,
   "metadata": {},
   "outputs": [],
   "source": [
    "heating_model = CustomHeatingModel(heating_options)"
   ]
  },
  {
   "cell_type": "code",
   "execution_count": 15,
   "metadata": {},
   "outputs": [],
   "source": [
    "ih = synthesizAR.util.InputHandler('/storage-home/w/wtb2/codes/ebtelPlusPlus/config/ebtel.example.cfg.xml')\n",
    "base_config = ih.lookup_vars()\n",
    "base_config['c1_cond0'] = 6.0\n",
    "base_config['total_time'] = 3e4\n",
    "base_config['use_adaptive_solver'] = True\n",
    "base_config['use_flux_limiting'] = True\n",
    "base_config['calculate_dem'] = False\n",
    "base_config['heating']['partition'] = 1.0\n",
    "base_config['heating']['background'] = 1e-6\n",
    "base_config['force_single_fluid'] = False\n",
    "base_config['tau_max'] = 200.0"
   ]
  },
  {
   "cell_type": "code",
   "execution_count": 16,
   "metadata": {},
   "outputs": [],
   "source": [
    "ebtel_interface = EbtelInterface(base_config,heating_model,\n",
    "                                 '/storage-home/w/wtb2/data/timelag_synthesis_v2/low_frequency_lower_energy/hydro_config/',\n",
    "                                 '/storage-home/w/wtb2/data/timelag_synthesis_v2/low_frequency_lower_energy/hydro_results/')"
   ]
  },
  {
   "cell_type": "code",
   "execution_count": 17,
   "metadata": {},
   "outputs": [
    {
     "name": "stdout",
     "output_type": "stream",
     "text": [
      "Iteration 0 with error=95.44538597308409 and phi=0.010368562372481762\n",
      "Iteration 1 with error=50.05381169030775 and phi=0.019587176096977767\n",
      "Iteration 2 with error=26.71990626362099 and phi=0.03607515806474348\n",
      "Iteration 3 with error=14.112877000520317 and phi=0.0661687380877626\n",
      "Iteration 4 with error=11.366691437799432 and phi=0.08086237172081842\n",
      "Iteration 5 with error=11.414167602002188 and phi=0.08055312543377596\n",
      "Iteration 6 with error=11.197717464470557 and phi=0.08198255148250436\n",
      "Iteration 7 with error=11.404666997753507 and phi=0.08061482022702428\n",
      "Iteration 8 with error=11.384104739552132 and phi=0.0807486710610754\n",
      "Iteration 9 with error=11.432763654103757 and phi=0.08043263974296849\n",
      "Iteration 10 with error=11.32914035755004 and phi=0.08110865567262573\n",
      "Iteration 11 with error=11.398290876877747 and phi=0.08065627834760312\n",
      "Iteration 12 with error=11.12810493981205 and phi=0.08245311241638192\n",
      "Iteration 13 with error=11.301560849133054 and phi=0.08129049738192162\n",
      "Iteration 14 with error=11.435277764334007 and phi=0.08041637822261839\n",
      "Iteration 15 with error=11.189627102900326 and phi=0.0820369640152541\n"
     ]
    },
    {
     "ename": "KeyboardInterrupt",
     "evalue": "",
     "output_type": "error",
     "traceback": [
      "\u001b[0;31m---------------------------------------------------------------------------\u001b[0m",
      "\u001b[0;31mKeyboardInterrupt\u001b[0m                         Traceback (most recent call last)",
      "\u001b[0;32m<ipython-input-17-ecd105edaa06>\u001b[0m in \u001b[0;36m<module>\u001b[0;34m()\u001b[0m\n\u001b[1;32m      3\u001b[0m                                      \u001b[0;31m#sigma_increase=0.5,\u001b[0m\u001b[0;34m\u001b[0m\u001b[0;34m\u001b[0m\u001b[0m\n\u001b[1;32m      4\u001b[0m                                      \u001b[0msigma_decrease\u001b[0m\u001b[0;34m=\u001b[0m\u001b[0;36m1e-2\u001b[0m\u001b[0;34m,\u001b[0m\u001b[0;34m\u001b[0m\u001b[0m\n\u001b[0;32m----> 5\u001b[0;31m                                      max_iterations=30,verbose=True)\n\u001b[0m",
      "\u001b[0;32m/home/w/wtb2/projects/synthesized_timelag_maps/scripts/constrained_heating_model.py\u001b[0m in \u001b[0;36mconstrain_distribution\u001b[0;34m(self, field, tolerance, max_iterations, total_ar_flux, sigma_increase, sigma_decrease, verbose)\u001b[0m\n\u001b[1;32m     84\u001b[0m             \u001b[0;32mfor\u001b[0m \u001b[0mi\u001b[0m\u001b[0;34m,\u001b[0m\u001b[0mloop\u001b[0m \u001b[0;32min\u001b[0m \u001b[0menumerate\u001b[0m\u001b[0;34m(\u001b[0m\u001b[0mfield\u001b[0m\u001b[0;34m.\u001b[0m\u001b[0mloops\u001b[0m\u001b[0;34m)\u001b[0m\u001b[0;34m:\u001b[0m\u001b[0;34m\u001b[0m\u001b[0m\n\u001b[1;32m     85\u001b[0m                 pl = self.power_law(lower_bounds[i],upper_bounds[i],self.heating_options['power_law_slope'],\n\u001b[0;32m---> 86\u001b[0;31m                                     np.random.rand(self._calculate_number_events(loop)))\n\u001b[0m\u001b[1;32m     87\u001b[0m                 \u001b[0mpower_law_distributions\u001b[0m\u001b[0;34m[\u001b[0m\u001b[0mloop\u001b[0m\u001b[0;34m.\u001b[0m\u001b[0mname\u001b[0m\u001b[0;34m]\u001b[0m \u001b[0;34m=\u001b[0m \u001b[0mpl\u001b[0m\u001b[0;34m\u001b[0m\u001b[0m\n\u001b[1;32m     88\u001b[0m                 \u001b[0mweights\u001b[0m\u001b[0;34m[\u001b[0m\u001b[0mi\u001b[0m\u001b[0;34m]\u001b[0m \u001b[0;34m=\u001b[0m \u001b[0mpl\u001b[0m\u001b[0;34m.\u001b[0m\u001b[0msum\u001b[0m\u001b[0;34m(\u001b[0m\u001b[0;34m)\u001b[0m\u001b[0;34m*\u001b[0m\u001b[0mloop\u001b[0m\u001b[0;34m.\u001b[0m\u001b[0mfull_length\u001b[0m\u001b[0;34m.\u001b[0m\u001b[0mvalue\u001b[0m\u001b[0;34m*\u001b[0m\u001b[0mcross_sections\u001b[0m\u001b[0;34m[\u001b[0m\u001b[0mi\u001b[0m\u001b[0;34m]\u001b[0m\u001b[0;34m\u001b[0m\u001b[0m\n",
      "\u001b[0;32m/home/w/wtb2/projects/synthesized_timelag_maps/scripts/constrained_heating_model.py\u001b[0m in \u001b[0;36m_calculate_number_events\u001b[0;34m(self, loop)\u001b[0m\n\u001b[1;32m     47\u001b[0m \u001b[0;34m\u001b[0m\u001b[0m\n\u001b[1;32m     48\u001b[0m     \u001b[0;32mdef\u001b[0m \u001b[0m_calculate_number_events\u001b[0m\u001b[0;34m(\u001b[0m\u001b[0mself\u001b[0m\u001b[0;34m,\u001b[0m \u001b[0mloop\u001b[0m\u001b[0;34m)\u001b[0m\u001b[0;34m:\u001b[0m\u001b[0;34m\u001b[0m\u001b[0m\n\u001b[0;32m---> 49\u001b[0;31m         \u001b[0mmean_waiting_period\u001b[0m \u001b[0;34m=\u001b[0m \u001b[0mself\u001b[0m\u001b[0;34m.\u001b[0m\u001b[0mheating_options\u001b[0m\u001b[0;34m[\u001b[0m\u001b[0;34m'frequency_parameter'\u001b[0m\u001b[0;34m]\u001b[0m\u001b[0;34m*\u001b[0m\u001b[0mself\u001b[0m\u001b[0;34m.\u001b[0m\u001b[0mcooling_time\u001b[0m\u001b[0;34m(\u001b[0m\u001b[0mloop\u001b[0m\u001b[0;34m)\u001b[0m\u001b[0;34m\u001b[0m\u001b[0m\n\u001b[0m\u001b[1;32m     50\u001b[0m         num_events = int(np.floor((self.base_config['total_time'] + mean_waiting_period)/\n\u001b[1;32m     51\u001b[0m                                   (self.heating_options['duration'] + mean_waiting_period))) \n",
      "\u001b[0;32m/home/w/wtb2/projects/synthesized_timelag_maps/scripts/constrained_heating_model.py\u001b[0m in \u001b[0;36mcooling_time\u001b[0;34m(self, loop)\u001b[0m\n\u001b[1;32m    126\u001b[0m         \u001b[0mterm2\u001b[0m \u001b[0;34m=\u001b[0m \u001b[0;34m(\u001b[0m\u001b[0mkappa_0\u001b[0m\u001b[0;34m**\u001b[0m\u001b[0;34m(\u001b[0m\u001b[0;36m4.\u001b[0m \u001b[0;34m-\u001b[0m \u001b[0;36m2.\u001b[0m\u001b[0;34m*\u001b[0m\u001b[0malpha\u001b[0m\u001b[0;34m)\u001b[0m\u001b[0;34m)\u001b[0m\u001b[0;34m*\u001b[0m\u001b[0;34m(\u001b[0m\u001b[0mchi\u001b[0m\u001b[0;34m**\u001b[0m\u001b[0;36m7\u001b[0m\u001b[0;34m)\u001b[0m\u001b[0;34m\u001b[0m\u001b[0m\n\u001b[1;32m    127\u001b[0m         \u001b[0mterm3\u001b[0m \u001b[0;34m=\u001b[0m \u001b[0;34m(\u001b[0m\u001b[0;34m(\u001b[0m\u001b[0mhalf_length\u001b[0m\u001b[0;34m)\u001b[0m\u001b[0;34m**\u001b[0m\u001b[0;34m(\u001b[0m\u001b[0;36m8.\u001b[0m \u001b[0;34m-\u001b[0m \u001b[0;36m4.\u001b[0m\u001b[0;34m*\u001b[0m\u001b[0malpha\u001b[0m\u001b[0;34m)\u001b[0m\u001b[0;34m)\u001b[0m\u001b[0;34m/\u001b[0m\u001b[0;34m(\u001b[0m\u001b[0mn0T0\u001b[0m\u001b[0;34m**\u001b[0m\u001b[0;34m(\u001b[0m\u001b[0;36m3\u001b[0m\u001b[0;34m+\u001b[0m\u001b[0;36m2.\u001b[0m\u001b[0;34m*\u001b[0m\u001b[0malpha\u001b[0m\u001b[0;34m)\u001b[0m\u001b[0;34m)\u001b[0m\u001b[0;34m\u001b[0m\u001b[0m\n\u001b[0;32m--> 128\u001b[0;31m         \u001b[0;32mreturn\u001b[0m \u001b[0mterm1\u001b[0m\u001b[0;34m*\u001b[0m\u001b[0;36m3.\u001b[0m\u001b[0;34m*\u001b[0m\u001b[0mconst\u001b[0m\u001b[0;34m.\u001b[0m\u001b[0mk_B\u001b[0m\u001b[0;34m.\u001b[0m\u001b[0mcgs\u001b[0m\u001b[0;34m.\u001b[0m\u001b[0mvalue\u001b[0m\u001b[0;34m*\u001b[0m\u001b[0;34m(\u001b[0m\u001b[0;36m1\u001b[0m\u001b[0;34m/\u001b[0m\u001b[0mterm2\u001b[0m\u001b[0;34m*\u001b[0m\u001b[0mterm3\u001b[0m\u001b[0;34m)\u001b[0m\u001b[0;34m**\u001b[0m\u001b[0;34m(\u001b[0m\u001b[0;36m1\u001b[0m\u001b[0;34m/\u001b[0m\u001b[0;34m(\u001b[0m\u001b[0;36m11.\u001b[0m \u001b[0;34m-\u001b[0m \u001b[0;36m2.\u001b[0m\u001b[0;34m*\u001b[0m\u001b[0malpha\u001b[0m\u001b[0;34m)\u001b[0m\u001b[0;34m)\u001b[0m\u001b[0;34m\u001b[0m\u001b[0m\n\u001b[0m\u001b[1;32m    129\u001b[0m \u001b[0;34m\u001b[0m\u001b[0m\n\u001b[1;32m    130\u001b[0m     \u001b[0;32mdef\u001b[0m \u001b[0mcalculate_cross_sections\u001b[0m\u001b[0;34m(\u001b[0m\u001b[0mself\u001b[0m\u001b[0;34m,\u001b[0m \u001b[0mfield\u001b[0m\u001b[0;34m)\u001b[0m\u001b[0;34m:\u001b[0m\u001b[0;34m\u001b[0m\u001b[0m\n",
      "\u001b[0;31mKeyboardInterrupt\u001b[0m: "
     ]
    }
   ],
   "source": [
    "heating_model.constrain_distribution(field,tolerance=1e-2,\n",
    "                                     total_ar_flux=1e7,\n",
    "                                     #sigma_increase=0.5,\n",
    "                                     sigma_decrease=1e-2,\n",
    "                                     max_iterations=30,verbose=True)"
   ]
  },
  {
   "cell_type": "code",
   "execution_count": null,
   "metadata": {},
   "outputs": [],
   "source": [
    "field.configure_loop_simulations(ebtel_interface)"
   ]
  },
  {
   "cell_type": "code",
   "execution_count": null,
   "metadata": {},
   "outputs": [],
   "source": [
    "def ebtel_runner(loop):\n",
    "    subprocess.call([os.path.join('/storage-home/w/wtb2/codes/','ebtelPlusPlus/bin/ebtel++.run'),\n",
    "                     '-c',loop.hydro_configuration['config_filename']])"
   ]
  },
  {
   "cell_type": "code",
   "execution_count": null,
   "metadata": {
    "collapsed": true
   },
   "outputs": [],
   "source": [
    "runs = pool.map_async(ebtel_runner,field.loops)\n",
    "runs.wait()"
   ]
  },
  {
   "cell_type": "code",
   "execution_count": null,
   "metadata": {},
   "outputs": [],
   "source": [
    "field.load_loop_simulations(ebtel_interface,\n",
    "                            savefile='/storage-home/w/wtb2/data/timelag_synthesis_v2/low_frequency_lower_energy/loop_parameters.h5'\n",
    "                           )"
   ]
  },
  {
   "cell_type": "code",
   "execution_count": null,
   "metadata": {},
   "outputs": [],
   "source": [
    "fig,axes = plt.subplots(2,1,figsize=(20,10),sharex=True)\n",
    "plt.subplots_adjust(hspace=0.)\n",
    "for loop in field.loops[::5]:\n",
    "    axes[0].plot(loop.time,loop.electron_temperature[:,0].to(u.MK),color='C0',alpha=0.05)\n",
    "    axes[0].plot(loop.time,loop.ion_temperature[:,0].to(u.MK),color='C2',alpha=0.05)\n",
    "    axes[1].plot(loop.time,loop.density[:,0]/1e9,color='C0',alpha=0.1)\n",
    "axes[0].set_xlim(0,base_config['total_time'])\n",
    "#axes[0].set_ylim(0,20)\n",
    "#axes[1].set_ylim(0,20)\n",
    "axes[0].set_ylabel(r'$T$ [MK]')\n",
    "axes[1].set_ylabel(r'$n$ [10$^9$ cm$^{-3}$]')\n",
    "axes[1].set_xlabel(r'$t$ [s]')"
   ]
  },
  {
   "cell_type": "markdown",
   "metadata": {},
   "source": [
    "## Sandbox"
   ]
  },
  {
   "cell_type": "code",
   "execution_count": 25,
   "metadata": {},
   "outputs": [
    {
     "data": {
      "image/png": "[encoded data removed]",
      "text/plain": [
       "<matplotlib.figure.Figure at 0x7f038e3cda58>"
      ]
     },
     "metadata": {},
     "output_type": "display_data"
    }
   ],
   "source": [
    "plt.hist(\n",
    "    [l.field_strength.to(u.G).min().value for l in field.loops], histtype='step', lw=2, bins='fd',log=True,\n",
    ");\n",
    "plt.hist(\n",
    "    [l.field_strength.to(u.G).max().value for l in field.loops], histtype='step', lw=2, bins='fd',log=True,\n",
    ");\n",
    "plt.hist(\n",
    "    [l.field_strength.to(u.G).mean().value for l in field.loops], histtype='step', lw=2, bins='fd',log=True,\n",
    ");\n",
    "plt.xscale('log')"
   ]
  },
  {
   "cell_type": "code",
   "execution_count": null,
   "metadata": {},
   "outputs": [],
   "source": []
  }
 ],
 "metadata": {
  "kernelspec": {
   "display_name": "Python [conda env:synthesizar]",
   "language": "python",
   "name": "conda-env-synthesizar-py"
  },
  "language_info": {
   "codemirror_mode": {
    "name": "ipython",
    "version": 3
   },
   "file_extension": ".py",
   "mimetype": "text/x-python",
   "name": "python",
   "nbconvert_exporter": "python",
   "pygments_lexer": "ipython3",
   "version": "3.6.4"
  }
 },
 "nbformat": 4,
 "nbformat_minor": 2
}
