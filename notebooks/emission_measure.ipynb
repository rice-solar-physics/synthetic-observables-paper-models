{
 "cells": [
  {
   "cell_type": "markdown",
   "metadata": {},
   "source": [
    "# Emission Measure\n",
    "In this notebook, we'll generate the emission measure slope maps for each of our heating cases and save them as FITS files."
   ]
  },
  {
   "cell_type": "code",
   "execution_count": 1,
   "metadata": {},
   "outputs": [],
   "source": [
    "import os\n",
    "import sys\n",
    "import glob\n",
    "import copy\n",
    "\n",
    "import numpy as np\n",
    "from scipy.interpolate import splev\n",
    "import matplotlib\n",
    "import matplotlib.pyplot as plt\n",
    "import astropy.units as u\n",
    "from astropy.coordinates import SkyCoord\n",
    "import distributed\n",
    "\n",
    "import synthesizAR\n",
    "from synthesizAR.instruments import InstrumentSDOAIA\n",
    "from synthesizAR.analysis import DistributedAIACollection,DistributedAIACube\n",
    "from synthesizAR.analysis.dem import EMCube\n",
    "\n",
    "sys.path.append('../scripts/')\n",
    "from dem import HannahKontarModel, make_slope_map_tpeak\n",
    "\n",
    "import warnings\n",
    "warnings.filterwarnings('ignore',category=UserWarning,)\n",
    "\n",
    "%matplotlib inline"
   ]
  },
  {
   "cell_type": "code",
   "execution_count": 2,
   "metadata": {},
   "outputs": [
    {
     "data": {
      "text/html": [
       "<table style=\"border: 2px solid white;\">\n",
       "<tr>\n",
       "<td style=\"vertical-align: top; border: 0px solid white\">\n",
       "<h3>Client</h3>\n",
       "<ul>\n",
       "  <li><b>Scheduler: </b>tcp://127.0.0.1:34228\n",
       "  <li><b>Dashboard: </b><a href='http://127.0.0.1:8787/status' target='_blank'>http://127.0.0.1:8787/status</a>\n",
       "</ul>\n",
       "</td>\n",
       "<td style=\"vertical-align: top; border: 0px solid white\">\n",
       "<h3>Cluster</h3>\n",
       "<ul>\n",
       "  <li><b>Workers: </b>32</li>\n",
       "  <li><b>Cores: </b>64</li>\n",
       "  <li><b>Memory: </b>270.38 GB</li>\n",
       "</ul>\n",
       "</td>\n",
       "</tr>\n",
       "</table>"
      ],
      "text/plain": [
       "<Client: scheduler='tcp://127.0.0.1:34228' processes=32 cores=64>"
      ]
     },
     "execution_count": 2,
     "metadata": {},
     "output_type": "execute_result"
    }
   ],
   "source": [
    "cluster = distributed.LocalCluster(n_workers=32,threads_per_worker=2)\n",
    "client = distributed.Client(cluster)\n",
    "client"
   ]
  },
  {
   "cell_type": "markdown",
   "metadata": {},
   "source": [
    "First, read in the model and observational data. For now, we'll just take a time-average. It may be better to time-average in chunks though still not completely sure about that..."
   ]
  },
  {
   "cell_type": "code",
   "execution_count": 3,
   "metadata": {},
   "outputs": [],
   "source": [
    "intensity_file_format = '/storage-home/w/wtb2/data/timelag_synthesis_v2/{}/nei/SDO_AIA/{}/map_t{:06d}.fits'\n",
    "emslope_file_format = '/storage-home/w/wtb2/projects/synthetic-observables-paper-models/paper/data/{}/em_slope.fits'"
   ]
  },
  {
   "cell_type": "markdown",
   "metadata": {},
   "source": [
    "Next, set up the temperature bins."
   ]
  },
  {
   "cell_type": "code",
   "execution_count": 4,
   "metadata": {},
   "outputs": [],
   "source": [
    "temperature_bin_edges = 10.**np.arange(5.5,7.3,0.1) * u.K\n",
    "temperature_bin_centers = (temperature_bin_edges[1:] + temperature_bin_edges[:-1])/2."
   ]
  },
  {
   "cell_type": "markdown",
   "metadata": {},
   "source": [
    "And calculate the instrument responses."
   ]
  },
  {
   "cell_type": "code",
   "execution_count": 9,
   "metadata": {},
   "outputs": [],
   "source": [
    "aia = InstrumentSDOAIA([0,1]*u.s,None)"
   ]
  },
  {
   "cell_type": "code",
   "execution_count": 10,
   "metadata": {},
   "outputs": [],
   "source": [
    "responses = [splev(temperature_bin_centers.value, c['temperature_response_spline']) for c in aia.channels]"
   ]
  },
  {
   "cell_type": "markdown",
   "metadata": {},
   "source": [
    "Now, we'll go through each heating case and compute the emission measure distribution."
   ]
  },
  {
   "cell_type": "markdown",
   "metadata": {},
   "source": [
    "### High"
   ]
  },
  {
   "cell_type": "code",
   "execution_count": 11,
   "metadata": {},
   "outputs": [],
   "source": [
    "cube = DistributedAIACollection(*[DistributedAIACube.from_files(\n",
    "    [intensity_file_format.format('high_frequency', c['name'], i) for i in range(500,2500)]) for c in aia.channels])"
   ]
  },
  {
   "cell_type": "code",
   "execution_count": 16,
   "metadata": {},
   "outputs": [],
   "source": [
    "maps = [cube[c['name']].average() for c in aia.channels]"
   ]
  },
  {
   "cell_type": "code",
   "execution_count": 17,
   "metadata": {},
   "outputs": [],
   "source": [
    "hk_model = HannahKontarModel(maps, temperature_bin_edges, responses,\n",
    "                             dem_path='/storage-home/w/wtb2/codes/demreg/idl')"
   ]
  },
  {
   "cell_type": "code",
   "execution_count": 18,
   "metadata": {},
   "outputs": [],
   "source": [
    "em_high = hk_model.fit(\n",
    "    alpha=1,\n",
    "    increase_alpha=1.1,\n",
    "    verbose=False,\n",
    "    n_sample=len(cube[0].maps)\n",
    ")"
   ]
  },
  {
   "cell_type": "code",
   "execution_count": 37,
   "metadata": {},
   "outputs": [],
   "source": [
    "slope_map = make_slope_map_tpeak(\n",
    "    em_high,\n",
    "    Tmin=10**(6)*u.K,\n",
    "    safety=10**(0.3),\n",
    "    rsquared_tolerance=0.9\n",
    ")\n",
    "slope_map.save(emslope_file_format.format('high_frequency'),overwrite=True)"
   ]
  },
  {
   "cell_type": "markdown",
   "metadata": {},
   "source": [
    "## Intermediate "
   ]
  },
  {
   "cell_type": "code",
   "execution_count": 24,
   "metadata": {},
   "outputs": [],
   "source": [
    "cube = DistributedAIACollection(*[DistributedAIACube.from_files(\n",
    "    [intensity_file_format.format('intermediate_frequency', c['name'], i) for i in range(500,2500)]) for c in aia.channels])"
   ]
  },
  {
   "cell_type": "code",
   "execution_count": 25,
   "metadata": {},
   "outputs": [],
   "source": [
    "maps = [cube[c['name']].average() for c in aia.channels]"
   ]
  },
  {
   "cell_type": "code",
   "execution_count": 26,
   "metadata": {},
   "outputs": [],
   "source": [
    "hk_model = HannahKontarModel(\n",
    "    maps,\n",
    "    temperature_bin_edges,\n",
    "    responses,\n",
    "    dem_path='/storage-home/w/wtb2/codes/demreg/idl'\n",
    ")"
   ]
  },
  {
   "cell_type": "code",
   "execution_count": 27,
   "metadata": {},
   "outputs": [],
   "source": [
    "em_intermediate = hk_model.fit(\n",
    "    alpha=1,\n",
    "    increase_alpha=1.1,\n",
    "    verbose=False,\n",
    "    n_sample=len(cube[0].maps)\n",
    ")"
   ]
  },
  {
   "cell_type": "code",
   "execution_count": 39,
   "metadata": {},
   "outputs": [
    {
     "name": "stderr",
     "output_type": "stream",
     "text": [
      "/storage-home/w/wtb2/anaconda3/envs/synthetic-observables/lib/python3.6/site-packages/synthesizAR-0.1.dev856-py3.6.egg/synthesizAR/analysis/dem.py:125: RuntimeWarning: divide by zero encountered in log10\n",
      "  em_fit = np.log10(data.value.reshape((np.prod(data.shape[:2]),) + data.shape[2:]).T)\n",
      "/storage-home/w/wtb2/anaconda3/envs/synthetic-observables/lib/python3.6/site-packages/synthesizAR-0.1.dev856-py3.6.egg/synthesizAR/analysis/dem.py:133: RuntimeWarning: divide by zero encountered in true_divide\n",
      "  rsquared = 1. - rss/rss_flat\n",
      "/storage-home/w/wtb2/anaconda3/envs/synthetic-observables/lib/python3.6/site-packages/synthesizAR-0.1.dev856-py3.6.egg/synthesizAR/analysis/dem.py:133: RuntimeWarning: invalid value encountered in true_divide\n",
      "  rsquared = 1. - rss/rss_flat\n",
      "/storage-home/w/wtb2/anaconda3/envs/synthetic-observables/lib/python3.6/site-packages/synthesizAR-0.1.dev856-py3.6.egg/synthesizAR/analysis/dem.py:134: RuntimeWarning: invalid value encountered in less\n",
      "  rsquared_mask = rsquared.reshape(data.shape[:2]) < rsquared_tolerance\n"
     ]
    }
   ],
   "source": [
    "slope_map = make_slope_map_tpeak(\n",
    "    em_intermediate,\n",
    "    Tmin=10**(6)*u.K,\n",
    "    safety=10**(0.3),\n",
    "    rsquared_tolerance=0.9\n",
    ")\n",
    "slope_map.save(emslope_file_format.format('intermediate_frequency'),overwrite=True)"
   ]
  },
  {
   "cell_type": "markdown",
   "metadata": {},
   "source": [
    "## Low"
   ]
  },
  {
   "cell_type": "code",
   "execution_count": 30,
   "metadata": {},
   "outputs": [],
   "source": [
    "cube = DistributedAIACollection(*[DistributedAIACube.from_files(\n",
    "    [intensity_file_format.format('low_frequency', c['name'], i) for i in range(500,2500)]) for c in aia.channels])"
   ]
  },
  {
   "cell_type": "code",
   "execution_count": 31,
   "metadata": {},
   "outputs": [],
   "source": [
    "maps = [cube[c['name']].average() for c in aia.channels]"
   ]
  },
  {
   "cell_type": "code",
   "execution_count": 32,
   "metadata": {},
   "outputs": [],
   "source": [
    "hk_model = HannahKontarModel(\n",
    "    maps,\n",
    "    temperature_bin_edges,\n",
    "    responses,\n",
    "    dem_path='/storage-home/w/wtb2/codes/demreg/idl'\n",
    ")"
   ]
  },
  {
   "cell_type": "code",
   "execution_count": 33,
   "metadata": {},
   "outputs": [],
   "source": [
    "em_low = hk_model.fit(\n",
    "    alpha=1,\n",
    "    increase_alpha=1.1,\n",
    "    verbose=False,\n",
    "    n_sample=len(cube[0].maps)\n",
    ")"
   ]
  },
  {
   "cell_type": "code",
   "execution_count": 40,
   "metadata": {},
   "outputs": [],
   "source": [
    "slope_map = make_slope_map_tpeak(\n",
    "    em_low,\n",
    "    Tmin=10**(6)*u.K,\n",
    "    safety=10**(0.3),\n",
    "    rsquared_tolerance=0.9\n",
    ")\n",
    "slope_map.save(emslope_file_format.format('low_frequency'),overwrite=True)"
   ]
  },
  {
   "cell_type": "code",
   "execution_count": null,
   "metadata": {},
   "outputs": [],
   "source": []
  }
 ],
 "metadata": {
  "kernelspec": {
   "display_name": "Python [conda env:synthetic-observables]",
   "language": "python",
   "name": "conda-env-synthetic-observables-py"
  },
  "language_info": {
   "codemirror_mode": {
    "name": "ipython",
    "version": 3
   },
   "file_extension": ".py",
   "mimetype": "text/x-python",
   "name": "python",
   "nbconvert_exporter": "python",
   "pygments_lexer": "ipython3",
   "version": "3.6.7"
  }
 },
 "nbformat": 4,
 "nbformat_minor": 2
}
