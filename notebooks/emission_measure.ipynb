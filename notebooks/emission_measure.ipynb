{
 "cells": [
  {
   "cell_type": "markdown",
   "metadata": {},
   "source": [
    "# Emission Measure\n",
    "In this notebook, we'll generate the emission measure slope maps for each of our heating cases and save them as FITS files."
   ]
  },
  {
   "cell_type": "code",
   "execution_count": 2,
   "metadata": {},
   "outputs": [],
   "source": [
    "import os\n",
    "import sys\n",
    "import glob\n",
    "import copy\n",
    "\n",
    "import numpy as np\n",
    "from scipy.interpolate import splev\n",
    "import matplotlib\n",
    "import matplotlib.pyplot as plt\n",
    "from sunpy.map import Map,GenericMap\n",
    "import astropy.units as u\n",
    "from astropy.visualization import ImageNormalize,SqrtStretch,AsinhStretch\n",
    "from astropy.coordinates import SkyCoord\n",
    "import distributed\n",
    "import dask.array as da\n",
    "\n",
    "import synthesizAR\n",
    "from synthesizAR.instruments import InstrumentSDOAIA\n",
    "from synthesizAR.analysis import DistributedAIACollection,DistributedAIACube\n",
    "from synthesizAR.analysis.dem import EMCube\n",
    "\n",
    "sys.path.append('../scripts/')\n",
    "from dem import HannahKontarModel\n",
    "\n",
    "import warnings\n",
    "warnings.filterwarnings('ignore',category=UserWarning,)\n",
    "\n",
    "%matplotlib inline"
   ]
  },
  {
   "cell_type": "code",
   "execution_count": 3,
   "metadata": {},
   "outputs": [
    {
     "data": {
      "text/html": [
       "<table style=\"border: 2px solid white;\">\n",
       "<tr>\n",
       "<td style=\"vertical-align: top; border: 0px solid white\">\n",
       "<h3>Client</h3>\n",
       "<ul>\n",
       "  <li><b>Scheduler: </b>tcp://127.0.0.1:43297\n",
       "  <li><b>Dashboard: </b><a href='http://127.0.0.1:8787/status' target='_blank'>http://127.0.0.1:8787/status</a>\n",
       "</ul>\n",
       "</td>\n",
       "<td style=\"vertical-align: top; border: 0px solid white\">\n",
       "<h3>Cluster</h3>\n",
       "<ul>\n",
       "  <li><b>Workers: </b>32</li>\n",
       "  <li><b>Cores: </b>64</li>\n",
       "  <li><b>Memory: </b>270.38 GB</li>\n",
       "</ul>\n",
       "</td>\n",
       "</tr>\n",
       "</table>"
      ],
      "text/plain": [
       "<Client: scheduler='tcp://127.0.0.1:43297' processes=32 cores=64>"
      ]
     },
     "execution_count": 3,
     "metadata": {},
     "output_type": "execute_result"
    }
   ],
   "source": [
    "cluster = distributed.LocalCluster(n_workers=32,threads_per_worker=2)\n",
    "client = distributed.Client(cluster)\n",
    "client"
   ]
  },
  {
   "cell_type": "markdown",
   "metadata": {},
   "source": [
    "First, read in the model and observational data. For now, we'll just take a time-average. It may be better to time-average in chunks though still not completely sure about that..."
   ]
  },
  {
   "cell_type": "code",
   "execution_count": 33,
   "metadata": {},
   "outputs": [],
   "source": [
    "channels = [94,131,171,193,211,335]\n",
    "intensity_file_format = '/storage-home/w/wtb2/data/timelag_synthesis_v2/{}/nei/SDO_AIA/{}/map_t{:06d}.fits'\n",
    "emslope_file_format = '/storage-home/w/wtb2/projects/synthetic-observables-paper-models/paper/data/{}/em_slope.fits'"
   ]
  },
  {
   "cell_type": "markdown",
   "metadata": {},
   "source": [
    "Next, set up the temperature bins."
   ]
  },
  {
   "cell_type": "code",
   "execution_count": 6,
   "metadata": {},
   "outputs": [],
   "source": [
    "temperature_bin_edges = 10.**np.arange(5.5,7.5,0.1) * u.K\n",
    "temperature_bin_centers = (temperature_bin_edges[1:] + temperature_bin_edges[:-1])/2."
   ]
  },
  {
   "cell_type": "markdown",
   "metadata": {},
   "source": [
    "And calculate the instrument responses."
   ]
  },
  {
   "cell_type": "code",
   "execution_count": 7,
   "metadata": {},
   "outputs": [],
   "source": [
    "aia = InstrumentSDOAIA([0,1]*u.s,None)"
   ]
  },
  {
   "cell_type": "code",
   "execution_count": 8,
   "metadata": {},
   "outputs": [],
   "source": [
    "responses = [splev(temperature_bin_centers.value, c['temperature_response_spline']) for c in aia.channels]"
   ]
  },
  {
   "cell_type": "markdown",
   "metadata": {},
   "source": [
    "Now, we'll go through each heating case and compute the emission measure distribution."
   ]
  },
  {
   "cell_type": "markdown",
   "metadata": {},
   "source": [
    "### High"
   ]
  },
  {
   "cell_type": "code",
   "execution_count": 9,
   "metadata": {},
   "outputs": [],
   "source": [
    "cube = DistributedAIACollection(*[DistributedAIACube.from_files(\n",
    "    [intensity_file_format.format('high_frequency', c, i) for i in range(500,2500)]) for c in channels])"
   ]
  },
  {
   "cell_type": "code",
   "execution_count": 10,
   "metadata": {},
   "outputs": [],
   "source": [
    "maps = [cube[c].average() for c in channels]"
   ]
  },
  {
   "cell_type": "code",
   "execution_count": 11,
   "metadata": {},
   "outputs": [],
   "source": [
    "hk_model = HannahKontarModel(maps, temperature_bin_edges, responses,\n",
    "                             dem_path='/storage-home/w/wtb2/codes/demreg/idl')"
   ]
  },
  {
   "cell_type": "code",
   "execution_count": 12,
   "metadata": {},
   "outputs": [
    {
     "name": "stdout",
     "output_type": "stream",
     "text": [
      "IDL 8.7.0 (linux x86_64 m64).\n",
      "(c) 2018, Harris Geospatial Solutions, Inc.\n",
      "\n",
      "Licensed for use by: Rice University (Main) via idl.lic.rice.edu:7070\n",
      "License: 401801:****-****-****-AE5F\n",
      "A new version is available: IDL 8.7.1\n",
      "https://harrisgeospatial.flexnetoperations.com\n",
      " \n",
      "% Compiled module: SSW_PATH.\n",
      "% Compiled module: SSW_INSTRUMENTS.\n",
      "% Compiled module: WC_WHERE.\n",
      "% Compiled module: PATHFIX.\n",
      "% Compiled module: UNIQO.\n",
      "% Compiled module: STRJUSTIFY.\n",
      "% Compiled module: UNIQ.\n",
      "% Compiled module: DEFAULT.\n",
      "% Compiled module: PRSTR.\n",
      "% SSW_PATH: Number of paths changed from 95 to 111\n",
      "% Compiled module: HISSW_PROCEDURE.\n",
      "% Compiled module: DN2DEM_POS_NB.\n",
      "% Compiled module: GET_EDGES.\n",
      "% Compiled module: EDGE_PRODUCTS.\n",
      "% Compiled module: INTERPOL.\n",
      "% Compiled module: DEMMAP_POS.\n",
      "% Compiled module: DEM_INV_GSVDCSQ.\n",
      "% Compiled module: DEM_INV_REG_PARAMETER_MAP.\n",
      "% Program caused arithmetic error: Floating divide by 0\n",
      "% Program caused arithmetic error: Floating illegal operand\n",
      "\n",
      "SSW  setup will include: <gen sdo/aia>\n",
      "\n",
      "Type <sswidl> to start SSW IDL\n",
      "--------------------------------------------------------\n",
      "Running SSW, Last Updated: Wed Nov 2 22:22:51 GMT 2005\n",
      " \n",
      "PROBLEMS? - e-mail TO: freeland@penumbra.nascom.nasa.gov\n",
      "--------------------------------------------------------\n",
      "Executing SSW IDL_STARTUP for: GEN\n",
      "Executing SSW IDL_STARTUP for: SITE\n",
      "Including Paths:\n",
      " -------------------------------------\n",
      "| $SSW/sdo/gen/idl/utilities          |\n",
      "| $SSW/sdo/gen/idl/attitude           |\n",
      "| $SSW/hinode/gen/idl/pointing        |\n",
      "| $SSW/hinode/gen/idl/osdc            |\n",
      "| $SSW/sdo/aia/idl/calibration        |\n",
      "| $SSW/sdo/aia/idl/psf/PRO            |\n",
      "| $SSW/sdo/aia/idl/util               |\n",
      "| $SSW/sdo/aia/idl/pubrel             |\n",
      "| $SSW/sdo/aia/idl/response           |\n",
      "| $SSW/hinode/xrt/idl/info            |\n",
      "| $SSW/hinode/xrt/idl/ops             |\n",
      "| $SSW/hinode/xrt/idl/objects         |\n",
      "| $SSW/hinode/xrt/idl/util            |\n",
      "| $SSW/hinode/xrt/idl/response/j      |\n",
      "| $SSW/hinode/xrt/idl/response/contam |\n",
      "| $SSW/hinode/xrt/idl/response        |\n",
      " -------------------------------------\n",
      "      0 of  281817,   0.0%\n",
      "   5000 of  281817,   1.8%\n",
      "  10000 of  281817,   3.5%\n",
      "  15000 of  281817,   5.3%\n",
      "  20000 of  281817,   7.1%\n",
      "  25000 of  281817,   8.9%\n",
      "  30000 of  281817,  10.6%\n",
      "  35000 of  281817,  12.4%\n",
      "  40000 of  281817,  14.2%\n",
      "  45000 of  281817,  16.0%\n",
      "  50000 of  281817,  17.7%\n",
      "  55000 of  281817,  19.5%\n",
      "  60000 of  281817,  21.3%\n",
      "  65000 of  281817,  23.1%\n",
      "  70000 of  281817,  24.8%\n",
      "  75000 of  281817,  26.6%\n",
      "  80000 of  281817,  28.4%\n",
      "  85000 of  281817,  30.2%\n",
      "  90000 of  281817,  31.9%\n",
      "  95000 of  281817,  33.7%\n",
      " 100000 of  281817,  35.5%\n",
      " 105000 of  281817,  37.3%\n",
      " 110000 of  281817,  39.0%\n",
      " 115000 of  281817,  40.8%\n",
      " 120000 of  281817,  42.6%\n",
      " 125000 of  281817,  44.4%\n",
      " 130000 of  281817,  46.1%\n",
      " 135000 of  281817,  47.9%\n",
      " 140000 of  281817,  49.7%\n",
      " 145000 of  281817,  51.5%\n",
      " 150000 of  281817,  53.2%\n",
      " 155000 of  281817,  55.0%\n",
      " 160000 of  281817,  56.8%\n",
      " 165000 of  281817,  58.5%\n",
      " 170000 of  281817,  60.3%\n",
      " 175000 of  281817,  62.1%\n",
      " 180000 of  281817,  63.9%\n",
      " 185000 of  281817,  65.6%\n",
      " 190000 of  281817,  67.4%\n",
      " 195000 of  281817,  69.2%\n",
      " 200000 of  281817,  71.0%\n",
      " 205000 of  281817,  72.7%\n",
      " 210000 of  281817,  74.5%\n",
      " 215000 of  281817,  76.3%\n",
      " 220000 of  281817,  78.1%\n",
      " 225000 of  281817,  79.8%\n",
      " 230000 of  281817,  81.6%\n",
      " 235000 of  281817,  83.4%\n",
      " 240000 of  281817,  85.2%\n",
      " 245000 of  281817,  86.9%\n",
      " 250000 of  281817,  88.7%\n",
      " 255000 of  281817,  90.5%\n",
      " 260000 of  281817,  92.3%\n",
      " 265000 of  281817,  94.0%\n",
      " 270000 of  281817,  95.8%\n",
      " 275000 of  281817,  97.6%\n",
      " 280000 of  281817,  99.4%\n",
      "100% Done\n",
      "\n"
     ]
    }
   ],
   "source": [
    "em_high = hk_model.fit(percent_error=0.2)"
   ]
  },
  {
   "cell_type": "code",
   "execution_count": 41,
   "metadata": {},
   "outputs": [],
   "source": [
    "slope_map = em_high.make_slope_map(\n",
    "    temperature_bounds=[10**(5.8), 10**(6.4)]*u.K,\n",
    "    em_threshold=1*u.cm**-5,\n",
    "    rsquared_tolerance=0.9\n",
    ")\n",
    "slope_map.save(emslope_file_format.format('high_frequency'))"
   ]
  },
  {
   "cell_type": "markdown",
   "metadata": {},
   "source": [
    "## Intermediate "
   ]
  },
  {
   "cell_type": "code",
   "execution_count": 27,
   "metadata": {},
   "outputs": [],
   "source": [
    "cube = DistributedAIACollection(*[DistributedAIACube.from_files(\n",
    "    [intensity_file_format.format('intermediate_frequency', c, i) for i in range(500,2500)]) for c in channels])"
   ]
  },
  {
   "cell_type": "code",
   "execution_count": 28,
   "metadata": {},
   "outputs": [],
   "source": [
    "maps = [cube[c].average() for c in channels]"
   ]
  },
  {
   "cell_type": "code",
   "execution_count": 29,
   "metadata": {},
   "outputs": [],
   "source": [
    "hk_model = HannahKontarModel(maps, temperature_bin_edges, responses,\n",
    "                             dem_path='/storage-home/w/wtb2/codes/demreg/idl')"
   ]
  },
  {
   "cell_type": "code",
   "execution_count": 30,
   "metadata": {},
   "outputs": [
    {
     "name": "stdout",
     "output_type": "stream",
     "text": [
      "IDL 8.7.0 (linux x86_64 m64).\n",
      "(c) 2018, Harris Geospatial Solutions, Inc.\n",
      "\n",
      "Licensed for use by: Rice University (Main) via idl.lic.rice.edu:7070\n",
      "License: 401801:****-****-****-AE5F\n",
      "A new version is available: IDL 8.7.1\n",
      "https://harrisgeospatial.flexnetoperations.com\n",
      " \n",
      "% Compiled module: SSW_PATH.\n",
      "% Compiled module: SSW_INSTRUMENTS.\n",
      "% Compiled module: WC_WHERE.\n",
      "% Compiled module: PATHFIX.\n",
      "% Compiled module: UNIQO.\n",
      "% Compiled module: STRJUSTIFY.\n",
      "% Compiled module: UNIQ.\n",
      "% Compiled module: DEFAULT.\n",
      "% Compiled module: PRSTR.\n",
      "% SSW_PATH: Number of paths changed from 95 to 111\n",
      "% Compiled module: HISSW_PROCEDURE.\n",
      "% Compiled module: DN2DEM_POS_NB.\n",
      "% Compiled module: GET_EDGES.\n",
      "% Compiled module: EDGE_PRODUCTS.\n",
      "% Compiled module: INTERPOL.\n",
      "% Compiled module: DEMMAP_POS.\n",
      "% Compiled module: DEM_INV_GSVDCSQ.\n",
      "% Compiled module: DEM_INV_REG_PARAMETER_MAP.\n",
      "% Program caused arithmetic error: Floating divide by 0\n",
      "% Program caused arithmetic error: Floating illegal operand\n",
      "\n",
      "SSW  setup will include: <gen sdo/aia>\n",
      "\n",
      "Type <sswidl> to start SSW IDL\n",
      "--------------------------------------------------------\n",
      "Running SSW, Last Updated: Wed Nov 2 22:22:51 GMT 2005\n",
      " \n",
      "PROBLEMS? - e-mail TO: freeland@penumbra.nascom.nasa.gov\n",
      "--------------------------------------------------------\n",
      "Executing SSW IDL_STARTUP for: GEN\n",
      "Executing SSW IDL_STARTUP for: SITE\n",
      "Including Paths:\n",
      " -------------------------------------\n",
      "| $SSW/sdo/gen/idl/utilities          |\n",
      "| $SSW/sdo/gen/idl/attitude           |\n",
      "| $SSW/hinode/gen/idl/pointing        |\n",
      "| $SSW/hinode/gen/idl/osdc            |\n",
      "| $SSW/sdo/aia/idl/calibration        |\n",
      "| $SSW/sdo/aia/idl/psf/PRO            |\n",
      "| $SSW/sdo/aia/idl/util               |\n",
      "| $SSW/sdo/aia/idl/pubrel             |\n",
      "| $SSW/sdo/aia/idl/response           |\n",
      "| $SSW/hinode/xrt/idl/info            |\n",
      "| $SSW/hinode/xrt/idl/ops             |\n",
      "| $SSW/hinode/xrt/idl/objects         |\n",
      "| $SSW/hinode/xrt/idl/util            |\n",
      "| $SSW/hinode/xrt/idl/response/j      |\n",
      "| $SSW/hinode/xrt/idl/response/contam |\n",
      "| $SSW/hinode/xrt/idl/response        |\n",
      " -------------------------------------\n",
      "      0 of  281817,   0.0%\n",
      "   5000 of  281817,   1.8%\n",
      "  10000 of  281817,   3.5%\n",
      "  15000 of  281817,   5.3%\n",
      "  20000 of  281817,   7.1%\n",
      "  25000 of  281817,   8.9%\n",
      "  30000 of  281817,  10.6%\n",
      "  35000 of  281817,  12.4%\n",
      "  40000 of  281817,  14.2%\n",
      "  45000 of  281817,  16.0%\n",
      "  50000 of  281817,  17.7%\n",
      "  55000 of  281817,  19.5%\n",
      "  60000 of  281817,  21.3%\n",
      "  65000 of  281817,  23.1%\n",
      "  70000 of  281817,  24.8%\n",
      "  75000 of  281817,  26.6%\n",
      "  80000 of  281817,  28.4%\n",
      "  85000 of  281817,  30.2%\n",
      "  90000 of  281817,  31.9%\n",
      "  95000 of  281817,  33.7%\n",
      " 100000 of  281817,  35.5%\n",
      " 105000 of  281817,  37.3%\n",
      " 110000 of  281817,  39.0%\n",
      " 115000 of  281817,  40.8%\n",
      " 120000 of  281817,  42.6%\n",
      " 125000 of  281817,  44.4%\n",
      " 130000 of  281817,  46.1%\n",
      " 135000 of  281817,  47.9%\n",
      " 140000 of  281817,  49.7%\n",
      " 145000 of  281817,  51.5%\n",
      " 150000 of  281817,  53.2%\n",
      " 155000 of  281817,  55.0%\n",
      " 160000 of  281817,  56.8%\n",
      " 165000 of  281817,  58.5%\n",
      " 170000 of  281817,  60.3%\n",
      " 175000 of  281817,  62.1%\n",
      " 180000 of  281817,  63.9%\n",
      " 185000 of  281817,  65.6%\n",
      " 190000 of  281817,  67.4%\n",
      " 195000 of  281817,  69.2%\n",
      " 200000 of  281817,  71.0%\n",
      " 205000 of  281817,  72.7%\n",
      " 210000 of  281817,  74.5%\n",
      " 215000 of  281817,  76.3%\n",
      " 220000 of  281817,  78.1%\n",
      " 225000 of  281817,  79.8%\n",
      " 230000 of  281817,  81.6%\n",
      " 235000 of  281817,  83.4%\n",
      " 240000 of  281817,  85.2%\n",
      " 245000 of  281817,  86.9%\n",
      " 250000 of  281817,  88.7%\n",
      " 255000 of  281817,  90.5%\n",
      " 260000 of  281817,  92.3%\n",
      " 265000 of  281817,  94.0%\n",
      " 270000 of  281817,  95.8%\n",
      " 275000 of  281817,  97.6%\n",
      " 280000 of  281817,  99.4%\n",
      "100% Done\n",
      "\n"
     ]
    }
   ],
   "source": [
    "em_intermediate = hk_model.fit(percent_error=0.2)"
   ]
  },
  {
   "cell_type": "code",
   "execution_count": 42,
   "metadata": {},
   "outputs": [],
   "source": [
    "slope_map = em_intermediate.make_slope_map(\n",
    "    temperature_bounds=[10**(5.8),10**(6.4)]*u.K,\n",
    "    em_threshold=1*u.cm**-5,\n",
    "    rsquared_tolerance=0.9\n",
    ")\n",
    "slope_map.save(emslope_file_format.format('intermediate_frequency'))"
   ]
  },
  {
   "cell_type": "markdown",
   "metadata": {},
   "source": [
    "## Low"
   ]
  },
  {
   "cell_type": "code",
   "execution_count": 34,
   "metadata": {},
   "outputs": [],
   "source": [
    "cube = DistributedAIACollection(*[DistributedAIACube.from_files(\n",
    "    [intensity_file_format.format('low_frequency', c, i) for i in range(500,2500)]) for c in channels])"
   ]
  },
  {
   "cell_type": "code",
   "execution_count": 35,
   "metadata": {},
   "outputs": [],
   "source": [
    "maps = [cube[c].average() for c in channels]"
   ]
  },
  {
   "cell_type": "code",
   "execution_count": 36,
   "metadata": {},
   "outputs": [],
   "source": [
    "hk_model = HannahKontarModel(maps, temperature_bin_edges, responses,\n",
    "                             dem_path='/storage-home/w/wtb2/codes/demreg/idl')"
   ]
  },
  {
   "cell_type": "code",
   "execution_count": 37,
   "metadata": {},
   "outputs": [
    {
     "name": "stdout",
     "output_type": "stream",
     "text": [
      "IDL 8.7.0 (linux x86_64 m64).\n",
      "(c) 2018, Harris Geospatial Solutions, Inc.\n",
      "\n",
      "Licensed for use by: Rice University (Main) via idl.lic.rice.edu:7070\n",
      "License: 401801:****-****-****-AE5F\n",
      "A new version is available: IDL 8.7.1\n",
      "https://harrisgeospatial.flexnetoperations.com\n",
      " \n",
      "% Compiled module: SSW_PATH.\n",
      "% Compiled module: SSW_INSTRUMENTS.\n",
      "% Compiled module: WC_WHERE.\n",
      "% Compiled module: PATHFIX.\n",
      "% Compiled module: UNIQO.\n",
      "% Compiled module: STRJUSTIFY.\n",
      "% Compiled module: UNIQ.\n",
      "% Compiled module: DEFAULT.\n",
      "% Compiled module: PRSTR.\n",
      "% SSW_PATH: Number of paths changed from 95 to 111\n",
      "% Compiled module: HISSW_PROCEDURE.\n",
      "% Compiled module: DN2DEM_POS_NB.\n",
      "% Compiled module: GET_EDGES.\n",
      "% Compiled module: EDGE_PRODUCTS.\n",
      "% Compiled module: INTERPOL.\n",
      "% Compiled module: DEMMAP_POS.\n",
      "% Compiled module: DEM_INV_GSVDCSQ.\n",
      "% Compiled module: DEM_INV_REG_PARAMETER_MAP.\n",
      "% Program caused arithmetic error: Floating divide by 0\n",
      "% Program caused arithmetic error: Floating illegal operand\n",
      "\n",
      "SSW  setup will include: <gen sdo/aia>\n",
      "\n",
      "Type <sswidl> to start SSW IDL\n",
      "--------------------------------------------------------\n",
      "Running SSW, Last Updated: Wed Nov 2 22:22:51 GMT 2005\n",
      " \n",
      "PROBLEMS? - e-mail TO: freeland@penumbra.nascom.nasa.gov\n",
      "--------------------------------------------------------\n",
      "Executing SSW IDL_STARTUP for: GEN\n",
      "Executing SSW IDL_STARTUP for: SITE\n",
      "Including Paths:\n",
      " -------------------------------------\n",
      "| $SSW/sdo/gen/idl/utilities          |\n",
      "| $SSW/sdo/gen/idl/attitude           |\n",
      "| $SSW/hinode/gen/idl/pointing        |\n",
      "| $SSW/hinode/gen/idl/osdc            |\n",
      "| $SSW/sdo/aia/idl/calibration        |\n",
      "| $SSW/sdo/aia/idl/psf/PRO            |\n",
      "| $SSW/sdo/aia/idl/util               |\n",
      "| $SSW/sdo/aia/idl/pubrel             |\n",
      "| $SSW/sdo/aia/idl/response           |\n",
      "| $SSW/hinode/xrt/idl/info            |\n",
      "| $SSW/hinode/xrt/idl/ops             |\n",
      "| $SSW/hinode/xrt/idl/objects         |\n",
      "| $SSW/hinode/xrt/idl/util            |\n",
      "| $SSW/hinode/xrt/idl/response/j      |\n",
      "| $SSW/hinode/xrt/idl/response/contam |\n",
      "| $SSW/hinode/xrt/idl/response        |\n",
      " -------------------------------------\n",
      "      0 of  281817,   0.0%\n",
      "   5000 of  281817,   1.8%\n",
      "  10000 of  281817,   3.5%\n",
      "  15000 of  281817,   5.3%\n",
      "  20000 of  281817,   7.1%\n",
      "  25000 of  281817,   8.9%\n",
      "  30000 of  281817,  10.6%\n",
      "  35000 of  281817,  12.4%\n",
      "  40000 of  281817,  14.2%\n",
      "  45000 of  281817,  16.0%\n",
      "  50000 of  281817,  17.7%\n",
      "  55000 of  281817,  19.5%\n",
      "  60000 of  281817,  21.3%\n",
      "  65000 of  281817,  23.1%\n",
      "  70000 of  281817,  24.8%\n",
      "  75000 of  281817,  26.6%\n",
      "  80000 of  281817,  28.4%\n",
      "  85000 of  281817,  30.2%\n",
      "  90000 of  281817,  31.9%\n",
      "  95000 of  281817,  33.7%\n",
      " 100000 of  281817,  35.5%\n",
      " 105000 of  281817,  37.3%\n",
      " 110000 of  281817,  39.0%\n",
      " 115000 of  281817,  40.8%\n",
      " 120000 of  281817,  42.6%\n",
      " 125000 of  281817,  44.4%\n",
      " 130000 of  281817,  46.1%\n",
      " 135000 of  281817,  47.9%\n",
      " 140000 of  281817,  49.7%\n",
      " 145000 of  281817,  51.5%\n",
      " 150000 of  281817,  53.2%\n",
      " 155000 of  281817,  55.0%\n",
      " 160000 of  281817,  56.8%\n",
      " 165000 of  281817,  58.5%\n",
      " 170000 of  281817,  60.3%\n",
      " 175000 of  281817,  62.1%\n",
      " 180000 of  281817,  63.9%\n",
      " 185000 of  281817,  65.6%\n",
      " 190000 of  281817,  67.4%\n",
      " 195000 of  281817,  69.2%\n",
      " 200000 of  281817,  71.0%\n",
      " 205000 of  281817,  72.7%\n",
      " 210000 of  281817,  74.5%\n",
      " 215000 of  281817,  76.3%\n",
      " 220000 of  281817,  78.1%\n",
      " 225000 of  281817,  79.8%\n",
      " 230000 of  281817,  81.6%\n",
      " 235000 of  281817,  83.4%\n",
      " 240000 of  281817,  85.2%\n",
      " 245000 of  281817,  86.9%\n",
      " 250000 of  281817,  88.7%\n",
      " 255000 of  281817,  90.5%\n",
      " 260000 of  281817,  92.3%\n",
      " 265000 of  281817,  94.0%\n",
      " 270000 of  281817,  95.8%\n",
      " 275000 of  281817,  97.6%\n",
      " 280000 of  281817,  99.4%\n",
      "100% Done\n",
      "\n"
     ]
    }
   ],
   "source": [
    "em_low = hk_model.fit(percent_error=0.2)"
   ]
  },
  {
   "cell_type": "code",
   "execution_count": 43,
   "metadata": {},
   "outputs": [],
   "source": [
    "slope_map = em_low.make_slope_map(\n",
    "    temperature_bounds=[10**(5.8),10**(6.4)]*u.K,\n",
    "    em_threshold=1*u.cm**-5,\n",
    "    rsquared_tolerance=0.9\n",
    ")\n",
    "slope_map.save(emslope_file_format.format('low_frequency'))"
   ]
  },
  {
   "cell_type": "markdown",
   "metadata": {},
   "source": [
    "## Comparison \n",
    "Make some figures to compare the three cases"
   ]
  },
  {
   "cell_type": "markdown",
   "metadata": {},
   "source": [
    "Plot the three slope maps"
   ]
  },
  {
   "cell_type": "code",
   "execution_count": 47,
   "metadata": {},
   "outputs": [
    {
     "data": {
      "image/png": "[encoded data removed]",
      "text/plain": [
       "<Figure size 432x288 with 4 Axes>"
      ]
     },
     "metadata": {
      "needs_background": "light"
     },
     "output_type": "display_data"
    }
   ],
   "source": [
    "fig = plt.figure()\n",
    "cax = fig.add_axes([0.13, 0.0, 0.77, 0.04])\n",
    "labels=['High','Intermediate','Low']\n",
    "opts = {'cmap': 'viridis', 'vmin': 2, 'vmax': 5, 'title': False, 'annotate': False}\n",
    "slope_opts = {'temperature_bounds': [10**(5.8),10**(6.4)]*u.K,\n",
    "              'em_threshold': 1e23*u.cm**-5,\n",
    "              'rsquared_tolerance': 0.9\n",
    "             }\n",
    "for i,em in enumerate([em_high,em_intermediate,em_low]):\n",
    "    slope_map = em.make_slope_map(**slope_opts)\n",
    "    slope_map = slope_map.submap(SkyCoord(Tx=-365*u.arcsec,Ty=-290*u.arcsec,frame=slope_map.coordinate_frame),\n",
    "                                 SkyCoord(Tx=-230*u.arcsec,Ty=-165*u.arcsec,frame=slope_map.coordinate_frame))\n",
    "    ax = fig.add_subplot(1,len(labels),i+1,projection=slope_map)\n",
    "    im = slope_map.plot(axes=ax,**opts)\n",
    "    ax.grid(alpha=0)\n",
    "    lon,lat = ax.coords\n",
    "    if i > 0:\n",
    "        lon.set_ticks_visible(False)\n",
    "        lon.set_ticklabel_visible(False)\n",
    "        lat.set_ticks_visible(False)\n",
    "        lat.set_ticklabel_visible(False)\n",
    "    else:\n",
    "        lat.set_ticks(number=3)\n",
    "        lon.set_axislabel('Helioprojective Longitude [arcsec]',fontsize=plt.rcParams['axes.labelsize'])\n",
    "        lat.set_axislabel('Helioprojective Latitude [arcsec]',fontsize=plt.rcParams['axes.labelsize'])\n",
    "        lat.set_ticklabel(fontsize=plt.rcParams['ytick.labelsize'])\n",
    "        lon.set_ticklabel(fontsize=plt.rcParams['xtick.labelsize'])\n",
    "    ax.set_title(labels[i])\n",
    "plt.subplots_adjust(hspace=0.,wspace=0.05)\n",
    "cbar = fig.colorbar(im,cax=cax,orientation='horizontal');\n",
    "cbar.set_ticks([2,3,4,5])\n",
    "#fig.savefig('figures/em_slope_maps.pdf')"
   ]
  },
  {
   "cell_type": "markdown",
   "metadata": {},
   "source": [
    "Now, overplot the three slope distributions"
   ]
  },
  {
   "cell_type": "code",
   "execution_count": 49,
   "metadata": {},
   "outputs": [
    {
     "data": {
      "text/plain": [
       "Text(0,0.5,'Number of Pixels')"
      ]
     },
     "execution_count": 49,
     "metadata": {},
     "output_type": "execute_result"
    },
    {
     "data": {
      "image/png": "[encoded data removed]",
      "text/plain": [
       "<Figure size 432x288 with 1 Axes>"
      ]
     },
     "metadata": {
      "needs_background": "light"
     },
     "output_type": "display_data"
    }
   ],
   "source": [
    "sys.path.append('../paper/python/')\n",
    "from formatting import heating_palette\n",
    "fig = plt.figure()\n",
    "ax = fig.gca()\n",
    "bins = np.arange(1,6,0.05)\n",
    "bin_centers = (bins[:-1] + bins[1:])/2\n",
    "opts = {'bins': bins, 'histtype': 'step','density':False, 'lw':1}\n",
    "for i,em in enumerate([em_high,em_intermediate,em_low]):\n",
    "    slope_map = em.make_slope_map(**slope_opts)\n",
    "    d = slope_map.data.flatten()\n",
    "    h,b,_ = ax.hist(d[~np.isnan(d)],**opts,color=heating_palette()[i],label=labels[i])\n",
    "ax.set_xlim(1.5,5.5);\n",
    "ax.set_xticks([2,3,4,5])\n",
    "ax.legend(frameon=False,loc=1)\n",
    "ax.spines['top'].set_visible(False)\n",
    "ax.spines['right'].set_visible(False)\n",
    "#ax.set_ylim([50,5001])\n",
    "ax.set_yticks(ax.get_yticks()[1:-1])\n",
    "ax.spines['left'].set_bounds(ax.get_yticks()[0],ax.get_yticks()[-1])\n",
    "ax.spines['bottom'].set_bounds(ax.get_xticks()[0],ax.get_xticks()[-1])\n",
    "ax.set_xlabel(r'$a$')\n",
    "ax.set_ylabel(r'Number of Pixels')\n",
    "#fig.savefig('figures/em_slope_histograms.pdf')"
   ]
  },
  {
   "cell_type": "code",
   "execution_count": null,
   "metadata": {},
   "outputs": [],
   "source": []
  }
 ],
 "metadata": {
  "kernelspec": {
   "display_name": "Python [conda env:synthetic-observables]",
   "language": "python",
   "name": "conda-env-synthetic-observables-py"
  },
  "language_info": {
   "codemirror_mode": {
    "name": "ipython",
    "version": 3
   },
   "file_extension": ".py",
   "mimetype": "text/x-python",
   "name": "python",
   "nbconvert_exporter": "python",
   "pygments_lexer": "ipython3",
   "version": "3.6.7"
  }
 },
 "nbformat": 4,
 "nbformat_minor": 2
}
