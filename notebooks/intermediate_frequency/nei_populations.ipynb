{
 "cells": [
  {
   "cell_type": "markdown",
   "metadata": {},
   "source": [
    "# Compute Ion Populations: Intermediate Frequency"
   ]
  },
  {
   "cell_type": "code",
   "execution_count": 1,
   "metadata": {
    "collapsed": true
   },
   "outputs": [],
   "source": [
    "import os\n",
    "\n",
    "import numpy as np\n",
    "import astropy.units as u\n",
    "import matplotlib.pyplot as plt\n",
    "import dask\n",
    "import distributed\n",
    "\n",
    "import synthesizAR\n",
    "from synthesizAR.atomic import EmissionModel\n",
    "from synthesizAR.model_ext import EbtelInterface\n",
    "\n",
    "%matplotlib inline"
   ]
  },
  {
   "cell_type": "code",
   "execution_count": 2,
   "metadata": {
    "collapsed": true
   },
   "outputs": [],
   "source": [
    "client = distributed.Client()"
   ]
  },
  {
   "cell_type": "code",
   "execution_count": 3,
   "metadata": {},
   "outputs": [
    {
     "name": "stderr",
     "output_type": "stream",
     "text": [
      "No HMI fits file supplied. A new HMI map object will not be created.\n",
      "/storage-home/w/wtb2/anaconda3/envs/synthesizar/lib/python3.6/site-packages/synthesizAR-0.1.dev528-py3.6.egg/synthesizAR/field.py:187: SunpyDeprecationWarning: This property is only valid for non-rotated WCS\n",
      "  lcx, rcx = self.hmi_map.xrange + self.hmi_map.scale.axis1*u.Quantity([boundary_clipping[0], -boundary_clipping[0]], u.pixel)\n",
      "/storage-home/w/wtb2/anaconda3/envs/synthesizar/lib/python3.6/site-packages/synthesizAR-0.1.dev528-py3.6.egg/synthesizAR/field.py:188: SunpyDeprecationWarning: This property is only valid for non-rotated WCS\n",
      "  lcy, rcy = self.hmi_map.yrange + self.hmi_map.scale.axis2*u.Quantity([boundary_clipping[1], -boundary_clipping[1]], u.pixel)\n",
      "/storage-home/w/wtb2/anaconda3/envs/synthesizar/lib/python3.6/site-packages/synthesizAR-0.1.dev528-py3.6.egg/synthesizAR/field.py:195: SunpyDeprecationWarning: This property is only valid for non-rotated WCS\n",
      "  bbox = np.array([self._convert_angle_to_length(self.clipped_hmi_map.xrange).value,\n",
      "/storage-home/w/wtb2/anaconda3/envs/synthesizar/lib/python3.6/site-packages/synthesizAR-0.1.dev528-py3.6.egg/synthesizAR/field.py:196: SunpyDeprecationWarning: This property is only valid for non-rotated WCS\n",
      "  self._convert_angle_to_length(self.clipped_hmi_map.yrange).value,\n",
      "yt : [INFO     ] 2017-12-10 21:39:54,448 Parameters: current_time              = 0.0\n",
      "yt : [INFO     ] 2017-12-10 21:39:54,449 Parameters: domain_dimensions         = [96 96 96]\n",
      "yt : [INFO     ] 2017-12-10 21:39:54,450 Parameters: domain_left_edge          = [ -2.97931201e+10  -2.62091384e+10   3.91869796e+08]\n",
      "yt : [INFO     ] 2017-12-10 21:39:54,451 Parameters: domain_right_edge         = [ -1.18463315e+10  -7.41270210e+09   1.92016200e+10]\n",
      "yt : [INFO     ] 2017-12-10 21:39:54,453 Parameters: cosmological_simulation   = 0.0\n"
     ]
    }
   ],
   "source": [
    "field = synthesizAR.Skeleton.restore('/storage-home/w/wtb2/data/timelag_synthesis/intermediate_frequency/field_checkpoint/')"
   ]
  },
  {
   "cell_type": "code",
   "execution_count": 4,
   "metadata": {
    "collapsed": true
   },
   "outputs": [],
   "source": [
    "em_model = EmissionModel.restore('/storage-home/w/wtb2/data/timelag_synthesis/base_emission_model_dominant.json')"
   ]
  },
  {
   "cell_type": "code",
   "execution_count": 5,
   "metadata": {
    "collapsed": true
   },
   "outputs": [],
   "source": [
    "tasks = em_model.calculate_ionization_fraction(field,\n",
    "                                               '/storage-home/w/wtb2/data/timelag_synthesis/intermediate_frequency/nei/ionization_fractions.h5',\n",
    "                                               interface=EbtelInterface)"
   ]
  },
  {
   "cell_type": "code",
   "execution_count": 6,
   "metadata": {
    "collapsed": true
   },
   "outputs": [],
   "source": [
    "tasks.compute()"
   ]
  },
  {
   "cell_type": "code",
   "execution_count": 7,
   "metadata": {
    "collapsed": true
   },
   "outputs": [],
   "source": [
    "em_model.save('/storage-home/w/wtb2/data/timelag_synthesis/intermediate_frequency/nei/emission_model_dominant.json')"
   ]
  },
  {
   "cell_type": "code",
   "execution_count": null,
   "metadata": {
    "collapsed": true
   },
   "outputs": [],
   "source": []
  }
 ],
 "metadata": {
  "kernelspec": {
   "display_name": "Python [conda env:synthesizar]",
   "language": "python",
   "name": "conda-env-synthesizar-py"
  },
  "language_info": {
   "codemirror_mode": {
    "name": "ipython",
    "version": 3
   },
   "file_extension": ".py",
   "mimetype": "text/x-python",
   "name": "python",
   "nbconvert_exporter": "python",
   "pygments_lexer": "ipython3",
   "version": "3.6.3"
  }
 },
 "nbformat": 4,
 "nbformat_minor": 2
}
