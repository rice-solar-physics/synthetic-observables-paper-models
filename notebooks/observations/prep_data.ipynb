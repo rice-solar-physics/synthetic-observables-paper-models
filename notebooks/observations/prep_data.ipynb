{
 "cells": [
  {
   "cell_type": "markdown",
   "metadata": {},
   "source": [
    "# Prepare Observational Data\n",
    "Download and clean observational data so that we can compute timelags from it and compare to simulations. \n",
    "\n",
    "We need to do the following tasks for each map:\n",
    "1. Download the level 1 AIA data for a given timestep and channel\n",
    "2. Convert the level 1 data to level 1.5 data\n",
    "3. Derotate the data to the time at which the AR was observed by Warren et al. (2012)\n",
    "4. Cutout data around selected AR\n",
    "\n",
    "At some stage, we should also delete the full sun image."
   ]
  },
  {
   "cell_type": "code",
   "execution_count": 3,
   "metadata": {},
   "outputs": [],
   "source": [
    "import os\n",
    "import glob\n",
    "import datetime\n",
    "\n",
    "import numpy as np\n",
    "from scipy.ndimage.interpolation import shift\n",
    "import matplotlib.pyplot as plt\n",
    "import drms\n",
    "import dask\n",
    "import distributed\n",
    "import astropy.units as u\n",
    "from astropy.coordinates import SkyCoord\n",
    "from sunpy.map import Map\n",
    "from sunpy.instr.aia import aiaprep\n",
    "from sunpy.physics.differential_rotation import solar_rotate_coordinate\n",
    "\n",
    "import synthesizAR\n",
    "\n",
    "%matplotlib inline"
   ]
  },
  {
   "cell_type": "code",
   "execution_count": 4,
   "metadata": {},
   "outputs": [
    {
     "data": {
      "text/html": [
       "<table style=\"border: 2px solid white;\">\n",
       "<tr>\n",
       "<td style=\"vertical-align: top; border: 0px solid white\">\n",
       "<h3>Client</h3>\n",
       "<ul>\n",
       "  <li><b>Scheduler: </b>tcp://127.0.0.1:36329\n",
       "  <li><b>Dashboard: </b><a href='http://127.0.0.1:8787/status' target='_blank'>http://127.0.0.1:8787/status</a>\n",
       "</ul>\n",
       "</td>\n",
       "<td style=\"vertical-align: top; border: 0px solid white\">\n",
       "<h3>Cluster</h3>\n",
       "<ul>\n",
       "  <li><b>Workers: </b>64</li>\n",
       "  <li><b>Cores: </b>64</li>\n",
       "  <li><b>Memory: </b>270.38 GB</li>\n",
       "</ul>\n",
       "</td>\n",
       "</tr>\n",
       "</table>"
      ],
      "text/plain": [
       "<Client: scheduler='tcp://127.0.0.1:36329' processes=64 cores=64>"
      ]
     },
     "execution_count": 4,
     "metadata": {},
     "output_type": "execute_result"
    }
   ],
   "source": [
    "client = distributed.Client()\n",
    "client"
   ]
  },
  {
   "cell_type": "markdown",
   "metadata": {},
   "source": [
    "First, set up the DRMS download client to get the AIA data from JSOC. This is best done from outside the notebook as it takes quite a while to download all of the data."
   ]
  },
  {
   "cell_type": "code",
   "execution_count": 5,
   "metadata": {},
   "outputs": [],
   "source": [
    "DOWNLOAD_DIR = '/storage-home/w/wtb2/data/timelag_synthesis_v2/observational_data/aia'\n",
    "CUTOUTS_DIR = os.path.join(DOWNLOAD_DIR, 'cutouts')"
   ]
  },
  {
   "cell_type": "markdown",
   "metadata": {},
   "source": [
    "Create a few methods for prepping the data. First, we pull in our observed magnetogram to get the right observing date, center, and observer coordinate as well as the appropriate FOV for the active region."
   ]
  },
  {
   "cell_type": "code",
   "execution_count": 6,
   "metadata": {},
   "outputs": [],
   "source": [
    "magnetogram = Map(\n",
    "    '/storage-home/w/wtb2/data/timelag_synthesis_v2/observational_data/hmi/hmi_m_45s_2011_02_12_15_33_45_tai_magnetogram.fits'\n",
    ")"
   ]
  },
  {
   "cell_type": "code",
   "execution_count": 7,
   "metadata": {},
   "outputs": [],
   "source": [
    "reference_date = magnetogram.date\n",
    "reference_center = magnetogram.center\n",
    "reference_observer = magnetogram.observer_coordinate\n",
    "cutout_left_corner = u.Quantity([-440,-375],u.arcsec)\n",
    "cutout_right_corner = u.Quantity([-140,-75],u.arcsec)"
   ]
  },
  {
   "cell_type": "markdown",
   "metadata": {},
   "source": [
    "Standard AIA prep procedure to get the data to all have a common scale."
   ]
  },
  {
   "cell_type": "code",
   "execution_count": 8,
   "metadata": {},
   "outputs": [],
   "source": [
    "def aiaprep_wrapper(filename):\n",
    "    return aiaprep(Map(filename))"
   ]
  },
  {
   "cell_type": "markdown",
   "metadata": {},
   "source": [
    "Derotate all the data to the time when the AR was observed by HMI as in Warren et al. (2012)"
   ]
  },
  {
   "cell_type": "code",
   "execution_count": 9,
   "metadata": {},
   "outputs": [],
   "source": [
    "def derotate(aia_map):\n",
    "    new_coord = solar_rotate_coordinate(aia_map.center, reference_date,\n",
    "                                        new_observer_location=reference_observer)\n",
    "    xs_pixel = (new_coord.Tx - reference_center.Tx)/aia_map.scale.axis1\n",
    "    ys_pixel = (new_coord.Ty - reference_center.Ty)/aia_map.scale.axis2\n",
    "    shifted_data = shift(aia_map.data, [ys_pixel.value, xs_pixel.value])\n",
    "    derotated_map = Map(shifted_data, aia_map.meta)\n",
    "    return derotated_map"
   ]
  },
  {
   "cell_type": "markdown",
   "metadata": {},
   "source": [
    "Create a cutout around the AR in question"
   ]
  },
  {
   "cell_type": "code",
   "execution_count": 10,
   "metadata": {},
   "outputs": [],
   "source": [
    "def cutout(aia_map):\n",
    "    lc = SkyCoord(*cutout_left_corner, frame=aia_map.coordinate_frame)\n",
    "    rc = SkyCoord(*cutout_right_corner, frame=aia_map.coordinate_frame)\n",
    "    return aia_map.submap(lc, rc)"
   ]
  },
  {
   "cell_type": "markdown",
   "metadata": {},
   "source": [
    "Save all of the data (and optionally delete the original image."
   ]
  },
  {
   "cell_type": "code",
   "execution_count": 11,
   "metadata": {},
   "outputs": [],
   "source": [
    "def save_and_cleanup(aia_cutout_map):\n",
    "    fn = os.path.join(CUTOUTS_DIR, '{detector}_lev1.5_{date}_{channel}_cutout.fits'.format(\n",
    "            detector=aia_cutout_map.meta['detector'].lower(), \n",
    "            date=aia_cutout_map.date.strftime('%Y%m%dT%H%M%S'),\n",
    "            channel=aia_cutout_map.meta['wavelnth']))\n",
    "    aia_cutout_map.save(fn)\n",
    "    #os.remove(aia_full_filename)\n",
    "    return fn"
   ]
  },
  {
   "cell_type": "markdown",
   "metadata": {},
   "source": [
    "Now, we submit the jobs for each map to the Dask scheduler. The map is prepped, derotated, and cropped to the correct AR."
   ]
  },
  {
   "cell_type": "code",
   "execution_count": 14,
   "metadata": {},
   "outputs": [],
   "source": [
    "futures = []\n",
    "map_filenames = sorted(glob.glob(os.path.join(DOWNLOAD_DIR, f'*.image*.fits')))\n",
    "if not os.path.exists(CUTOUTS_DIR):\n",
    "    os.mkdir(CUTOUTS_DIR)\n",
    "for mf in map_filenames:\n",
    "    lvl15_map = client.submit(aiaprep_wrapper, mf)\n",
    "    derot_map = client.submit(derotate, lvl15_map)\n",
    "    cutout_map = client.submit(cutout, derot_map)\n",
    "    futures.append(client.submit(save_and_cleanup, cutout_map))"
   ]
  },
  {
   "cell_type": "markdown",
   "metadata": {},
   "source": [
    "## Sandbox"
   ]
  },
  {
   "cell_type": "code",
   "execution_count": 29,
   "metadata": {},
   "outputs": [],
   "source": [
    "channels = [94, 131, 171, 193, 211, 335]"
   ]
  },
  {
   "cell_type": "code",
   "execution_count": 31,
   "metadata": {},
   "outputs": [],
   "source": [
    "time_min = None\n",
    "time_max = None\n",
    "for c in channels:\n",
    "    tmp_list = sorted(glob.glob(os.path.join(DOWNLOAD_DIR, f'*.{c}.image*.fits')))\n",
    "    tmp = Map(tmp_list[0])\n",
    "    if time_min is None or tmp.date < time_min:\n",
    "        time_min = tmp.date\n",
    "    tmp = Map(tmp_list[-1])\n",
    "    if time_max is None or tmp.date > time_max:\n",
    "        time_max = tmp.date"
   ]
  },
  {
   "cell_type": "code",
   "execution_count": 37,
   "metadata": {},
   "outputs": [
    {
     "data": {
      "text/plain": [
       "43199"
      ]
     },
     "execution_count": 37,
     "metadata": {},
     "output_type": "execute_result"
    }
   ],
   "source": [
    "(time_max - time_min).seconds"
   ]
  },
  {
   "cell_type": "code",
   "execution_count": null,
   "metadata": {},
   "outputs": [],
   "source": [
    "times = []\n",
    "for i,f in enumerate(foo):\n",
    "    times.append(datetime.datetime.strptime(os.path.basename(f).split('.')[2], '%Y%m%dT%H%M%SZ'))"
   ]
  },
  {
   "cell_type": "code",
   "execution_count": null,
   "metadata": {},
   "outputs": [],
   "source": [
    "deltas = []\n",
    "for i in range(len(foo) - 1):\n",
    "    deltas.append((times[i+1] - times[i]).seconds)"
   ]
  },
  {
   "cell_type": "code",
   "execution_count": null,
   "metadata": {},
   "outputs": [],
   "source": [
    "plt.plot(deltas,'.')\n",
    "plt.xlim(3420,3450)"
   ]
  },
  {
   "cell_type": "code",
   "execution_count": null,
   "metadata": {},
   "outputs": [],
   "source": [
    "print(foo[3439])\n",
    "print(foo[3440])\n",
    "print(foo[3441])"
   ]
  },
  {
   "cell_type": "code",
   "execution_count": null,
   "metadata": {},
   "outputs": [],
   "source": [
    "q = c.export(f'aia.lev1_euv_12s[2011-02-12T21:00:00/1m@{cadence}][335]{{image}}',\n",
    "             method='url_quick')"
   ]
  },
  {
   "cell_type": "code",
   "execution_count": null,
   "metadata": {},
   "outputs": [],
   "source": [
    "q.data"
   ]
  },
  {
   "cell_type": "code",
   "execution_count": null,
   "metadata": {},
   "outputs": [],
   "source": [
    "Map('/storage-home/w/wtb2/data/timelag_synthesis_v2/observational_data/aia/cutouts/aia_lev1.5_20110212T093214_94_cutout.fits').peek(vmin=0,vmax=150)\n",
    "plt.show()"
   ]
  },
  {
   "cell_type": "code",
   "execution_count": 28,
   "metadata": {},
   "outputs": [
    {
     "ename": "ValueError",
     "evalue": "File not found or invalid input",
     "output_type": "error",
     "traceback": [
      "\u001b[0;31m---------------------------------------------------------------------------\u001b[0m",
      "\u001b[0;31mValueError\u001b[0m                                Traceback (most recent call last)",
      "\u001b[0;32m<ipython-input-28-64f85caf0ad4>\u001b[0m in \u001b[0;36m<module>\u001b[0;34m()\u001b[0m\n\u001b[0;32m----> 1\u001b[0;31m \u001b[0mfoo\u001b[0m \u001b[0;34m=\u001b[0m \u001b[0mMap\u001b[0m\u001b[0;34m(\u001b[0m\u001b[0;34m'/storage-home/w/wtb2/data/timelag_synthesis_v2/observational_data/aia/cutouts/aia_lev1.5_20110212T093214_131_cutout.fits'\u001b[0m\u001b[0;34m)\u001b[0m\u001b[0;34m\u001b[0m\u001b[0m\n\u001b[0m\u001b[1;32m      2\u001b[0m \u001b[0mfoo\u001b[0m\u001b[0;34m.\u001b[0m\u001b[0mpeek\u001b[0m\u001b[0;34m(\u001b[0m\u001b[0;34m)\u001b[0m\u001b[0;34m\u001b[0m\u001b[0m\n\u001b[1;32m      3\u001b[0m \u001b[0mplt\u001b[0m\u001b[0;34m.\u001b[0m\u001b[0mshow\u001b[0m\u001b[0;34m(\u001b[0m\u001b[0;34m)\u001b[0m\u001b[0;34m\u001b[0m\u001b[0m\n",
      "\u001b[0;32m~/anaconda3/envs/synthesizar/lib/python3.6/site-packages/sunpy/map/map_factory.py\u001b[0m in \u001b[0;36m__call__\u001b[0;34m(self, *args, **kwargs)\u001b[0m\n\u001b[1;32m    262\u001b[0m         \u001b[0msilence_errors\u001b[0m \u001b[0;34m=\u001b[0m \u001b[0mkwargs\u001b[0m\u001b[0;34m.\u001b[0m\u001b[0mpop\u001b[0m\u001b[0;34m(\u001b[0m\u001b[0;34m'silence_errors'\u001b[0m\u001b[0;34m,\u001b[0m \u001b[0;32mFalse\u001b[0m\u001b[0;34m)\u001b[0m\u001b[0;34m\u001b[0m\u001b[0m\n\u001b[1;32m    263\u001b[0m \u001b[0;34m\u001b[0m\u001b[0m\n\u001b[0;32m--> 264\u001b[0;31m         \u001b[0mdata_header_pairs\u001b[0m\u001b[0;34m,\u001b[0m \u001b[0malready_maps\u001b[0m \u001b[0;34m=\u001b[0m \u001b[0mself\u001b[0m\u001b[0;34m.\u001b[0m\u001b[0m_parse_args\u001b[0m\u001b[0;34m(\u001b[0m\u001b[0;34m*\u001b[0m\u001b[0margs\u001b[0m\u001b[0;34m,\u001b[0m \u001b[0;34m**\u001b[0m\u001b[0mkwargs\u001b[0m\u001b[0;34m)\u001b[0m\u001b[0;34m\u001b[0m\u001b[0m\n\u001b[0m\u001b[1;32m    265\u001b[0m \u001b[0;34m\u001b[0m\u001b[0m\n\u001b[1;32m    266\u001b[0m         \u001b[0mnew_maps\u001b[0m \u001b[0;34m=\u001b[0m \u001b[0mlist\u001b[0m\u001b[0;34m(\u001b[0m\u001b[0;34m)\u001b[0m\u001b[0;34m\u001b[0m\u001b[0m\n",
      "\u001b[0;32m~/anaconda3/envs/synthesizar/lib/python3.6/site-packages/sunpy/map/map_factory.py\u001b[0m in \u001b[0;36m_parse_args\u001b[0;34m(self, *args, **kwargs)\u001b[0m\n\u001b[1;32m    222\u001b[0m \u001b[0;34m\u001b[0m\u001b[0m\n\u001b[1;32m    223\u001b[0m             \u001b[0;32melse\u001b[0m\u001b[0;34m:\u001b[0m\u001b[0;34m\u001b[0m\u001b[0m\n\u001b[0;32m--> 224\u001b[0;31m                 \u001b[0;32mraise\u001b[0m \u001b[0mValueError\u001b[0m\u001b[0;34m(\u001b[0m\u001b[0;34m\"File not found or invalid input\"\u001b[0m\u001b[0;34m)\u001b[0m\u001b[0;34m\u001b[0m\u001b[0m\n\u001b[0m\u001b[1;32m    225\u001b[0m \u001b[0;34m\u001b[0m\u001b[0m\n\u001b[1;32m    226\u001b[0m             \u001b[0mi\u001b[0m \u001b[0;34m+=\u001b[0m \u001b[0;36m1\u001b[0m\u001b[0;34m\u001b[0m\u001b[0m\n",
      "\u001b[0;31mValueError\u001b[0m: File not found or invalid input"
     ]
    }
   ],
   "source": [
    "foo = Map('/storage-home/w/wtb2/data/timelag_synthesis_v2/observational_data/aia/cutouts/aia_lev1.5_20110212T09')\n",
    "foo.peek()\n",
    "plt.show()"
   ]
  },
  {
   "cell_type": "code",
   "execution_count": 22,
   "metadata": {},
   "outputs": [
    {
     "data": {
      "text/plain": [
       "PixelPair(x=<Quantity 500.0 pix>, y=<Quantity 500.0 pix>)"
      ]
     },
     "execution_count": 22,
     "metadata": {},
     "output_type": "execute_result"
    }
   ],
   "source": [
    "foo.dimensions"
   ]
  },
  {
   "cell_type": "code",
   "execution_count": 27,
   "metadata": {},
   "outputs": [
    {
     "data": {
      "text/latex": [
       "$500 \\; \\mathrm{{}^{\\prime\\prime}}$"
      ],
      "text/plain": [
       "<Quantity 500.0 arcsec>"
      ]
     },
     "execution_count": 27,
     "metadata": {},
     "output_type": "execute_result"
    }
   ],
   "source": [
    "(cutout_right_corner[1] - cutout_left_corner[1])/0.6"
   ]
  },
  {
   "cell_type": "code",
   "execution_count": null,
   "metadata": {},
   "outputs": [],
   "source": []
  }
 ],
 "metadata": {
  "kernelspec": {
   "display_name": "Python [conda env:synthesizar]",
   "language": "python",
   "name": "conda-env-synthesizar-py"
  },
  "language_info": {
   "codemirror_mode": {
    "name": "ipython",
    "version": 3
   },
   "file_extension": ".py",
   "mimetype": "text/x-python",
   "name": "python",
   "nbconvert_exporter": "python",
   "pygments_lexer": "ipython3",
   "version": "3.6.4"
  }
 },
 "nbformat": 4,
 "nbformat_minor": 2
}
