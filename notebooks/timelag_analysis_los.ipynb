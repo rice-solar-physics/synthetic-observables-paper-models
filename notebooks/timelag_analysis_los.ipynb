{
 "cells": [
  {
   "cell_type": "markdown",
   "metadata": {},
   "source": [
    "# Timelag Analysis: Varying the LOS Angle"
   ]
  },
  {
   "cell_type": "code",
   "execution_count": 1,
   "metadata": {},
   "outputs": [
    {
     "name": "stderr",
     "output_type": "stream",
     "text": [
      "/storage-home/w/wtb2/anaconda3/envs/synthesizar/lib/python3.6/site-packages/h5py/__init__.py:36: FutureWarning: Conversion of the second argument of issubdtype from `float` to `np.floating` is deprecated. In future, it will be treated as `np.float64 == np.dtype(float).type`.\n",
      "  from ._conv import register_converters as _register_converters\n"
     ]
    }
   ],
   "source": [
    "import os\n",
    "import sys\n",
    "\n",
    "import numpy as np\n",
    "import dask\n",
    "import dask.distributed\n",
    "import matplotlib.pyplot as plt\n",
    "import matplotlib.colors\n",
    "from astropy.coordinates import SkyCoord\n",
    "from sunpy.map import Map\n",
    "import astropy.units as u\n",
    "from astropy.visualization import ImageNormalize,SqrtStretch\n",
    "\n",
    "import synthesizAR\n",
    "from synthesizAR.instruments import InstrumentSDOAIA\n",
    "from synthesizAR.visualize import plot_aia_channels\n",
    "\n",
    "sys.path.append('../scripts/')\n",
    "from timelags import AIATimeLags\n",
    "from idl_colormaps import bgry_004_idl_cmap\n",
    "\n",
    "%matplotlib inline"
   ]
  },
  {
   "cell_type": "code",
   "execution_count": 2,
   "metadata": {},
   "outputs": [
    {
     "data": {
      "text/html": [
       "<table style=\"border: 2px solid white;\">\n",
       "<tr>\n",
       "<td style=\"vertical-align: top; border: 0px solid white\">\n",
       "<h3>Client</h3>\n",
       "<ul>\n",
       "  <li><b>Scheduler: </b>tcp://127.0.0.1:45128\n",
       "  <li><b>Dashboard: </b><a href='http://127.0.0.1:8787/status' target='_blank'>http://127.0.0.1:8787/status</a>\n",
       "</ul>\n",
       "</td>\n",
       "<td style=\"vertical-align: top; border: 0px solid white\">\n",
       "<h3>Cluster</h3>\n",
       "<ul>\n",
       "  <li><b>Workers: </b>64</li>\n",
       "  <li><b>Cores: </b>64</li>\n",
       "  <li><b>Memory: </b>270.38 GB</li>\n",
       "</ul>\n",
       "</td>\n",
       "</tr>\n",
       "</table>"
      ],
      "text/plain": [
       "<Client: scheduler='tcp://127.0.0.1:45128' processes=64 cores=64>"
      ]
     },
     "execution_count": 2,
     "metadata": {},
     "output_type": "execute_result"
    }
   ],
   "source": [
    "client = dask.distributed.Client()\n",
    "client"
   ]
  },
  {
   "cell_type": "code",
   "execution_count": 21,
   "metadata": {},
   "outputs": [],
   "source": [
    "client.close()"
   ]
  },
  {
   "cell_type": "markdown",
   "metadata": {},
   "source": [
    "For one of our heating cases (likely intermediate-frequency heating), compute the timelags for a two (maybe three?) different lines of sight:\n",
    "* as observed by AIA/HMI (\"earth\")\n",
    "* rotated 90 degrees in longitude with respect to the surface normal at the center of the AR (\"off-limb\")\n",
    "* if the AR was at disk center (\"disk center\")\n",
    "* rotated 90 degrees in latitude with respect to the surface normal at the center of the AR (\"arcade\")"
   ]
  },
  {
   "cell_type": "code",
   "execution_count": 3,
   "metadata": {},
   "outputs": [],
   "source": [
    "field = synthesizAR.Field.restore('/storage-home/w/wtb2/data/timelag_synthesis_v2/high_frequency/field_checkpoint/')"
   ]
  },
  {
   "cell_type": "markdown",
   "metadata": {},
   "source": [
    "First, we need to rebin the intensity values for our intermediate frequency case for the face-on, off-limb, arcade observers. We've already compute the case where the observer is just the SDO satellite (i.e. an observer at Earth). "
   ]
  },
  {
   "cell_type": "code",
   "execution_count": null,
   "metadata": {},
   "outputs": [],
   "source": [
    "aia_earth = InstrumentSDOAIA([5000,25000]*u.s, observer_coordinate=field.magnetogram.observer_coordinate)\n",
    "aia_earth.counts_file = '/storage-home/w/wtb2/data/timelag_synthesis_v2/high_frequency/nei/SDO_AIA_counts.h5'"
   ]
  },
  {
   "cell_type": "markdown",
   "metadata": {},
   "source": [
    "### Off-limb"
   ]
  },
  {
   "cell_type": "code",
   "execution_count": 4,
   "metadata": {},
   "outputs": [
    {
     "name": "stderr",
     "output_type": "stream",
     "text": [
      "/storage-home/w/wtb2/anaconda3/envs/synthesizar/lib/python3.6/site-packages/sunpy/map/mapbase.py:669: Warning: Missing metadata for heliographic longitude: assuming longitude of 0 degrees\n",
      "  lon=self.heliographic_longitude,\n"
     ]
    }
   ],
   "source": [
    "off_limb_observer_coordinate = SkyCoord(lat=field.magnetogram.observer_coordinate.lat,\n",
    "                                        lon=field.magnetogram.center.transform_to('heliographic_stonyhurst').lon - 90 * u.deg,\n",
    "                                        radius=field.magnetogram.observer_coordinate.radius,\n",
    "                                        frame='heliographic_stonyhurst')"
   ]
  },
  {
   "cell_type": "code",
   "execution_count": 5,
   "metadata": {},
   "outputs": [],
   "source": [
    "aia_off_limb = InstrumentSDOAIA([5000,25000] * u.s, observer_coordinate=off_limb_observer_coordinate)"
   ]
  },
  {
   "cell_type": "code",
   "execution_count": 6,
   "metadata": {},
   "outputs": [],
   "source": [
    "observer = synthesizAR.Observer(field, [aia_off_limb], parallel=True)"
   ]
  },
  {
   "cell_type": "code",
   "execution_count": 7,
   "metadata": {},
   "outputs": [
    {
     "name": "stderr",
     "output_type": "stream",
     "text": [
      "/storage-home/w/wtb2/anaconda3/envs/synthesizar/lib/python3.6/site-packages/scipy/interpolate/_fitpack_impl.py:299: RuntimeWarning: The maximal number of iterations (20) allowed for finding smoothing\n",
      "spline with fp=s has been reached. Probable cause: s too small.\n",
      "(abs(fp-s)/s>0.001)\n",
      "  warnings.warn(RuntimeWarning(_iermess[ier][0]))\n",
      "/storage-home/w/wtb2/anaconda3/envs/synthesizar/lib/python3.6/site-packages/scipy/interpolate/_fitpack_impl.py:299: RuntimeWarning: A theoretically impossible result when finding a smoothing spline\n",
      "with fp = s. Probable cause: s too small. (abs(fp-s)/s>0.001)\n",
      "  warnings.warn(RuntimeWarning(_iermess[ier][0]))\n"
     ]
    }
   ],
   "source": [
    "observer.build_detector_files('/storage-home/w/wtb2/data/timelag_synthesis_v2/high_frequency/nei/', 0.5 * u.Mm)"
   ]
  },
  {
   "cell_type": "code",
   "execution_count": null,
   "metadata": {},
   "outputs": [],
   "source": [
    "bin_futures = observer.bin_detector_counts(\n",
    "    '/storage-home/w/wtb2/data/timelag_synthesis_v2/high_frequency/nei/off_limb/')"
   ]
  },
  {
   "cell_type": "markdown",
   "metadata": {},
   "source": [
    "### Disk-center"
   ]
  },
  {
   "cell_type": "code",
   "execution_count": null,
   "metadata": {},
   "outputs": [],
   "source": [
    "center_hgs = field.magnetogram.center.transform_to('heliographic_stonyhurst')\n",
    "disk_center_observer_coordinate = SkyCoord(lat=center_hgs.lat,\n",
    "                                           lon=center_hgs.lon,\n",
    "                                           radius=field.magnetogram.observer_coordinate.radius,\n",
    "                                           frame='heliographic_stonyhurst')"
   ]
  },
  {
   "cell_type": "code",
   "execution_count": null,
   "metadata": {},
   "outputs": [],
   "source": [
    "aia_disk_center = InstrumentSDOAIA([5000,25000] * u.s,observer_coordinate=disk_center_observer_coordinate)"
   ]
  },
  {
   "cell_type": "code",
   "execution_count": null,
   "metadata": {},
   "outputs": [],
   "source": [
    "observer = synthesizAR.Observer(field, [aia_disk_center], parallel=True)"
   ]
  },
  {
   "cell_type": "code",
   "execution_count": null,
   "metadata": {},
   "outputs": [],
   "source": [
    "observer.build_detector_files('/storage-home/w/wtb2/data/timelag_synthesis_v2/intermediate_frequency/nei/', 0.5 * u.Mm)"
   ]
  },
  {
   "cell_type": "code",
   "execution_count": null,
   "metadata": {},
   "outputs": [],
   "source": [
    "bin_futures = observer.bin_detector_counts(\n",
    "    '/storage-home/w/wtb2/data/timelag_synthesis_v2/intermediate_frequency/nei/disk_center/')"
   ]
  },
  {
   "cell_type": "markdown",
   "metadata": {},
   "source": [
    "### Arcade"
   ]
  },
  {
   "cell_type": "code",
   "execution_count": 8,
   "metadata": {},
   "outputs": [],
   "source": [
    "center_hgs = field.magnetogram.center.transform_to('heliographic_stonyhurst')\n",
    "arcade_observer_coordinate = SkyCoord(lat=center_hgs.lat + 90 * u.deg,\n",
    "                                      lon=center_hgs.lon,\n",
    "                                      radius=field.magnetogram.observer_coordinate.radius,\n",
    "                                      frame='heliographic_stonyhurst')"
   ]
  },
  {
   "cell_type": "code",
   "execution_count": 9,
   "metadata": {},
   "outputs": [],
   "source": [
    "aia_arcade = InstrumentSDOAIA([5000,25000] * u.s, observer_coordinate=arcade_observer_coordinate)"
   ]
  },
  {
   "cell_type": "code",
   "execution_count": 10,
   "metadata": {},
   "outputs": [],
   "source": [
    "observer = synthesizAR.Observer(field, [aia_arcade], parallel=True)"
   ]
  },
  {
   "cell_type": "code",
   "execution_count": 11,
   "metadata": {},
   "outputs": [
    {
     "name": "stderr",
     "output_type": "stream",
     "text": [
      "/storage-home/w/wtb2/anaconda3/envs/synthesizar/lib/python3.6/site-packages/scipy/interpolate/_fitpack_impl.py:299: RuntimeWarning: The maximal number of iterations (20) allowed for finding smoothing\n",
      "spline with fp=s has been reached. Probable cause: s too small.\n",
      "(abs(fp-s)/s>0.001)\n",
      "  warnings.warn(RuntimeWarning(_iermess[ier][0]))\n",
      "/storage-home/w/wtb2/anaconda3/envs/synthesizar/lib/python3.6/site-packages/scipy/interpolate/_fitpack_impl.py:299: RuntimeWarning: A theoretically impossible result when finding a smoothing spline\n",
      "with fp = s. Probable cause: s too small. (abs(fp-s)/s>0.001)\n",
      "  warnings.warn(RuntimeWarning(_iermess[ier][0]))\n"
     ]
    }
   ],
   "source": [
    "observer.build_detector_files('/storage-home/w/wtb2/data/timelag_synthesis_v2/high_frequency/nei/', 0.5 * u.Mm)"
   ]
  },
  {
   "cell_type": "code",
   "execution_count": null,
   "metadata": {},
   "outputs": [],
   "source": [
    "bin_futures = observer.bin_detector_counts(\n",
    "    '/storage-home/w/wtb2/data/timelag_synthesis_v2/high_frequency/nei/arcade/')"
   ]
  },
  {
   "cell_type": "markdown",
   "metadata": {},
   "source": [
    "## Peek Intensity Maps"
   ]
  },
  {
   "cell_type": "code",
   "execution_count": null,
   "metadata": {},
   "outputs": [],
   "source": [
    "plot_aia_channels(aia_earth, 15000 * u.s,\n",
    "                  '/storage-home/w/wtb2/data/timelag_synthesis_v2/intermediate_frequency/nei/',\n",
    "                  norm=ImageNormalize(vmin=0,vmax=1e3,stretch=SqrtStretch()),\n",
    "                  figsize=(16,10))"
   ]
  },
  {
   "cell_type": "code",
   "execution_count": null,
   "metadata": {},
   "outputs": [],
   "source": [
    "plot_aia_channels(aia_off_limb, 15000 * u.s,\n",
    "                  '/storage-home/w/wtb2/data/timelag_synthesis_v2/intermediate_frequency/nei/off_limb/',\n",
    "                  norm=ImageNormalize(vmin=0,vmax=5e3,stretch=SqrtStretch()),\n",
    "                  figsize=(15,12.5))"
   ]
  },
  {
   "cell_type": "code",
   "execution_count": null,
   "metadata": {},
   "outputs": [],
   "source": [
    "plot_aia_channels(aia_disk_center, 15000 * u.s,\n",
    "                  '/storage-home/w/wtb2/data/timelag_synthesis_v2/intermediate_frequency/nei/disk_center/',\n",
    "                  norm=ImageNormalize(vmin=0,vmax=1e3,stretch=SqrtStretch()),\n",
    "                  figsize=(17,9))"
   ]
  },
  {
   "cell_type": "code",
   "execution_count": null,
   "metadata": {},
   "outputs": [],
   "source": [
    "plot_aia_channels(aia_arcade, 15000 * u.s,\n",
    "                  '/storage-home/w/wtb2/data/timelag_synthesis_v2/intermediate_frequency/nei/arcade/',\n",
    "                  norm=ImageNormalize(vmin=0,vmax=5e3,stretch=SqrtStretch()),\n",
    "                  figsize=(17,5))"
   ]
  },
  {
   "cell_type": "code",
   "execution_count": null,
   "metadata": {},
   "outputs": [],
   "source": [
    "m = Map('/storage-home/w/wtb2/data/timelag_synthesis_v2/intermediate_frequency/nei/arcade/SDO_AIA/94/map_t002500.fits')\n",
    "m = m.rotate(180*u.deg)\n",
    "fig = plt.figure(figsize=(12,5))\n",
    "ax = fig.gca(projection=m)\n",
    "m.plot(axes=ax,\n",
    "       norm=ImageNormalize(vmin=0,vmax=1e2,stretch=SqrtStretch()))\n",
    "ax.grid(alpha=0)\n",
    "m.draw_limb(color='w',axes=ax,lw=2);"
   ]
  },
  {
   "cell_type": "markdown",
   "metadata": {},
   "source": [
    "## Compute Timelags"
   ]
  },
  {
   "cell_type": "code",
   "execution_count": 12,
   "metadata": {},
   "outputs": [],
   "source": [
    "timelags_off_limb = AIATimeLags(\n",
    "    aia_off_limb,\n",
    "    'intensity_maps_high_frequency_off_limb.h5',\n",
    "    #fits_root_path='/storage-home/w/wtb2/data/timelag_synthesis_v2/high_frequency/nei/off_limb/'\n",
    ")"
   ]
  },
  {
   "cell_type": "code",
   "execution_count": null,
   "metadata": {},
   "outputs": [],
   "source": [
    "timelags_disk_center = AIATimeLags(\n",
    "    aia_disk_center,\n",
    "    'intensity_maps_intermediate_frequency_disk_center.h5',\n",
    "    fits_root_path='/storage-home/w/wtb2/data/timelag_synthesis_v2/intermediate_frequency/nei/disk_center/'\n",
    ")"
   ]
  },
  {
   "cell_type": "code",
   "execution_count": 13,
   "metadata": {},
   "outputs": [],
   "source": [
    "timelags_arcade = AIATimeLags(\n",
    "    aia_arcade,\n",
    "    'intensity_maps_high_frequency_arcade.h5',\n",
    "    #fits_root_path='/storage-home/w/wtb2/data/timelag_synthesis_v2/high_frequency/nei/arcade/'\n",
    ")"
   ]
  },
  {
   "cell_type": "code",
   "execution_count": null,
   "metadata": {},
   "outputs": [],
   "source": [
    "timelags_earth = AIATimeLags(aia_earth,\n",
    "                             'intensity_maps_intermediate_frequency.h5'\n",
    "                            )"
   ]
  },
  {
   "cell_type": "code",
   "execution_count": 14,
   "metadata": {},
   "outputs": [],
   "source": [
    "channel_pairs = [(94,335), (94,171), (335,211), (335,171), (193,171), (171,131)]"
   ]
  },
  {
   "cell_type": "code",
   "execution_count": 15,
   "metadata": {},
   "outputs": [],
   "source": [
    "timelag_bounds = (-6*u.hour,6*u.hour)"
   ]
  },
  {
   "cell_type": "code",
   "execution_count": 16,
   "metadata": {},
   "outputs": [],
   "source": [
    "timelag_maps = {}\n",
    "for p in channel_pairs[2:5]:\n",
    "    timelag_maps['{}-{}'.format(*p)] = {}\n",
    "    timelag_maps['{}-{}'.format(*p)]['off_limb'] = timelags_off_limb.make_timelag_map(f'{p[0]}',f'{p[1]}',timelag_bounds=timelag_bounds)\n",
    "    #timelag_maps['{}-{}'.format(*p)]['disk_center'] = timelags_disk_center.make_timelag_map(f'{p[0]}',f'{p[1]}',timelag_bounds=timelag_bounds)\n",
    "    #timelag_maps['{}-{}'.format(*p)]['earth'] = timelags_earth.make_timelag_map(f'{p[0]}',f'{p[1]}',timelag_bounds=timelag_bounds)\n",
    "    timelag_maps['{}-{}'.format(*p)]['arcade'] = timelags_arcade.make_timelag_map(f'{p[0]}',f'{p[1]}',timelag_bounds=timelag_bounds)"
   ]
  },
  {
   "cell_type": "code",
   "execution_count": 17,
   "metadata": {},
   "outputs": [],
   "source": [
    "correlation_maps = {}\n",
    "for p in channel_pairs[2:5]:\n",
    "    correlation_maps['{}-{}'.format(*p)] = {}\n",
    "    correlation_maps['{}-{}'.format(*p)]['off_limb'] = timelags_off_limb.make_correlation_map(f'{p[0]}',f'{p[1]}',timelag_bounds=timelag_bounds)\n",
    "    #correlation_maps['{}-{}'.format(*p)]['disk_center'] = timelags_disk_center.make_correlation_map(f'{p[0]}',f'{p[1]}',timelag_bounds=timelag_bounds)\n",
    "    #correlation_maps['{}-{}'.format(*p)]['earth'] = timelags_earth.make_correlation_map(f'{p[0]}',f'{p[1]}',timelag_bounds=timelag_bounds)\n",
    "    correlation_maps['{}-{}'.format(*p)]['arcade'] = timelags_arcade.make_correlation_map(f'{p[0]}',f'{p[1]}',timelag_bounds=timelag_bounds)"
   ]
  },
  {
   "cell_type": "markdown",
   "metadata": {},
   "source": [
    "Save to FITS files"
   ]
  },
  {
   "cell_type": "code",
   "execution_count": 19,
   "metadata": {},
   "outputs": [],
   "source": [
    "for cp in channel_pairs[2:5]:\n",
    "    timelag_maps['{}-{}'.format(*cp)]['off_limb'].save('../../tess-2018-talk/data/timelag_{}_{}-{}.fits'.format('off_limb',*cp))\n",
    "    timelag_maps['{}-{}'.format(*cp)]['arcade'].save('../../tess-2018-talk/data/timelag_{}_{}-{}.fits'.format('arcade',*cp))\n",
    "    correlation_maps['{}-{}'.format(*cp)]['off_limb'].save('../../tess-2018-talk/data/correlation_{}_{}-{}.fits'.format('off_limb',*cp))\n",
    "    correlation_maps['{}-{}'.format(*cp)]['arcade'].save('../../tess-2018-talk/data/correlation_{}_{}-{}.fits'.format('arcade',*cp))"
   ]
  },
  {
   "cell_type": "markdown",
   "metadata": {},
   "source": [
    "## Compare Results"
   ]
  },
  {
   "cell_type": "code",
   "execution_count": null,
   "metadata": {},
   "outputs": [],
   "source": [
    "correlation_cutoff = 500."
   ]
  },
  {
   "cell_type": "code",
   "execution_count": null,
   "metadata": {},
   "outputs": [],
   "source": [
    "fig = plt.figure(figsize=(23,15))\n",
    "plt.subplots_adjust(hspace=0,wspace=0)\n",
    "cax = fig.add_axes([0.92, 0.125, 0.015, 0.75])\n",
    "for i,(c_a,c_b) in enumerate(channel_pairs):\n",
    "    for j,los in enumerate(['off_limb', 'disk_center', 'arcade', 'earth']):\n",
    "        tmp_cor = correlation_maps[f'{c_a}-{c_b}'][los]\n",
    "        tmp = timelag_maps[f'{c_a}-{c_b}'][los]\n",
    "        data = np.where(tmp_cor.data < correlation_cutoff, 0., tmp.data)\n",
    "        tmp = Map(data, tmp.meta)\n",
    "        if j == 2:\n",
    "            tmp = tmp.rotate(180 * u.deg)\n",
    "        tmp.plot_settings.update({'cmap': bgry_004_idl_cmap,\n",
    "                                  'vmin': (-2*u.hour).to(u.s).value,\n",
    "                                  'vmax': (2*u.hour).to(u.s).value})\n",
    "        ax = fig.add_subplot(4,len(channel_pairs),6*j + i + 1,projection=tmp)\n",
    "        im = tmp.plot(annotate=False,title=False)\n",
    "        lon = ax.coords[0]\n",
    "        lat = ax.coords[1]\n",
    "        lon.grid(draw_grid=False)\n",
    "        lat.grid(draw_grid=False)\n",
    "        if j==0 or j==2:\n",
    "            tmp.draw_limb(axes=ax,color='k')\n",
    "        #tmp.draw_grid(color='k',axes=ax,grid_spacing=10 * u.deg)\n",
    "        if i == 0:\n",
    "            lat.set_axislabel(' '.join(los.split('_')))\n",
    "        #if j < 1:\n",
    "        lon.set_ticklabel_visible(False)\n",
    "        lon.set_ticks_visible(False)\n",
    "        #if i > 0:\n",
    "        lat.set_ticklabel_visible(False)\n",
    "        lat.set_ticks_visible(False)\n",
    "        if j == 3:\n",
    "            lon.set_axislabel(f'{c_a}-{c_b} $\\mathrm{{\\mathring{{A}}}}$')\n",
    "cbar = fig.colorbar(im, cax=cax)"
   ]
  },
  {
   "cell_type": "code",
   "execution_count": null,
   "metadata": {},
   "outputs": [],
   "source": [
    "fig = plt.figure(figsize=(23,15))\n",
    "plt.subplots_adjust(hspace=0,wspace=0)\n",
    "cax = fig.add_axes([0.92, 0.125, 0.015, 0.75])\n",
    "for i,(c_a,c_b) in enumerate(channel_pairs):\n",
    "    for j,los in enumerate(['off_limb', 'disk_center', 'arcade', 'earth']):\n",
    "        tmp = correlation_maps[f'{c_a}-{c_b}'][los]\n",
    "        data = np.where(tmp.data < correlation_cutoff, np.nan, tmp.data)\n",
    "        tmp = Map(data, tmp.meta)\n",
    "        if j == 2:\n",
    "            tmp = tmp.rotate(180 * u.deg)\n",
    "            data = np.where(tmp.data < 1e-1, np.nan, tmp.data)\n",
    "            tmp = Map(data, tmp.meta)\n",
    "        tmp.plot_settings.update({'cmap':'magma','vmin':0,'vmax':2e3})\n",
    "        ax = fig.add_subplot(4,len(channel_pairs),6*j + i + 1,projection=tmp)\n",
    "        im = tmp.plot(annotate=False,title=False)\n",
    "        lon = ax.coords[0]\n",
    "        lat = ax.coords[1]\n",
    "        lon.grid(draw_grid=False)\n",
    "        lat.grid(draw_grid=False)\n",
    "        if j==0 or j==2:\n",
    "            tmp.draw_limb(axes=ax,color='k')\n",
    "        #tmp.draw_grid(color='k',axes=ax,grid_spacing=10 * u.deg)\n",
    "        if i == 0:\n",
    "            lat.set_axislabel(' '.join(los.split('_')))\n",
    "        #if j < 1:\n",
    "        lon.set_ticklabel_visible(False)\n",
    "        lon.set_ticks_visible(False)\n",
    "        #if i > 0:\n",
    "        lat.set_ticklabel_visible(False)\n",
    "        lat.set_ticks_visible(False)\n",
    "        if j == 3:\n",
    "            lon.set_axislabel(f'{c_a}-{c_b} $\\mathrm{{\\mathring{{A}}}}$')\n",
    "cbar = fig.colorbar(im, cax=cax)"
   ]
  },
  {
   "cell_type": "code",
   "execution_count": null,
   "metadata": {},
   "outputs": [],
   "source": [
    "bins = np.linspace(-(2*u.hour).to(u.s).value, (2*u.hour).to(u.s).value, 100)"
   ]
  },
  {
   "cell_type": "code",
   "execution_count": null,
   "metadata": {},
   "outputs": [],
   "source": [
    "params = {'log':True,'bins':bins,'histtype':'step','lw':2,'normed':False,'cumulative':False,'alpha':0.75}\n",
    "fig,axes = plt.subplots(2,3,figsize=(20,15),sharex=True,sharey=True)\n",
    "plt.subplots_adjust(hspace=0.1,wspace=0.1)\n",
    "# tlm_format = '/storage-home/w/wtb2/data/timelag_synthesis/{}/nei/timelag_maps/timelag_map_{}_{}.fits'\n",
    "for i,(p,ax) in enumerate(zip(channel_pairs,axes.flatten())):\n",
    "    for j,los in enumerate(['off_limb','disk_center', 'earth', 'arcade']):\n",
    "        tmp = timelag_maps['{}-{}'.format(*p)][los]\n",
    "        data = tmp.data.flatten()\n",
    "        tmp = correlation_maps['{}-{}'.format(*p)][los]\n",
    "        data_cor = tmp.data.flatten()\n",
    "        ax.hist(data[np.where(data_cor >= correlation_cutoff)], **params,\n",
    "                label=' '.join(los.split('_')),color=f'C{j}',ls='-')\n",
    "        ax.axvline(x=0,ls='--',color='k')\n",
    "        if j == 0:\n",
    "            ax.set_ylabel(r'{}-{} $\\mathrm{{\\mathring{{A}}}}$'.format(*p))\n",
    "        if i > 2:\n",
    "            ax.set_xlabel(r'timelag [s]')\n",
    "axes[0,0].set_xlim(-(2.1*u.hour).to(u.s).value, (2.1*u.hour).to(u.s).value);\n",
    "axes[0,0].set_ylim(2,5e4);\n",
    "axes[0,0].legend()\n",
    "# axes[0,0].set_xscale('symlog',linthreshx=1e1)"
   ]
  },
  {
   "cell_type": "code",
   "execution_count": null,
   "metadata": {},
   "outputs": [],
   "source": []
  }
 ],
 "metadata": {
  "kernelspec": {
   "display_name": "Python [conda env:synthesizar]",
   "language": "python",
   "name": "conda-env-synthesizar-py"
  },
  "language_info": {
   "codemirror_mode": {
    "name": "ipython",
    "version": 3
   },
   "file_extension": ".py",
   "mimetype": "text/x-python",
   "name": "python",
   "nbconvert_exporter": "python",
   "pygments_lexer": "ipython3",
   "version": "3.6.5"
  }
 },
 "nbformat": 4,
 "nbformat_minor": 2
}
