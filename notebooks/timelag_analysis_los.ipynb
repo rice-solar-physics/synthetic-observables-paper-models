{
 "cells": [
  {
   "cell_type": "markdown",
   "metadata": {},
   "source": [
    "# Timelag Analysis: Varying the LOS Angle\n",
    "For one of our heating cases (likely intermediate-frequency heating), compute the timelags for a two (maybe three?) different lines of sight:\n",
    "* as observed by AIA/HMI\n",
    "* rotated 90 degrees with respect to the surface normal at the center of the AR\n",
    "* if the AR was at disk center"
   ]
  },
  {
   "cell_type": "markdown",
   "metadata": {},
   "source": [
    "First, we need to rebin the intensity values for our intermediate frequency case for the face-on and off-limb observers. We've already compute the case where the observer is just the SDO satellite. "
   ]
  },
  {
   "cell_type": "code",
   "execution_count": null,
   "metadata": {},
   "outputs": [],
   "source": []
  }
 ],
 "metadata": {
  "kernelspec": {
   "display_name": "Python [conda env:synthesizar]",
   "language": "python",
   "name": "conda-env-synthesizar-py"
  },
  "language_info": {
   "codemirror_mode": {
    "name": "ipython",
    "version": 3
   },
   "file_extension": ".py",
   "mimetype": "text/x-python",
   "name": "python",
   "nbconvert_exporter": "python",
   "pygments_lexer": "ipython3",
   "version": "3.6.4"
  }
 },
 "nbformat": 4,
 "nbformat_minor": 2
}
