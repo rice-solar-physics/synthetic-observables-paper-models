{
 "cells": [
  {
   "cell_type": "markdown",
   "metadata": {},
   "source": [
    "# Prep Data for Figures\n",
    "In a few cases, we need to create reduced data files to build the figures in our paper."
   ]
  },
  {
   "cell_type": "code",
   "execution_count": 39,
   "metadata": {},
   "outputs": [],
   "source": [
    "import os\n",
    "import sys\n",
    "\n",
    "import numpy as np\n",
    "import h5py\n",
    "import matplotlib\n",
    "import matplotlib.pyplot as plt\n",
    "import seaborn\n",
    "import astropy.units as u\n",
    "from astropy.coordinates import SkyCoord\n",
    "from scipy.interpolate import splev\n",
    "from fiasco import list_elements\n",
    "import distributed\n",
    "import plasmapy.atomic\n",
    "\n",
    "import synthesizAR\n",
    "from synthesizAR.instruments import InstrumentSDOAIA\n",
    "from synthesizAR.analysis import AIATimelags, DistributedAIACube\n",
    "from synthesizAR.atomic import EmissionModel\n",
    "\n",
    "sys.path.append('../paper/python/')\n",
    "from formatting import get_figsize,hist_step,heating_palette,qualitative_palette\n",
    "\n",
    "import warnings\n",
    "warnings.filterwarnings('ignore',category=UserWarning,)\n",
    "\n",
    "%matplotlib inline"
   ]
  },
  {
   "cell_type": "markdown",
   "metadata": {},
   "source": [
    "## Heating\n",
    "Save the hydrodynamic quantities for a single sample loop to avoid having to track the entire loop parameters datasets (many GBs). Additionally, we'll save the heating rate because we want to plot this later on."
   ]
  },
  {
   "cell_type": "code",
   "execution_count": 14,
   "metadata": {},
   "outputs": [],
   "source": [
    "heating = ['high_frequency', 'intermediate_frequency', 'low_frequency']"
   ]
  },
  {
   "cell_type": "code",
   "execution_count": 15,
   "metadata": {},
   "outputs": [],
   "source": [
    "i_loop=680"
   ]
  },
  {
   "cell_type": "code",
   "execution_count": 18,
   "metadata": {},
   "outputs": [],
   "source": [
    "for h in heating:\n",
    "    with h5py.File(f'/storage-home/w/wtb2/data/timelag_synthesis_v2/{h}/loop_parameters.h5', 'r') as hf:\n",
    "        with h5py.File(f'../paper/data/{h}/loop_parameters.h5', 'w') as hf2:\n",
    "            hf.copy(f'loop{i_loop:06d}', hf2)\n",
    "            q = np.loadtxt(f'/storage-home/w/wtb2/data/timelag_synthesis_v2/{h}/hydro_results/loop{i_loop:06d}')[:,-1]\n",
    "            ds = hf2[f'loop{i_loop:06d}'].create_dataset('heating_rate', data=q)\n",
    "            ds.attrs['unit'] = 'erg cm^-3 s^-1'"
   ]
  },
  {
   "cell_type": "markdown",
   "metadata": {},
   "source": [
    "## Effective Response Functions\n",
    "Save the effective AIA response functions for the elements that we are concerned with in addition to the elemental components of each response."
   ]
  },
  {
   "cell_type": "code",
   "execution_count": 25,
   "metadata": {
    "collapsed": true
   },
   "outputs": [],
   "source": [
    "aia = InstrumentSDOAIA([0,1]*u.s,observer_coordinate=None)"
   ]
  },
  {
   "cell_type": "code",
   "execution_count": 29,
   "metadata": {},
   "outputs": [],
   "source": [
    "em = EmissionModel.restore('/storage-home/w/wtb2/data/timelag_synthesis_v2/base_emission_model.json')"
   ]
  },
  {
   "cell_type": "code",
   "execution_count": 32,
   "metadata": {
    "collapsed": true
   },
   "outputs": [],
   "source": [
    "with h5py.File('../paper/data/effective_aia_response.h5', 'w') as h5:\n",
    "    for channel in aia.channels:\n",
    "        grp = h5.create_group(f\"{channel['name']}\")\n",
    "        counts = np.zeros(em.temperature.shape+em.density.shape)\n",
    "        components = {}                     \n",
    "        for ion in em:\n",
    "            wvl,emiss = em.get_emissivity(ion)\n",
    "            if wvl is None or emiss is None:\n",
    "                continue\n",
    "            response = splev(wvl.value, channel['wavelength_response_spline'])\n",
    "            response = np.where(response < 0., 0., response)\n",
    "            tmp = np.dot(emiss.value, response)\n",
    "            tmp *= ion.abundance.value*ion.ioneq.value[:,np.newaxis]/em.density.value/4./np.pi\n",
    "            counts += tmp\n",
    "            if ion.element_name in components:\n",
    "                components[ion.element_name] += tmp \n",
    "            else:\n",
    "                components[ion.element_name] = tmp\n",
    "        grp.create_dataset('response', data=counts)\n",
    "        for k in components:\n",
    "            grp.create_dataset(k, data=components[k])"
   ]
  },
  {
   "cell_type": "markdown",
   "metadata": {},
   "source": [
    "## Timelag Example\n",
    "Now, we'll save the pixel-averaged intensities and corresponding timelags for a sample region of the cooling case. This is just to show an example of the timelag calculation in 1D."
   ]
  },
  {
   "cell_type": "code",
   "execution_count": 2,
   "metadata": {},
   "outputs": [],
   "source": [
    "channels = [94,131,171,193,211,335]\n",
    "channel_pairs = [(94,335),\n",
    "                 (94,171),\n",
    "                 (94,193),\n",
    "                 (94,131),\n",
    "                 (94,211),\n",
    "                 (335,131),\n",
    "                 (335,193),\n",
    "                 (335,211), \n",
    "                 (335,171),\n",
    "                 (211,131),\n",
    "                 (211,171),\n",
    "                 (211,193),\n",
    "                 (193,171),\n",
    "                 (193,131),\n",
    "                 (171,131),]"
   ]
  },
  {
   "cell_type": "code",
   "execution_count": 3,
   "metadata": {},
   "outputs": [
    {
     "data": {
      "text/html": [
       "<table style=\"border: 2px solid white;\">\n",
       "<tr>\n",
       "<td style=\"vertical-align: top; border: 0px solid white\">\n",
       "<h3>Client</h3>\n",
       "<ul>\n",
       "  <li><b>Scheduler: </b>tcp://127.0.0.1:34439\n",
       "  <li><b>Dashboard: </b><a href='http://127.0.0.1:8787/status' target='_blank'>http://127.0.0.1:8787/status</a>\n",
       "</ul>\n",
       "</td>\n",
       "<td style=\"vertical-align: top; border: 0px solid white\">\n",
       "<h3>Cluster</h3>\n",
       "<ul>\n",
       "  <li><b>Workers: </b>32</li>\n",
       "  <li><b>Cores: </b>64</li>\n",
       "  <li><b>Memory: </b>270.38 GB</li>\n",
       "</ul>\n",
       "</td>\n",
       "</tr>\n",
       "</table>"
      ],
      "text/plain": [
       "<Client: scheduler='tcp://127.0.0.1:34439' processes=32 cores=64>"
      ]
     },
     "execution_count": 3,
     "metadata": {},
     "output_type": "execute_result"
    }
   ],
   "source": [
    "cluster = distributed.LocalCluster(n_workers=32,threads_per_worker=2,)\n",
    "client = distributed.Client(cluster)\n",
    "client"
   ]
  },
  {
   "cell_type": "code",
   "execution_count": 4,
   "metadata": {},
   "outputs": [],
   "source": [
    "cooling = AIATimelags(*[DistributedAIACube.from_files(\n",
    "    f'/storage-home/w/wtb2/data/timelag_synthesis_v2/cooling/nei/SDO_AIA/{c}/*.fits') for c in channels])"
   ]
  },
  {
   "cell_type": "code",
   "execution_count": 5,
   "metadata": {},
   "outputs": [],
   "source": [
    "m = cooling[0].maps[0]\n",
    "bc = SkyCoord(-315*u.arcsec,-335*u.arcsec,frame=m.coordinate_frame)\n",
    "tc = SkyCoord(-310*u.arcsec,-330*u.arcsec,frame=m.coordinate_frame)"
   ]
  },
  {
   "cell_type": "code",
   "execution_count": 20,
   "metadata": {},
   "outputs": [],
   "source": [
    "with h5py.File('../paper/data/cooling/timelag_1d_example.h5', 'w') as h5:\n",
    "    #timeseries\n",
    "    grp = h5.create_group('timeseries')\n",
    "    for c in channels[:]:\n",
    "        ds = grp.create_dataset(f'{c}',data=cooling.make_timeseries(c, (bc.Tx,bc.Ty), (tc.Tx,tc.Ty),))\n",
    "        ds.attrs['unit'] = cooling[cooling.channels.index(c)].maps[0].meta['bunit']\n",
    "    ds = grp.create_dataset('time', data=cooling[0].time.value)\n",
    "    ds.attrs['unit'] = cooling[0].time.unit.to_string()\n",
    "    # Cross-correlations\n",
    "    grp = h5.create_group('cross_correlations')\n",
    "    for ca,cb in channel_pairs:\n",
    "        ds = grp.create_dataset(f'{ca}_{cb}', data=cooling.correlation_1d(ca, cb, (bc.Tx,bc.Ty), (tc.Tx,tc.Ty)))\n",
    "        ds.attrs['unit'] = ''\n",
    "    ds = grp.create_dataset('timelags', data=cooling.timelags.value)\n",
    "    ds.attrs['unit'] = cooling.timelags.unit.to_string()"
   ]
  },
  {
   "cell_type": "code",
   "execution_count": null,
   "metadata": {},
   "outputs": [],
   "source": []
  }
 ],
 "metadata": {
  "kernelspec": {
   "display_name": "Python [conda env:synthetic-observables]",
   "language": "python",
   "name": "conda-env-synthetic-observables-py"
  },
  "language_info": {
   "codemirror_mode": {
    "name": "ipython",
    "version": 3
   },
   "file_extension": ".py",
   "mimetype": "text/x-python",
   "name": "python",
   "nbconvert_exporter": "python",
   "pygments_lexer": "ipython3",
   "version": "3.6.7"
  }
 },
 "nbformat": 4,
 "nbformat_minor": 2
}
