{
 "cells": [
  {
   "cell_type": "markdown",
   "metadata": {},
   "source": [
    "# Calculate Detector Counts: NEI\n",
    "Compute the AIA response use our full emission model, including non-equilibrium ionization."
   ]
  },
  {
   "cell_type": "code",
   "execution_count": 1,
   "metadata": {
    "collapsed": true
   },
   "outputs": [],
   "source": [
    "import os\n",
    "import time\n",
    "import h5py\n",
    "\n",
    "import numpy as np\n",
    "import astropy.units as u\n",
    "import matplotlib.pyplot as plt\n",
    "import dask\n",
    "import distributed\n",
    "\n",
    "import synthesizAR\n",
    "from synthesizAR.instruments import InstrumentSDOAIA\n",
    "from synthesizAR.atomic import EmissionModel\n",
    "from synthesizAR.model_ext import EbtelInterface\n",
    "\n",
    "%matplotlib inline"
   ]
  },
  {
   "cell_type": "code",
   "execution_count": 2,
   "metadata": {},
   "outputs": [
    {
     "data": {
      "text/html": [
       "<table style=\"border: 2px solid white;\">\n",
       "<tr>\n",
       "<td style=\"vertical-align: top; border: 0px solid white\">\n",
       "<h3>Client</h3>\n",
       "<ul>\n",
       "  <li><b>Scheduler: </b>tcp://127.0.0.1:42257\n",
       "  <li><b>Dashboard: </b><a href='http://127.0.0.1:8787' target='_blank'>http://127.0.0.1:8787</a>\n",
       "</ul>\n",
       "</td>\n",
       "<td style=\"vertical-align: top; border: 0px solid white\">\n",
       "<h3>Cluster</h3>\n",
       "<ul>\n",
       "  <li><b>Workers: </b>64</li>\n",
       "  <li><b>Cores: </b>64</li>\n",
       "  <li><b>Memory: </b>270.38 GB</li>\n",
       "</ul>\n",
       "</td>\n",
       "</tr>\n",
       "</table>"
      ],
      "text/plain": [
       "<Client: scheduler='tcp://127.0.0.1:42257' processes=64 cores=64>"
      ]
     },
     "execution_count": 2,
     "metadata": {},
     "output_type": "execute_result"
    }
   ],
   "source": [
    "client = distributed.Client()\n",
    "client"
   ]
  },
  {
   "cell_type": "markdown",
   "metadata": {},
   "source": [
    "Load in the desired field and emission model"
   ]
  },
  {
   "cell_type": "code",
   "execution_count": 3,
   "metadata": {},
   "outputs": [
    {
     "name": "stderr",
     "output_type": "stream",
     "text": [
      "No HMI fits file supplied. A new HMI map object will not be created.\n",
      "/storage-home/w/wtb2/anaconda3/envs/synthesizar/lib/python3.6/site-packages/synthesizAR-0.1.dev528-py3.6.egg/synthesizAR/field.py:187: SunpyDeprecationWarning: This property is only valid for non-rotated WCS\n",
      "  lcx, rcx = self.hmi_map.xrange + self.hmi_map.scale.axis1*u.Quantity([boundary_clipping[0], -boundary_clipping[0]], u.pixel)\n",
      "/storage-home/w/wtb2/anaconda3/envs/synthesizar/lib/python3.6/site-packages/synthesizAR-0.1.dev528-py3.6.egg/synthesizAR/field.py:188: SunpyDeprecationWarning: This property is only valid for non-rotated WCS\n",
      "  lcy, rcy = self.hmi_map.yrange + self.hmi_map.scale.axis2*u.Quantity([boundary_clipping[1], -boundary_clipping[1]], u.pixel)\n",
      "/storage-home/w/wtb2/anaconda3/envs/synthesizar/lib/python3.6/site-packages/synthesizAR-0.1.dev528-py3.6.egg/synthesizAR/field.py:195: SunpyDeprecationWarning: This property is only valid for non-rotated WCS\n",
      "  bbox = np.array([self._convert_angle_to_length(self.clipped_hmi_map.xrange).value,\n",
      "/storage-home/w/wtb2/anaconda3/envs/synthesizar/lib/python3.6/site-packages/synthesizAR-0.1.dev528-py3.6.egg/synthesizAR/field.py:196: SunpyDeprecationWarning: This property is only valid for non-rotated WCS\n",
      "  self._convert_angle_to_length(self.clipped_hmi_map.yrange).value,\n",
      "yt : [INFO     ] 2017-12-06 16:26:35,307 Parameters: current_time              = 0.0\n",
      "yt : [INFO     ] 2017-12-06 16:26:35,308 Parameters: domain_dimensions         = [96 96 96]\n",
      "yt : [INFO     ] 2017-12-06 16:26:35,309 Parameters: domain_left_edge          = [ -2.97931201e+10  -2.62091384e+10   3.91869796e+08]\n",
      "yt : [INFO     ] 2017-12-06 16:26:35,310 Parameters: domain_right_edge         = [ -1.18463315e+10  -7.41270210e+09   1.92016200e+10]\n",
      "yt : [INFO     ] 2017-12-06 16:26:35,311 Parameters: cosmological_simulation   = 0.0\n"
     ]
    }
   ],
   "source": [
    "field = synthesizAR.Skeleton.restore('/storage-home/w/wtb2/data/timelag_synthesis/cooling/field_checkpoint/')"
   ]
  },
  {
   "cell_type": "markdown",
   "metadata": {},
   "source": [
    "We are using an emission model which includes only the most dominant ions. Comparisons to the temperature response functions show these provide accurate coverage."
   ]
  },
  {
   "cell_type": "code",
   "execution_count": 4,
   "metadata": {
    "collapsed": true
   },
   "outputs": [],
   "source": [
    "em_model = EmissionModel.restore('/storage-home/w/wtb2/data/timelag_synthesis/base_emission_model_dominant.json')"
   ]
  },
  {
   "cell_type": "markdown",
   "metadata": {},
   "source": [
    "Compute and store the non-equilibrium ionization populations for each loop"
   ]
  },
  {
   "cell_type": "code",
   "execution_count": 5,
   "metadata": {
    "collapsed": true
   },
   "outputs": [],
   "source": [
    "tasks = em_model.calculate_ionization_fraction(field,\n",
    "                                              '/storage-home/w/wtb2/data/timelag_synthesis/cooling/nei/ionization_fractions.h5',\n",
    "                                               interface=EbtelInterface)"
   ]
  },
  {
   "cell_type": "code",
   "execution_count": 6,
   "metadata": {
    "collapsed": true
   },
   "outputs": [],
   "source": [
    "tasks.compute()"
   ]
  },
  {
   "cell_type": "code",
   "execution_count": 7,
   "metadata": {
    "collapsed": true
   },
   "outputs": [],
   "source": [
    "em_model.save('/storage-home/w/wtb2/data/timelag_synthesis/cooling/nei/emission_model_dominant.json')"
   ]
  },
  {
   "cell_type": "markdown",
   "metadata": {},
   "source": [
    "Or just reload the emission model"
   ]
  },
  {
   "cell_type": "code",
   "execution_count": null,
   "metadata": {
    "collapsed": true
   },
   "outputs": [],
   "source": [
    "em_model = EmissionModel.restore('/storage-home/w/wtb2/data/timelag_synthesis/cooling/nei/emission_model_dominant.json')"
   ]
  },
  {
   "cell_type": "markdown",
   "metadata": {},
   "source": [
    "Compute the detector counts"
   ]
  },
  {
   "cell_type": "code",
   "execution_count": 8,
   "metadata": {
    "collapsed": true
   },
   "outputs": [],
   "source": [
    "aia = InstrumentSDOAIA([0,10000]*u.s, use_temperature_response_functions=False)"
   ]
  },
  {
   "cell_type": "code",
   "execution_count": 9,
   "metadata": {
    "collapsed": true
   },
   "outputs": [],
   "source": [
    "observer = synthesizAR.Observer(field,[aia],parallel=True)"
   ]
  },
  {
   "cell_type": "code",
   "execution_count": 10,
   "metadata": {},
   "outputs": [
    {
     "name": "stderr",
     "output_type": "stream",
     "text": [
      "/storage-home/w/wtb2/anaconda3/envs/synthesizar/lib/python3.6/site-packages/scipy/interpolate/_fitpack_impl.py:299: RuntimeWarning: The maximal number of iterations (20) allowed for finding smoothing\n",
      "spline with fp=s has been reached. Probable cause: s too small.\n",
      "(abs(fp-s)/s>0.001)\n",
      "  warnings.warn(RuntimeWarning(_iermess[ier][0]))\n",
      "/storage-home/w/wtb2/anaconda3/envs/synthesizar/lib/python3.6/site-packages/scipy/interpolate/_fitpack_impl.py:299: RuntimeWarning: A theoretically impossible result when finding a smoothing spline\n",
      "with fp = s. Probable cause: s too small. (abs(fp-s)/s>0.001)\n",
      "  warnings.warn(RuntimeWarning(_iermess[ier][0]))\n",
      "/storage-home/w/wtb2/anaconda3/envs/synthesizar/lib/python3.6/site-packages/synthesizAR-0.1.dev528-py3.6.egg/synthesizAR/instruments/base.py:116: SunpyDeprecationWarning: This property is only valid for non-rotated WCS\n",
      "  delta_x = np.fabs(field.clipped_hmi_map.xrange[1] - field.clipped_hmi_map.xrange[0])\n",
      "/storage-home/w/wtb2/anaconda3/envs/synthesizar/lib/python3.6/site-packages/synthesizAR-0.1.dev528-py3.6.egg/synthesizAR/instruments/base.py:117: SunpyDeprecationWarning: This property is only valid for non-rotated WCS\n",
      "  delta_y = np.fabs(field.clipped_hmi_map.yrange[1] - field.clipped_hmi_map.yrange[0])\n",
      "/storage-home/w/wtb2/anaconda3/envs/synthesizar/lib/python3.6/site-packages/synthesizAR-0.1.dev528-py3.6.egg/synthesizAR/instruments/base.py:126: SunpyDeprecationWarning: This property is only valid for non-rotated WCS\n",
      "  self.bin_range = Pair(field._convert_angle_to_length(field.clipped_hmi_map.xrange).value,\n",
      "/storage-home/w/wtb2/anaconda3/envs/synthesizar/lib/python3.6/site-packages/synthesizAR-0.1.dev528-py3.6.egg/synthesizAR/instruments/base.py:127: SunpyDeprecationWarning: This property is only valid for non-rotated WCS\n",
      "  field._convert_angle_to_length(field.clipped_hmi_map.yrange).value,\n"
     ]
    }
   ],
   "source": [
    "observer.build_detector_files('/storage-home/w/wtb2/data/timelag_synthesis/cooling/nei/',\n",
    "                              ds=field._convert_angle_to_length(1.0*u.arcsec))"
   ]
  },
  {
   "cell_type": "code",
   "execution_count": 11,
   "metadata": {
    "collapsed": true
   },
   "outputs": [],
   "source": [
    "tasks = observer.flatten_detector_counts(emission_model=em_model)"
   ]
  },
  {
   "cell_type": "code",
   "execution_count": 12,
   "metadata": {
    "collapsed": true
   },
   "outputs": [],
   "source": [
    "tasks['SDO_AIA_parameters'].compute()"
   ]
  },
  {
   "cell_type": "code",
   "execution_count": 13,
   "metadata": {
    "collapsed": true
   },
   "outputs": [],
   "source": [
    "tasks['SDO_AIA_counts'].compute(resources={'MEMORY':'100GB'})"
   ]
  },
  {
   "cell_type": "markdown",
   "metadata": {},
   "source": [
    "And finally build the maps"
   ]
  },
  {
   "cell_type": "code",
   "execution_count": 14,
   "metadata": {
    "collapsed": true
   },
   "outputs": [],
   "source": [
    "tasks = observer.bin_detector_counts('/storage-home/w/wtb2/data/timelag_synthesis/cooling/nei/')"
   ]
  },
  {
   "cell_type": "code",
   "execution_count": 15,
   "metadata": {},
   "outputs": [
    {
     "name": "stderr",
     "output_type": "stream",
     "text": [
      "tornado.application - ERROR - Exception in callback <bound method Nanny.memory_monitor of <Nanny: tcp://127.0.0.1:36501, threads: 1>>\n",
      "Traceback (most recent call last):\n",
      "  File \"/storage-home/w/wtb2/anaconda3/envs/synthesizar/lib/python3.6/site-packages/tornado/ioloop.py\", line 1026, in _run\n",
      "    return self.callback()\n",
      "  File \"/storage-home/w/wtb2/anaconda3/envs/synthesizar/lib/python3.6/site-packages/distributed/nanny.py\", line 254, in memory_monitor\n",
      "    self.process.process.terminate()\n",
      "AttributeError: 'NoneType' object has no attribute 'terminate'\n",
      "tornado.application - ERROR - Exception in callback <bound method Nanny.memory_monitor of <Nanny: tcp://127.0.0.1:36501, threads: 1>>\n",
      "Traceback (most recent call last):\n",
      "  File \"/storage-home/w/wtb2/anaconda3/envs/synthesizar/lib/python3.6/site-packages/tornado/ioloop.py\", line 1026, in _run\n",
      "    return self.callback()\n",
      "  File \"/storage-home/w/wtb2/anaconda3/envs/synthesizar/lib/python3.6/site-packages/distributed/nanny.py\", line 254, in memory_monitor\n",
      "    self.process.process.terminate()\n",
      "AttributeError: 'NoneType' object has no attribute 'terminate'\n",
      "tornado.application - ERROR - Exception in callback <bound method Nanny.memory_monitor of <Nanny: tcp://127.0.0.1:36501, threads: 1>>\n",
      "Traceback (most recent call last):\n",
      "  File \"/storage-home/w/wtb2/anaconda3/envs/synthesizar/lib/python3.6/site-packages/tornado/ioloop.py\", line 1026, in _run\n",
      "    return self.callback()\n",
      "  File \"/storage-home/w/wtb2/anaconda3/envs/synthesizar/lib/python3.6/site-packages/distributed/nanny.py\", line 254, in memory_monitor\n",
      "    self.process.process.terminate()\n",
      "AttributeError: 'NoneType' object has no attribute 'terminate'\n",
      "tornado.application - ERROR - Exception in callback <bound method Nanny.memory_monitor of <Nanny: tcp://127.0.0.1:36501, threads: 1>>\n",
      "Traceback (most recent call last):\n",
      "  File \"/storage-home/w/wtb2/anaconda3/envs/synthesizar/lib/python3.6/site-packages/tornado/ioloop.py\", line 1026, in _run\n",
      "    return self.callback()\n",
      "  File \"/storage-home/w/wtb2/anaconda3/envs/synthesizar/lib/python3.6/site-packages/distributed/nanny.py\", line 254, in memory_monitor\n",
      "    self.process.process.terminate()\n",
      "AttributeError: 'NoneType' object has no attribute 'terminate'\n",
      "tornado.application - ERROR - Exception in callback <bound method Nanny.memory_monitor of <Nanny: tcp://127.0.0.1:36501, threads: 1>>\n",
      "Traceback (most recent call last):\n",
      "  File \"/storage-home/w/wtb2/anaconda3/envs/synthesizar/lib/python3.6/site-packages/tornado/ioloop.py\", line 1026, in _run\n",
      "    return self.callback()\n",
      "  File \"/storage-home/w/wtb2/anaconda3/envs/synthesizar/lib/python3.6/site-packages/distributed/nanny.py\", line 254, in memory_monitor\n",
      "    self.process.process.terminate()\n",
      "AttributeError: 'NoneType' object has no attribute 'terminate'\n",
      "tornado.application - ERROR - Exception in callback <bound method Nanny.memory_monitor of <Nanny: tcp://127.0.0.1:36501, threads: 1>>\n",
      "Traceback (most recent call last):\n",
      "  File \"/storage-home/w/wtb2/anaconda3/envs/synthesizar/lib/python3.6/site-packages/tornado/ioloop.py\", line 1026, in _run\n",
      "    return self.callback()\n",
      "  File \"/storage-home/w/wtb2/anaconda3/envs/synthesizar/lib/python3.6/site-packages/distributed/nanny.py\", line 254, in memory_monitor\n",
      "    self.process.process.terminate()\n",
      "AttributeError: 'NoneType' object has no attribute 'terminate'\n",
      "tornado.application - ERROR - Exception in callback <bound method Nanny.memory_monitor of <Nanny: tcp://127.0.0.1:36501, threads: 1>>\n",
      "Traceback (most recent call last):\n",
      "  File \"/storage-home/w/wtb2/anaconda3/envs/synthesizar/lib/python3.6/site-packages/tornado/ioloop.py\", line 1026, in _run\n",
      "    return self.callback()\n",
      "  File \"/storage-home/w/wtb2/anaconda3/envs/synthesizar/lib/python3.6/site-packages/distributed/nanny.py\", line 254, in memory_monitor\n",
      "    self.process.process.terminate()\n",
      "AttributeError: 'NoneType' object has no attribute 'terminate'\n",
      "tornado.application - ERROR - Exception in callback <bound method Nanny.memory_monitor of <Nanny: tcp://127.0.0.1:36975, threads: 1>>\n",
      "Traceback (most recent call last):\n",
      "  File \"/storage-home/w/wtb2/anaconda3/envs/synthesizar/lib/python3.6/site-packages/tornado/ioloop.py\", line 1026, in _run\n",
      "    return self.callback()\n",
      "  File \"/storage-home/w/wtb2/anaconda3/envs/synthesizar/lib/python3.6/site-packages/distributed/nanny.py\", line 254, in memory_monitor\n",
      "    self.process.process.terminate()\n",
      "AttributeError: 'NoneType' object has no attribute 'terminate'\n",
      "tornado.application - ERROR - Exception in callback <bound method Nanny.memory_monitor of <Nanny: tcp://127.0.0.1:36501, threads: 1>>\n",
      "Traceback (most recent call last):\n",
      "  File \"/storage-home/w/wtb2/anaconda3/envs/synthesizar/lib/python3.6/site-packages/tornado/ioloop.py\", line 1026, in _run\n",
      "    return self.callback()\n",
      "  File \"/storage-home/w/wtb2/anaconda3/envs/synthesizar/lib/python3.6/site-packages/distributed/nanny.py\", line 254, in memory_monitor\n",
      "    self.process.process.terminate()\n",
      "AttributeError: 'NoneType' object has no attribute 'terminate'\n",
      "tornado.application - ERROR - Exception in callback <bound method Nanny.memory_monitor of <Nanny: tcp://127.0.0.1:36975, threads: 1>>\n",
      "Traceback (most recent call last):\n",
      "  File \"/storage-home/w/wtb2/anaconda3/envs/synthesizar/lib/python3.6/site-packages/tornado/ioloop.py\", line 1026, in _run\n",
      "    return self.callback()\n",
      "  File \"/storage-home/w/wtb2/anaconda3/envs/synthesizar/lib/python3.6/site-packages/distributed/nanny.py\", line 254, in memory_monitor\n",
      "    self.process.process.terminate()\n",
      "AttributeError: 'NoneType' object has no attribute 'terminate'\n",
      "tornado.application - ERROR - Exception in callback <bound method Nanny.memory_monitor of <Nanny: tcp://127.0.0.1:36975, threads: 1>>\n",
      "Traceback (most recent call last):\n",
      "  File \"/storage-home/w/wtb2/anaconda3/envs/synthesizar/lib/python3.6/site-packages/tornado/ioloop.py\", line 1026, in _run\n",
      "    return self.callback()\n",
      "  File \"/storage-home/w/wtb2/anaconda3/envs/synthesizar/lib/python3.6/site-packages/distributed/nanny.py\", line 254, in memory_monitor\n",
      "    self.process.process.terminate()\n",
      "AttributeError: 'NoneType' object has no attribute 'terminate'\n",
      "tornado.application - ERROR - Exception in callback <bound method Nanny.memory_monitor of <Nanny: tcp://127.0.0.1:36501, threads: 1>>\n",
      "Traceback (most recent call last):\n",
      "  File \"/storage-home/w/wtb2/anaconda3/envs/synthesizar/lib/python3.6/site-packages/tornado/ioloop.py\", line 1026, in _run\n",
      "    return self.callback()\n",
      "  File \"/storage-home/w/wtb2/anaconda3/envs/synthesizar/lib/python3.6/site-packages/distributed/nanny.py\", line 254, in memory_monitor\n",
      "    self.process.process.terminate()\n",
      "AttributeError: 'NoneType' object has no attribute 'terminate'\n",
      "tornado.application - ERROR - Exception in callback <bound method Nanny.memory_monitor of <Nanny: tcp://127.0.0.1:36501, threads: 1>>\n",
      "Traceback (most recent call last):\n",
      "  File \"/storage-home/w/wtb2/anaconda3/envs/synthesizar/lib/python3.6/site-packages/tornado/ioloop.py\", line 1026, in _run\n",
      "    return self.callback()\n",
      "  File \"/storage-home/w/wtb2/anaconda3/envs/synthesizar/lib/python3.6/site-packages/distributed/nanny.py\", line 254, in memory_monitor\n",
      "    self.process.process.terminate()\n",
      "AttributeError: 'NoneType' object has no attribute 'terminate'\n",
      "tornado.application - ERROR - Exception in callback <bound method Nanny.memory_monitor of <Nanny: tcp://127.0.0.1:36975, threads: 1>>\n",
      "Traceback (most recent call last):\n",
      "  File \"/storage-home/w/wtb2/anaconda3/envs/synthesizar/lib/python3.6/site-packages/tornado/ioloop.py\", line 1026, in _run\n",
      "    return self.callback()\n",
      "  File \"/storage-home/w/wtb2/anaconda3/envs/synthesizar/lib/python3.6/site-packages/distributed/nanny.py\", line 254, in memory_monitor\n",
      "    self.process.process.terminate()\n",
      "AttributeError: 'NoneType' object has no attribute 'terminate'\n",
      "tornado.application - ERROR - Exception in callback <bound method Nanny.memory_monitor of <Nanny: tcp://127.0.0.1:36501, threads: 1>>\n",
      "Traceback (most recent call last):\n",
      "  File \"/storage-home/w/wtb2/anaconda3/envs/synthesizar/lib/python3.6/site-packages/tornado/ioloop.py\", line 1026, in _run\n",
      "    return self.callback()\n",
      "  File \"/storage-home/w/wtb2/anaconda3/envs/synthesizar/lib/python3.6/site-packages/distributed/nanny.py\", line 254, in memory_monitor\n",
      "    self.process.process.terminate()\n",
      "AttributeError: 'NoneType' object has no attribute 'terminate'\n"
     ]
    },
    {
     "name": "stderr",
     "output_type": "stream",
     "text": [
      "tornado.application - ERROR - Exception in callback <bound method Nanny.memory_monitor of <Nanny: tcp://127.0.0.1:36975, threads: 1>>\n",
      "Traceback (most recent call last):\n",
      "  File \"/storage-home/w/wtb2/anaconda3/envs/synthesizar/lib/python3.6/site-packages/tornado/ioloop.py\", line 1026, in _run\n",
      "    return self.callback()\n",
      "  File \"/storage-home/w/wtb2/anaconda3/envs/synthesizar/lib/python3.6/site-packages/distributed/nanny.py\", line 254, in memory_monitor\n",
      "    self.process.process.terminate()\n",
      "AttributeError: 'NoneType' object has no attribute 'terminate'\n",
      "tornado.application - ERROR - Exception in callback <bound method Nanny.memory_monitor of <Nanny: tcp://127.0.0.1:36501, threads: 1>>\n",
      "Traceback (most recent call last):\n",
      "  File \"/storage-home/w/wtb2/anaconda3/envs/synthesizar/lib/python3.6/site-packages/tornado/ioloop.py\", line 1026, in _run\n",
      "    return self.callback()\n",
      "  File \"/storage-home/w/wtb2/anaconda3/envs/synthesizar/lib/python3.6/site-packages/distributed/nanny.py\", line 254, in memory_monitor\n",
      "    self.process.process.terminate()\n",
      "AttributeError: 'NoneType' object has no attribute 'terminate'\n",
      "tornado.application - ERROR - Exception in callback <bound method Nanny.memory_monitor of <Nanny: tcp://127.0.0.1:36975, threads: 1>>\n",
      "Traceback (most recent call last):\n",
      "  File \"/storage-home/w/wtb2/anaconda3/envs/synthesizar/lib/python3.6/site-packages/tornado/ioloop.py\", line 1026, in _run\n",
      "    return self.callback()\n",
      "  File \"/storage-home/w/wtb2/anaconda3/envs/synthesizar/lib/python3.6/site-packages/distributed/nanny.py\", line 254, in memory_monitor\n",
      "    self.process.process.terminate()\n",
      "AttributeError: 'NoneType' object has no attribute 'terminate'\n",
      "tornado.application - ERROR - Exception in callback <bound method Nanny.memory_monitor of <Nanny: tcp://127.0.0.1:36501, threads: 1>>\n",
      "Traceback (most recent call last):\n",
      "  File \"/storage-home/w/wtb2/anaconda3/envs/synthesizar/lib/python3.6/site-packages/tornado/ioloop.py\", line 1026, in _run\n",
      "    return self.callback()\n",
      "  File \"/storage-home/w/wtb2/anaconda3/envs/synthesizar/lib/python3.6/site-packages/distributed/nanny.py\", line 254, in memory_monitor\n",
      "    self.process.process.terminate()\n",
      "AttributeError: 'NoneType' object has no attribute 'terminate'\n",
      "tornado.application - ERROR - Exception in callback <bound method Nanny.memory_monitor of <Nanny: tcp://127.0.0.1:44001, threads: 1>>\n",
      "Traceback (most recent call last):\n",
      "  File \"/storage-home/w/wtb2/anaconda3/envs/synthesizar/lib/python3.6/site-packages/tornado/ioloop.py\", line 1026, in _run\n",
      "    return self.callback()\n",
      "  File \"/storage-home/w/wtb2/anaconda3/envs/synthesizar/lib/python3.6/site-packages/distributed/nanny.py\", line 254, in memory_monitor\n",
      "    self.process.process.terminate()\n",
      "AttributeError: 'NoneType' object has no attribute 'terminate'\n",
      "tornado.application - ERROR - Exception in callback <bound method Nanny.memory_monitor of <Nanny: tcp://127.0.0.1:44001, threads: 1>>\n",
      "Traceback (most recent call last):\n",
      "  File \"/storage-home/w/wtb2/anaconda3/envs/synthesizar/lib/python3.6/site-packages/tornado/ioloop.py\", line 1026, in _run\n",
      "    return self.callback()\n",
      "  File \"/storage-home/w/wtb2/anaconda3/envs/synthesizar/lib/python3.6/site-packages/distributed/nanny.py\", line 254, in memory_monitor\n",
      "    self.process.process.terminate()\n",
      "AttributeError: 'NoneType' object has no attribute 'terminate'\n",
      "tornado.application - ERROR - Exception in callback <bound method Nanny.memory_monitor of <Nanny: tcp://127.0.0.1:44001, threads: 1>>\n",
      "Traceback (most recent call last):\n",
      "  File \"/storage-home/w/wtb2/anaconda3/envs/synthesizar/lib/python3.6/site-packages/tornado/ioloop.py\", line 1026, in _run\n",
      "    return self.callback()\n",
      "  File \"/storage-home/w/wtb2/anaconda3/envs/synthesizar/lib/python3.6/site-packages/distributed/nanny.py\", line 254, in memory_monitor\n",
      "    self.process.process.terminate()\n",
      "AttributeError: 'NoneType' object has no attribute 'terminate'\n",
      "tornado.application - ERROR - Exception in callback <bound method Nanny.memory_monitor of <Nanny: tcp://127.0.0.1:44001, threads: 1>>\n",
      "Traceback (most recent call last):\n",
      "  File \"/storage-home/w/wtb2/anaconda3/envs/synthesizar/lib/python3.6/site-packages/tornado/ioloop.py\", line 1026, in _run\n",
      "    return self.callback()\n",
      "  File \"/storage-home/w/wtb2/anaconda3/envs/synthesizar/lib/python3.6/site-packages/distributed/nanny.py\", line 254, in memory_monitor\n",
      "    self.process.process.terminate()\n",
      "AttributeError: 'NoneType' object has no attribute 'terminate'\n",
      "tornado.application - ERROR - Exception in callback <bound method Nanny.memory_monitor of <Nanny: tcp://127.0.0.1:44001, threads: 1>>\n",
      "Traceback (most recent call last):\n",
      "  File \"/storage-home/w/wtb2/anaconda3/envs/synthesizar/lib/python3.6/site-packages/tornado/ioloop.py\", line 1026, in _run\n",
      "    return self.callback()\n",
      "  File \"/storage-home/w/wtb2/anaconda3/envs/synthesizar/lib/python3.6/site-packages/distributed/nanny.py\", line 254, in memory_monitor\n",
      "    self.process.process.terminate()\n",
      "AttributeError: 'NoneType' object has no attribute 'terminate'\n",
      "tornado.application - ERROR - Exception in callback <bound method Nanny.memory_monitor of <Nanny: tcp://127.0.0.1:44001, threads: 1>>\n",
      "Traceback (most recent call last):\n",
      "  File \"/storage-home/w/wtb2/anaconda3/envs/synthesizar/lib/python3.6/site-packages/tornado/ioloop.py\", line 1026, in _run\n",
      "    return self.callback()\n",
      "  File \"/storage-home/w/wtb2/anaconda3/envs/synthesizar/lib/python3.6/site-packages/distributed/nanny.py\", line 254, in memory_monitor\n",
      "    self.process.process.terminate()\n",
      "AttributeError: 'NoneType' object has no attribute 'terminate'\n",
      "tornado.application - ERROR - Exception in callback <bound method Nanny.memory_monitor of <Nanny: tcp://127.0.0.1:44001, threads: 1>>\n",
      "Traceback (most recent call last):\n",
      "  File \"/storage-home/w/wtb2/anaconda3/envs/synthesizar/lib/python3.6/site-packages/tornado/ioloop.py\", line 1026, in _run\n",
      "    return self.callback()\n",
      "  File \"/storage-home/w/wtb2/anaconda3/envs/synthesizar/lib/python3.6/site-packages/distributed/nanny.py\", line 254, in memory_monitor\n",
      "    self.process.process.terminate()\n",
      "AttributeError: 'NoneType' object has no attribute 'terminate'\n",
      "tornado.application - ERROR - Exception in callback <bound method Nanny.memory_monitor of <Nanny: tcp://127.0.0.1:33922, threads: 1>>\n",
      "Traceback (most recent call last):\n",
      "  File \"/storage-home/w/wtb2/anaconda3/envs/synthesizar/lib/python3.6/site-packages/tornado/ioloop.py\", line 1026, in _run\n",
      "    return self.callback()\n",
      "  File \"/storage-home/w/wtb2/anaconda3/envs/synthesizar/lib/python3.6/site-packages/distributed/nanny.py\", line 254, in memory_monitor\n",
      "    self.process.process.terminate()\n",
      "AttributeError: 'NoneType' object has no attribute 'terminate'\n",
      "tornado.application - ERROR - Exception in callback <bound method Nanny.memory_monitor of <Nanny: tcp://127.0.0.1:33922, threads: 1>>\n",
      "Traceback (most recent call last):\n",
      "  File \"/storage-home/w/wtb2/anaconda3/envs/synthesizar/lib/python3.6/site-packages/tornado/ioloop.py\", line 1026, in _run\n",
      "    return self.callback()\n",
      "  File \"/storage-home/w/wtb2/anaconda3/envs/synthesizar/lib/python3.6/site-packages/distributed/nanny.py\", line 254, in memory_monitor\n",
      "    self.process.process.terminate()\n",
      "AttributeError: 'NoneType' object has no attribute 'terminate'\n",
      "tornado.application - ERROR - Exception in callback <bound method Nanny.memory_monitor of <Nanny: tcp://127.0.0.1:33922, threads: 1>>\n",
      "Traceback (most recent call last):\n",
      "  File \"/storage-home/w/wtb2/anaconda3/envs/synthesizar/lib/python3.6/site-packages/tornado/ioloop.py\", line 1026, in _run\n",
      "    return self.callback()\n",
      "  File \"/storage-home/w/wtb2/anaconda3/envs/synthesizar/lib/python3.6/site-packages/distributed/nanny.py\", line 254, in memory_monitor\n",
      "    self.process.process.terminate()\n",
      "AttributeError: 'NoneType' object has no attribute 'terminate'\n",
      "tornado.application - ERROR - Exception in callback <bound method Nanny.memory_monitor of <Nanny: tcp://127.0.0.1:33922, threads: 1>>\n",
      "Traceback (most recent call last):\n",
      "  File \"/storage-home/w/wtb2/anaconda3/envs/synthesizar/lib/python3.6/site-packages/tornado/ioloop.py\", line 1026, in _run\n",
      "    return self.callback()\n",
      "  File \"/storage-home/w/wtb2/anaconda3/envs/synthesizar/lib/python3.6/site-packages/distributed/nanny.py\", line 254, in memory_monitor\n",
      "    self.process.process.terminate()\n",
      "AttributeError: 'NoneType' object has no attribute 'terminate'\n"
     ]
    },
    {
     "name": "stderr",
     "output_type": "stream",
     "text": [
      "tornado.application - ERROR - Exception in callback <bound method Nanny.memory_monitor of <Nanny: tcp://127.0.0.1:33922, threads: 1>>\n",
      "Traceback (most recent call last):\n",
      "  File \"/storage-home/w/wtb2/anaconda3/envs/synthesizar/lib/python3.6/site-packages/tornado/ioloop.py\", line 1026, in _run\n",
      "    return self.callback()\n",
      "  File \"/storage-home/w/wtb2/anaconda3/envs/synthesizar/lib/python3.6/site-packages/distributed/nanny.py\", line 254, in memory_monitor\n",
      "    self.process.process.terminate()\n",
      "AttributeError: 'NoneType' object has no attribute 'terminate'\n",
      "tornado.application - ERROR - Exception in callback <bound method Nanny.memory_monitor of <Nanny: tcp://127.0.0.1:33922, threads: 1>>\n",
      "Traceback (most recent call last):\n",
      "  File \"/storage-home/w/wtb2/anaconda3/envs/synthesizar/lib/python3.6/site-packages/tornado/ioloop.py\", line 1026, in _run\n",
      "    return self.callback()\n",
      "  File \"/storage-home/w/wtb2/anaconda3/envs/synthesizar/lib/python3.6/site-packages/distributed/nanny.py\", line 254, in memory_monitor\n",
      "    self.process.process.terminate()\n",
      "AttributeError: 'NoneType' object has no attribute 'terminate'\n"
     ]
    }
   ],
   "source": [
    "jobs = client.compute(tasks['SDO_AIA'])"
   ]
  },
  {
   "cell_type": "code",
   "execution_count": 16,
   "metadata": {
    "collapsed": true
   },
   "outputs": [],
   "source": [
    "jobs = None"
   ]
  },
  {
   "cell_type": "code",
   "execution_count": 17,
   "metadata": {
    "collapsed": true
   },
   "outputs": [],
   "source": [
    "client.close()"
   ]
  },
  {
   "cell_type": "code",
   "execution_count": null,
   "metadata": {
    "collapsed": true
   },
   "outputs": [],
   "source": []
  }
 ],
 "metadata": {
  "kernelspec": {
   "display_name": "Python [conda env:synthesizar]",
   "language": "python",
   "name": "conda-env-synthesizar-py"
  },
  "language_info": {
   "codemirror_mode": {
    "name": "ipython",
    "version": 3
   },
   "file_extension": ".py",
   "mimetype": "text/x-python",
   "name": "python",
   "nbconvert_exporter": "python",
   "pygments_lexer": "ipython3",
   "version": "3.6.3"
  }
 },
 "nbformat": 4,
 "nbformat_minor": 2
}
