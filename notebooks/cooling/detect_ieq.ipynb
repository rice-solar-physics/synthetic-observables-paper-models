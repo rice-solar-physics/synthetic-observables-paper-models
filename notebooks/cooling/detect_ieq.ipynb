{
 "cells": [
  {
   "cell_type": "markdown",
   "metadata": {},
   "source": [
    "# Calculate Detector Counts: Ionization Equilibrium\n",
    "Calculate the detector counts, this time assuming ionization equilibrium. Were we to include all ions (plus continuum), this is mostly equivalent to using the pre-computed temperature response functions."
   ]
  },
  {
   "cell_type": "code",
   "execution_count": 1,
   "metadata": {
    "collapsed": true
   },
   "outputs": [],
   "source": [
    "import os\n",
    "\n",
    "import numpy as np\n",
    "import astropy.units as u\n",
    "import matplotlib.pyplot as plt\n",
    "import distributed\n",
    "\n",
    "import synthesizAR\n",
    "from synthesizAR.instruments import InstrumentSDOAIA\n",
    "from synthesizAR.atomic import EmissionModel\n",
    "from synthesizAR.model_ext import EbtelInterface\n",
    "\n",
    "%matplotlib inline"
   ]
  },
  {
   "cell_type": "code",
   "execution_count": 2,
   "metadata": {},
   "outputs": [
    {
     "data": {
      "text/html": [
       "<table style=\"border: 2px solid white;\">\n",
       "<tr>\n",
       "<td style=\"vertical-align: top; border: 0px solid white\">\n",
       "<h3>Client</h3>\n",
       "<ul>\n",
       "  <li><b>Scheduler: </b>tcp://127.0.0.1:38330\n",
       "  <li><b>Dashboard: </b><a href='http://127.0.0.1:8787' target='_blank'>http://127.0.0.1:8787</a>\n",
       "</ul>\n",
       "</td>\n",
       "<td style=\"vertical-align: top; border: 0px solid white\">\n",
       "<h3>Cluster</h3>\n",
       "<ul>\n",
       "  <li><b>Workers: </b>64</li>\n",
       "  <li><b>Cores: </b>64</li>\n",
       "  <li><b>Memory: </b>270.38 GB</li>\n",
       "</ul>\n",
       "</td>\n",
       "</tr>\n",
       "</table>"
      ],
      "text/plain": [
       "<Client: scheduler='tcp://127.0.0.1:38330' processes=64 cores=64>"
      ]
     },
     "execution_count": 2,
     "metadata": {},
     "output_type": "execute_result"
    }
   ],
   "source": [
    "client = distributed.Client()\n",
    "client"
   ]
  },
  {
   "cell_type": "markdown",
   "metadata": {},
   "source": [
    "Reload the selected field"
   ]
  },
  {
   "cell_type": "code",
   "execution_count": 3,
   "metadata": {},
   "outputs": [
    {
     "name": "stderr",
     "output_type": "stream",
     "text": [
      "No HMI fits file supplied. A new HMI map object will not be created.\n",
      "/storage-home/w/wtb2/anaconda3/envs/synthesizar/lib/python3.6/site-packages/synthesizAR-0.1.dev528-py3.6.egg/synthesizAR/field.py:187: SunpyDeprecationWarning: This property is only valid for non-rotated WCS\n",
      "  lcx, rcx = self.hmi_map.xrange + self.hmi_map.scale.axis1*u.Quantity([boundary_clipping[0], -boundary_clipping[0]], u.pixel)\n",
      "/storage-home/w/wtb2/anaconda3/envs/synthesizar/lib/python3.6/site-packages/synthesizAR-0.1.dev528-py3.6.egg/synthesizAR/field.py:188: SunpyDeprecationWarning: This property is only valid for non-rotated WCS\n",
      "  lcy, rcy = self.hmi_map.yrange + self.hmi_map.scale.axis2*u.Quantity([boundary_clipping[1], -boundary_clipping[1]], u.pixel)\n",
      "/storage-home/w/wtb2/anaconda3/envs/synthesizar/lib/python3.6/site-packages/synthesizAR-0.1.dev528-py3.6.egg/synthesizAR/field.py:195: SunpyDeprecationWarning: This property is only valid for non-rotated WCS\n",
      "  bbox = np.array([self._convert_angle_to_length(self.clipped_hmi_map.xrange).value,\n",
      "/storage-home/w/wtb2/anaconda3/envs/synthesizar/lib/python3.6/site-packages/synthesizAR-0.1.dev528-py3.6.egg/synthesizAR/field.py:196: SunpyDeprecationWarning: This property is only valid for non-rotated WCS\n",
      "  self._convert_angle_to_length(self.clipped_hmi_map.yrange).value,\n",
      "yt : [INFO     ] 2017-12-06 16:59:58,882 Parameters: current_time              = 0.0\n",
      "yt : [INFO     ] 2017-12-06 16:59:58,884 Parameters: domain_dimensions         = [96 96 96]\n",
      "yt : [INFO     ] 2017-12-06 16:59:58,887 Parameters: domain_left_edge          = [ -2.97931201e+10  -2.62091384e+10   3.91869796e+08]\n",
      "yt : [INFO     ] 2017-12-06 16:59:58,890 Parameters: domain_right_edge         = [ -1.18463315e+10  -7.41270210e+09   1.92016200e+10]\n",
      "yt : [INFO     ] 2017-12-06 16:59:58,892 Parameters: cosmological_simulation   = 0.0\n"
     ]
    }
   ],
   "source": [
    "field = synthesizAR.Skeleton.restore('/storage-home/w/wtb2/data/timelag_synthesis/cooling/field_checkpoint/')"
   ]
  },
  {
   "cell_type": "markdown",
   "metadata": {},
   "source": [
    "And emission model"
   ]
  },
  {
   "cell_type": "code",
   "execution_count": 4,
   "metadata": {
    "collapsed": true
   },
   "outputs": [],
   "source": [
    "em_model = EmissionModel.restore('/storage-home/w/wtb2/data/timelag_synthesis/base_emission_model_dominant.json')"
   ]
  },
  {
   "cell_type": "code",
   "execution_count": 5,
   "metadata": {},
   "outputs": [
    {
     "data": {
      "application/vnd.jupyter.widget-view+json": {
       "model_id": "37a8adc20698495b836cb1f38629c81b",
       "version_major": 2,
       "version_minor": 0
      },
      "text/html": [
       "<p>Failed to display Jupyter Widget of type <code>FloatProgress</code>.</p>\n",
       "<p>\n",
       "  If you're reading this message in the Jupyter Notebook or JupyterLab Notebook, it may mean\n",
       "  that the widgets JavaScript is still loading. If this message persists, it\n",
       "  likely means that the widgets JavaScript library is either not installed or\n",
       "  not enabled. See the <a href=\"https://ipywidgets.readthedocs.io/en/stable/user_install.html\">Jupyter\n",
       "  Widgets Documentation</a> for setup instructions.\n",
       "</p>\n",
       "<p>\n",
       "  If you're reading this message in another frontend (for example, a static\n",
       "  rendering on GitHub or <a href=\"https://nbviewer.jupyter.org/\">NBViewer</a>),\n",
       "  it may mean that your frontend doesn't currently support widgets.\n",
       "</p>\n"
      ],
      "text/plain": [
       "FloatProgress(value=0.0)"
      ]
     },
     "metadata": {},
     "output_type": "display_data"
    },
    {
     "name": "stderr",
     "output_type": "stream",
     "text": [
      "WARNING: UnitsWarning: 'cm3 K(3/2) / s' contains multiple slashes, which is discouraged by the FITS standard [astropy.units.format.generic]\n"
     ]
    },
    {
     "name": "stdout",
     "output_type": "stream",
     "text": [
      "\n"
     ]
    }
   ],
   "source": [
    "em_model.calculate_ionization_fraction(field,\n",
    "                                    '/storage-home/w/wtb2/data/timelag_synthesis/cooling/ieq/ionization_fractions.h5')"
   ]
  },
  {
   "cell_type": "code",
   "execution_count": 6,
   "metadata": {
    "collapsed": true
   },
   "outputs": [],
   "source": [
    "em_model.save('/storage-home/w/wtb2/data/timelag_synthesis/cooling/ieq/emission_model_dominant.json')"
   ]
  },
  {
   "cell_type": "code",
   "execution_count": 7,
   "metadata": {
    "collapsed": true
   },
   "outputs": [],
   "source": [
    "aia = InstrumentSDOAIA([0,10000]*u.s, use_temperature_response_functions=False)"
   ]
  },
  {
   "cell_type": "code",
   "execution_count": 8,
   "metadata": {
    "collapsed": true
   },
   "outputs": [],
   "source": [
    "observer = synthesizAR.Observer(field,[aia],parallel=True)"
   ]
  },
  {
   "cell_type": "code",
   "execution_count": 9,
   "metadata": {},
   "outputs": [
    {
     "name": "stderr",
     "output_type": "stream",
     "text": [
      "/storage-home/w/wtb2/anaconda3/envs/synthesizar/lib/python3.6/site-packages/scipy/interpolate/_fitpack_impl.py:299: RuntimeWarning: The maximal number of iterations (20) allowed for finding smoothing\n",
      "spline with fp=s has been reached. Probable cause: s too small.\n",
      "(abs(fp-s)/s>0.001)\n",
      "  warnings.warn(RuntimeWarning(_iermess[ier][0]))\n",
      "/storage-home/w/wtb2/anaconda3/envs/synthesizar/lib/python3.6/site-packages/scipy/interpolate/_fitpack_impl.py:299: RuntimeWarning: A theoretically impossible result when finding a smoothing spline\n",
      "with fp = s. Probable cause: s too small. (abs(fp-s)/s>0.001)\n",
      "  warnings.warn(RuntimeWarning(_iermess[ier][0]))\n",
      "/storage-home/w/wtb2/anaconda3/envs/synthesizar/lib/python3.6/site-packages/synthesizAR-0.1.dev528-py3.6.egg/synthesizAR/instruments/base.py:116: SunpyDeprecationWarning: This property is only valid for non-rotated WCS\n",
      "  delta_x = np.fabs(field.clipped_hmi_map.xrange[1] - field.clipped_hmi_map.xrange[0])\n",
      "/storage-home/w/wtb2/anaconda3/envs/synthesizar/lib/python3.6/site-packages/synthesizAR-0.1.dev528-py3.6.egg/synthesizAR/instruments/base.py:117: SunpyDeprecationWarning: This property is only valid for non-rotated WCS\n",
      "  delta_y = np.fabs(field.clipped_hmi_map.yrange[1] - field.clipped_hmi_map.yrange[0])\n",
      "/storage-home/w/wtb2/anaconda3/envs/synthesizar/lib/python3.6/site-packages/synthesizAR-0.1.dev528-py3.6.egg/synthesizAR/instruments/base.py:126: SunpyDeprecationWarning: This property is only valid for non-rotated WCS\n",
      "  self.bin_range = Pair(field._convert_angle_to_length(field.clipped_hmi_map.xrange).value,\n",
      "/storage-home/w/wtb2/anaconda3/envs/synthesizar/lib/python3.6/site-packages/synthesizAR-0.1.dev528-py3.6.egg/synthesizAR/instruments/base.py:127: SunpyDeprecationWarning: This property is only valid for non-rotated WCS\n",
      "  field._convert_angle_to_length(field.clipped_hmi_map.yrange).value,\n"
     ]
    }
   ],
   "source": [
    "observer.build_detector_files('/storage-home/w/wtb2/data/timelag_synthesis/cooling/ieq/',\n",
    "                              ds=field._convert_angle_to_length(1.0*u.arcsec))"
   ]
  },
  {
   "cell_type": "code",
   "execution_count": 10,
   "metadata": {
    "collapsed": true
   },
   "outputs": [],
   "source": [
    "tasks = observer.flatten_detector_counts(emission_model=em_model)"
   ]
  },
  {
   "cell_type": "code",
   "execution_count": 11,
   "metadata": {
    "collapsed": true
   },
   "outputs": [],
   "source": [
    "tasks['SDO_AIA_parameters'].compute()"
   ]
  },
  {
   "cell_type": "code",
   "execution_count": 12,
   "metadata": {
    "collapsed": true
   },
   "outputs": [],
   "source": [
    "tasks['SDO_AIA_counts'].compute()"
   ]
  },
  {
   "cell_type": "code",
   "execution_count": 13,
   "metadata": {
    "collapsed": true
   },
   "outputs": [],
   "source": [
    "tasks = observer.bin_detector_counts('/storage-home/w/wtb2/data/timelag_synthesis/cooling/ieq/')"
   ]
  },
  {
   "cell_type": "code",
   "execution_count": 14,
   "metadata": {},
   "outputs": [
    {
     "name": "stderr",
     "output_type": "stream",
     "text": [
      "tornado.application - ERROR - Exception in callback <bound method Nanny.memory_monitor of <Nanny: tcp://127.0.0.1:44675, threads: 1>>\n",
      "Traceback (most recent call last):\n",
      "  File \"/storage-home/w/wtb2/anaconda3/envs/synthesizar/lib/python3.6/site-packages/tornado/ioloop.py\", line 1026, in _run\n",
      "    return self.callback()\n",
      "  File \"/storage-home/w/wtb2/anaconda3/envs/synthesizar/lib/python3.6/site-packages/distributed/nanny.py\", line 254, in memory_monitor\n",
      "    self.process.process.terminate()\n",
      "AttributeError: 'NoneType' object has no attribute 'terminate'\n",
      "tornado.application - ERROR - Exception in callback <bound method Nanny.memory_monitor of <Nanny: tcp://127.0.0.1:44675, threads: 1>>\n",
      "Traceback (most recent call last):\n",
      "  File \"/storage-home/w/wtb2/anaconda3/envs/synthesizar/lib/python3.6/site-packages/tornado/ioloop.py\", line 1026, in _run\n",
      "    return self.callback()\n",
      "  File \"/storage-home/w/wtb2/anaconda3/envs/synthesizar/lib/python3.6/site-packages/distributed/nanny.py\", line 254, in memory_monitor\n",
      "    self.process.process.terminate()\n",
      "AttributeError: 'NoneType' object has no attribute 'terminate'\n",
      "tornado.application - ERROR - Exception in callback <bound method Nanny.memory_monitor of <Nanny: tcp://127.0.0.1:44675, threads: 1>>\n",
      "Traceback (most recent call last):\n",
      "  File \"/storage-home/w/wtb2/anaconda3/envs/synthesizar/lib/python3.6/site-packages/tornado/ioloop.py\", line 1026, in _run\n",
      "    return self.callback()\n",
      "  File \"/storage-home/w/wtb2/anaconda3/envs/synthesizar/lib/python3.6/site-packages/distributed/nanny.py\", line 254, in memory_monitor\n",
      "    self.process.process.terminate()\n",
      "AttributeError: 'NoneType' object has no attribute 'terminate'\n",
      "tornado.application - ERROR - Exception in callback <bound method Nanny.memory_monitor of <Nanny: tcp://127.0.0.1:44675, threads: 1>>\n",
      "Traceback (most recent call last):\n",
      "  File \"/storage-home/w/wtb2/anaconda3/envs/synthesizar/lib/python3.6/site-packages/tornado/ioloop.py\", line 1026, in _run\n",
      "    return self.callback()\n",
      "  File \"/storage-home/w/wtb2/anaconda3/envs/synthesizar/lib/python3.6/site-packages/distributed/nanny.py\", line 254, in memory_monitor\n",
      "    self.process.process.terminate()\n",
      "AttributeError: 'NoneType' object has no attribute 'terminate'\n",
      "tornado.application - ERROR - Exception in callback <bound method Nanny.memory_monitor of <Nanny: tcp://127.0.0.1:44675, threads: 1>>\n",
      "Traceback (most recent call last):\n",
      "  File \"/storage-home/w/wtb2/anaconda3/envs/synthesizar/lib/python3.6/site-packages/tornado/ioloop.py\", line 1026, in _run\n",
      "    return self.callback()\n",
      "  File \"/storage-home/w/wtb2/anaconda3/envs/synthesizar/lib/python3.6/site-packages/distributed/nanny.py\", line 254, in memory_monitor\n",
      "    self.process.process.terminate()\n",
      "AttributeError: 'NoneType' object has no attribute 'terminate'\n",
      "tornado.application - ERROR - Exception in callback <bound method Nanny.memory_monitor of <Nanny: tcp://127.0.0.1:34975, threads: 1>>\n",
      "Traceback (most recent call last):\n",
      "  File \"/storage-home/w/wtb2/anaconda3/envs/synthesizar/lib/python3.6/site-packages/tornado/ioloop.py\", line 1026, in _run\n",
      "    return self.callback()\n",
      "  File \"/storage-home/w/wtb2/anaconda3/envs/synthesizar/lib/python3.6/site-packages/distributed/nanny.py\", line 254, in memory_monitor\n",
      "    self.process.process.terminate()\n",
      "AttributeError: 'NoneType' object has no attribute 'terminate'\n",
      "tornado.application - ERROR - Exception in callback <bound method Nanny.memory_monitor of <Nanny: tcp://127.0.0.1:34975, threads: 1>>\n",
      "Traceback (most recent call last):\n",
      "  File \"/storage-home/w/wtb2/anaconda3/envs/synthesizar/lib/python3.6/site-packages/tornado/ioloop.py\", line 1026, in _run\n",
      "    return self.callback()\n",
      "  File \"/storage-home/w/wtb2/anaconda3/envs/synthesizar/lib/python3.6/site-packages/distributed/nanny.py\", line 254, in memory_monitor\n",
      "    self.process.process.terminate()\n",
      "AttributeError: 'NoneType' object has no attribute 'terminate'\n",
      "tornado.application - ERROR - Exception in callback <bound method Nanny.memory_monitor of <Nanny: tcp://127.0.0.1:34975, threads: 1>>\n",
      "Traceback (most recent call last):\n",
      "  File \"/storage-home/w/wtb2/anaconda3/envs/synthesizar/lib/python3.6/site-packages/tornado/ioloop.py\", line 1026, in _run\n",
      "    return self.callback()\n",
      "  File \"/storage-home/w/wtb2/anaconda3/envs/synthesizar/lib/python3.6/site-packages/distributed/nanny.py\", line 254, in memory_monitor\n",
      "    self.process.process.terminate()\n",
      "AttributeError: 'NoneType' object has no attribute 'terminate'\n",
      "tornado.application - ERROR - Exception in callback <bound method Nanny.memory_monitor of <Nanny: tcp://127.0.0.1:34975, threads: 1>>\n",
      "Traceback (most recent call last):\n",
      "  File \"/storage-home/w/wtb2/anaconda3/envs/synthesizar/lib/python3.6/site-packages/tornado/ioloop.py\", line 1026, in _run\n",
      "    return self.callback()\n",
      "  File \"/storage-home/w/wtb2/anaconda3/envs/synthesizar/lib/python3.6/site-packages/distributed/nanny.py\", line 254, in memory_monitor\n",
      "    self.process.process.terminate()\n",
      "AttributeError: 'NoneType' object has no attribute 'terminate'\n",
      "tornado.application - ERROR - Exception in callback <bound method Nanny.memory_monitor of <Nanny: tcp://127.0.0.1:34975, threads: 1>>\n",
      "Traceback (most recent call last):\n",
      "  File \"/storage-home/w/wtb2/anaconda3/envs/synthesizar/lib/python3.6/site-packages/tornado/ioloop.py\", line 1026, in _run\n",
      "    return self.callback()\n",
      "  File \"/storage-home/w/wtb2/anaconda3/envs/synthesizar/lib/python3.6/site-packages/distributed/nanny.py\", line 254, in memory_monitor\n",
      "    self.process.process.terminate()\n",
      "AttributeError: 'NoneType' object has no attribute 'terminate'\n",
      "tornado.application - ERROR - Exception in callback <bound method Nanny.memory_monitor of <Nanny: tcp://127.0.0.1:34975, threads: 1>>\n",
      "Traceback (most recent call last):\n",
      "  File \"/storage-home/w/wtb2/anaconda3/envs/synthesizar/lib/python3.6/site-packages/tornado/ioloop.py\", line 1026, in _run\n",
      "    return self.callback()\n",
      "  File \"/storage-home/w/wtb2/anaconda3/envs/synthesizar/lib/python3.6/site-packages/distributed/nanny.py\", line 254, in memory_monitor\n",
      "    self.process.process.terminate()\n",
      "AttributeError: 'NoneType' object has no attribute 'terminate'\n",
      "tornado.application - ERROR - Exception in callback <bound method Nanny.memory_monitor of <Nanny: tcp://127.0.0.1:34975, threads: 1>>\n",
      "Traceback (most recent call last):\n",
      "  File \"/storage-home/w/wtb2/anaconda3/envs/synthesizar/lib/python3.6/site-packages/tornado/ioloop.py\", line 1026, in _run\n",
      "    return self.callback()\n",
      "  File \"/storage-home/w/wtb2/anaconda3/envs/synthesizar/lib/python3.6/site-packages/distributed/nanny.py\", line 254, in memory_monitor\n",
      "    self.process.process.terminate()\n",
      "AttributeError: 'NoneType' object has no attribute 'terminate'\n",
      "tornado.application - ERROR - Exception in callback <bound method Nanny.memory_monitor of <Nanny: tcp://127.0.0.1:34975, threads: 1>>\n",
      "Traceback (most recent call last):\n",
      "  File \"/storage-home/w/wtb2/anaconda3/envs/synthesizar/lib/python3.6/site-packages/tornado/ioloop.py\", line 1026, in _run\n",
      "    return self.callback()\n",
      "  File \"/storage-home/w/wtb2/anaconda3/envs/synthesizar/lib/python3.6/site-packages/distributed/nanny.py\", line 254, in memory_monitor\n",
      "    self.process.process.terminate()\n",
      "AttributeError: 'NoneType' object has no attribute 'terminate'\n",
      "tornado.application - ERROR - Exception in callback <bound method Nanny.memory_monitor of <Nanny: tcp://127.0.0.1:34975, threads: 1>>\n",
      "Traceback (most recent call last):\n",
      "  File \"/storage-home/w/wtb2/anaconda3/envs/synthesizar/lib/python3.6/site-packages/tornado/ioloop.py\", line 1026, in _run\n",
      "    return self.callback()\n",
      "  File \"/storage-home/w/wtb2/anaconda3/envs/synthesizar/lib/python3.6/site-packages/distributed/nanny.py\", line 254, in memory_monitor\n",
      "    self.process.process.terminate()\n",
      "AttributeError: 'NoneType' object has no attribute 'terminate'\n",
      "tornado.application - ERROR - Exception in callback <bound method Nanny.memory_monitor of <Nanny: tcp://127.0.0.1:34975, threads: 1>>\n",
      "Traceback (most recent call last):\n",
      "  File \"/storage-home/w/wtb2/anaconda3/envs/synthesizar/lib/python3.6/site-packages/tornado/ioloop.py\", line 1026, in _run\n",
      "    return self.callback()\n",
      "  File \"/storage-home/w/wtb2/anaconda3/envs/synthesizar/lib/python3.6/site-packages/distributed/nanny.py\", line 254, in memory_monitor\n",
      "    self.process.process.terminate()\n",
      "AttributeError: 'NoneType' object has no attribute 'terminate'\n"
     ]
    },
    {
     "name": "stderr",
     "output_type": "stream",
     "text": [
      "tornado.application - ERROR - Exception in callback <bound method Nanny.memory_monitor of <Nanny: tcp://127.0.0.1:34975, threads: 1>>\n",
      "Traceback (most recent call last):\n",
      "  File \"/storage-home/w/wtb2/anaconda3/envs/synthesizar/lib/python3.6/site-packages/tornado/ioloop.py\", line 1026, in _run\n",
      "    return self.callback()\n",
      "  File \"/storage-home/w/wtb2/anaconda3/envs/synthesizar/lib/python3.6/site-packages/distributed/nanny.py\", line 254, in memory_monitor\n",
      "    self.process.process.terminate()\n",
      "AttributeError: 'NoneType' object has no attribute 'terminate'\n",
      "tornado.application - ERROR - Exception in callback <bound method Nanny.memory_monitor of <Nanny: tcp://127.0.0.1:34975, threads: 1>>\n",
      "Traceback (most recent call last):\n",
      "  File \"/storage-home/w/wtb2/anaconda3/envs/synthesizar/lib/python3.6/site-packages/tornado/ioloop.py\", line 1026, in _run\n",
      "    return self.callback()\n",
      "  File \"/storage-home/w/wtb2/anaconda3/envs/synthesizar/lib/python3.6/site-packages/distributed/nanny.py\", line 254, in memory_monitor\n",
      "    self.process.process.terminate()\n",
      "AttributeError: 'NoneType' object has no attribute 'terminate'\n",
      "tornado.application - ERROR - Exception in callback <bound method Nanny.memory_monitor of <Nanny: tcp://127.0.0.1:34975, threads: 1>>\n",
      "Traceback (most recent call last):\n",
      "  File \"/storage-home/w/wtb2/anaconda3/envs/synthesizar/lib/python3.6/site-packages/tornado/ioloop.py\", line 1026, in _run\n",
      "    return self.callback()\n",
      "  File \"/storage-home/w/wtb2/anaconda3/envs/synthesizar/lib/python3.6/site-packages/distributed/nanny.py\", line 254, in memory_monitor\n",
      "    self.process.process.terminate()\n",
      "AttributeError: 'NoneType' object has no attribute 'terminate'\n"
     ]
    }
   ],
   "source": [
    "jobs = client.compute(tasks['SDO_AIA'])"
   ]
  },
  {
   "cell_type": "code",
   "execution_count": 15,
   "metadata": {
    "collapsed": true
   },
   "outputs": [],
   "source": [
    "jobs = None"
   ]
  },
  {
   "cell_type": "code",
   "execution_count": 16,
   "metadata": {},
   "outputs": [
    {
     "name": "stderr",
     "output_type": "stream",
     "text": [
      "tornado.application - ERROR - Exception in callback functools.partial(<function wrap.<locals>.null_wrapper at 0x7ff7bd7e5d08>, <tornado.concurrent.Future object at 0x7ff7be780828>)\n",
      "Traceback (most recent call last):\n",
      "  File \"/storage-home/w/wtb2/anaconda3/envs/synthesizar/lib/python3.6/site-packages/distributed/comm/tcp.py\", line 174, in read\n",
      "    n_frames = yield stream.read_bytes(8)\n",
      "  File \"/storage-home/w/wtb2/anaconda3/envs/synthesizar/lib/python3.6/site-packages/tornado/iostream.py\", line 324, in read_bytes\n",
      "    self._try_inline_read()\n",
      "  File \"/storage-home/w/wtb2/anaconda3/envs/synthesizar/lib/python3.6/site-packages/tornado/iostream.py\", line 709, in _try_inline_read\n",
      "    self._check_closed()\n",
      "  File \"/storage-home/w/wtb2/anaconda3/envs/synthesizar/lib/python3.6/site-packages/tornado/iostream.py\", line 925, in _check_closed\n",
      "    raise StreamClosedError(real_error=self.error)\n",
      "tornado.iostream.StreamClosedError: Stream is closed\n",
      "\n",
      "During handling of the above exception, another exception occurred:\n",
      "\n",
      "Traceback (most recent call last):\n",
      "  File \"/storage-home/w/wtb2/anaconda3/envs/synthesizar/lib/python3.6/site-packages/distributed/core.py\", line 464, in send_recv_from_rpc\n",
      "    result = yield send_recv(comm=comm, op=key, **kwargs)\n",
      "  File \"/storage-home/w/wtb2/anaconda3/envs/synthesizar/lib/python3.6/site-packages/tornado/gen.py\", line 1055, in run\n",
      "    value = future.result()\n",
      "  File \"/storage-home/w/wtb2/anaconda3/envs/synthesizar/lib/python3.6/site-packages/tornado/concurrent.py\", line 238, in result\n",
      "    raise_exc_info(self._exc_info)\n",
      "  File \"<string>\", line 4, in raise_exc_info\n",
      "  File \"/storage-home/w/wtb2/anaconda3/envs/synthesizar/lib/python3.6/site-packages/tornado/gen.py\", line 1063, in run\n",
      "    yielded = self.gen.throw(*exc_info)\n",
      "  File \"/storage-home/w/wtb2/anaconda3/envs/synthesizar/lib/python3.6/site-packages/distributed/core.py\", line 350, in send_recv\n",
      "    response = yield comm.read()\n",
      "  File \"/storage-home/w/wtb2/anaconda3/envs/synthesizar/lib/python3.6/site-packages/tornado/gen.py\", line 1055, in run\n",
      "    value = future.result()\n",
      "  File \"/storage-home/w/wtb2/anaconda3/envs/synthesizar/lib/python3.6/site-packages/tornado/concurrent.py\", line 238, in result\n",
      "    raise_exc_info(self._exc_info)\n",
      "  File \"<string>\", line 4, in raise_exc_info\n",
      "  File \"/storage-home/w/wtb2/anaconda3/envs/synthesizar/lib/python3.6/site-packages/tornado/gen.py\", line 307, in wrapper\n",
      "    yielded = next(result)\n",
      "  File \"/storage-home/w/wtb2/anaconda3/envs/synthesizar/lib/python3.6/site-packages/distributed/comm/tcp.py\", line 188, in read\n",
      "    convert_stream_closed_error(self, e)\n",
      "  File \"/storage-home/w/wtb2/anaconda3/envs/synthesizar/lib/python3.6/site-packages/distributed/comm/tcp.py\", line 124, in convert_stream_closed_error\n",
      "    raise CommClosedError(\"in %s: %s: %s\" % (obj, exc.__class__.__name__, exc))\n",
      "distributed.comm.core.CommClosedError: in <closed TCP>: BrokenPipeError: [Errno 32] Broken pipe\n",
      "\n",
      "During handling of the above exception, another exception occurred:\n",
      "\n",
      "Traceback (most recent call last):\n",
      "  File \"/storage-home/w/wtb2/anaconda3/envs/synthesizar/lib/python3.6/site-packages/tornado/ioloop.py\", line 605, in _run_callback\n",
      "    ret = callback()\n",
      "  File \"/storage-home/w/wtb2/anaconda3/envs/synthesizar/lib/python3.6/site-packages/tornado/stack_context.py\", line 277, in null_wrapper\n",
      "    return fn(*args, **kwargs)\n",
      "  File \"/storage-home/w/wtb2/anaconda3/envs/synthesizar/lib/python3.6/site-packages/tornado/ioloop.py\", line 626, in _discard_future_result\n",
      "    future.result()\n",
      "  File \"/storage-home/w/wtb2/anaconda3/envs/synthesizar/lib/python3.6/site-packages/tornado/concurrent.py\", line 238, in result\n",
      "    raise_exc_info(self._exc_info)\n",
      "  File \"<string>\", line 4, in raise_exc_info\n",
      "  File \"/storage-home/w/wtb2/anaconda3/envs/synthesizar/lib/python3.6/site-packages/tornado/gen.py\", line 1063, in run\n",
      "    yielded = self.gen.throw(*exc_info)\n",
      "  File \"/storage-home/w/wtb2/anaconda3/envs/synthesizar/lib/python3.6/site-packages/distributed/client.py\", line 782, in _update_scheduler_info\n",
      "    self._scheduler_identity = yield self.scheduler.identity()\n",
      "  File \"/storage-home/w/wtb2/anaconda3/envs/synthesizar/lib/python3.6/site-packages/tornado/gen.py\", line 1055, in run\n",
      "    value = future.result()\n",
      "  File \"/storage-home/w/wtb2/anaconda3/envs/synthesizar/lib/python3.6/site-packages/tornado/concurrent.py\", line 238, in result\n",
      "    raise_exc_info(self._exc_info)\n",
      "  File \"<string>\", line 4, in raise_exc_info\n",
      "  File \"/storage-home/w/wtb2/anaconda3/envs/synthesizar/lib/python3.6/site-packages/tornado/gen.py\", line 1063, in run\n",
      "    yielded = self.gen.throw(*exc_info)\n",
      "  File \"/storage-home/w/wtb2/anaconda3/envs/synthesizar/lib/python3.6/site-packages/distributed/core.py\", line 467, in send_recv_from_rpc\n",
      "    % (e, key,))\n",
      "distributed.comm.core.CommClosedError: in <closed TCP>: BrokenPipeError: [Errno 32] Broken pipe: while trying to call remote method 'identity'\n"
     ]
    }
   ],
   "source": [
    "client.close()"
   ]
  },
  {
   "cell_type": "code",
   "execution_count": null,
   "metadata": {
    "collapsed": true
   },
   "outputs": [],
   "source": []
  }
 ],
 "metadata": {
  "kernelspec": {
   "display_name": "Python [conda env:synthesizar]",
   "language": "python",
   "name": "conda-env-synthesizar-py"
  },
  "language_info": {
   "codemirror_mode": {
    "name": "ipython",
    "version": 3
   },
   "file_extension": ".py",
   "mimetype": "text/x-python",
   "name": "python",
   "nbconvert_exporter": "python",
   "pygments_lexer": "ipython3",
   "version": "3.6.3"
  }
 },
 "nbformat": 4,
 "nbformat_minor": 2
}
