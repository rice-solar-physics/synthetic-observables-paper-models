{
 "cells": [
  {
   "cell_type": "markdown",
   "metadata": {},
   "source": [
    "# Timelag Analysis: Nonequilibrium versus Equilibrium Ionization\n",
    "For one of our heating cases (likely intermediate-frequency heating), compare the timelag distributions for intensities computed accounting for non-equilibrium ionization and assuming equilibrium ionization"
   ]
  },
  {
   "cell_type": "code",
   "execution_count": null,
   "metadata": {},
   "outputs": [],
   "source": [
    "import os\n",
    "import sys\n",
    "\n",
    "import numpy as np\n",
    "import dask\n",
    "import distributed\n",
    "import matplotlib.pyplot as plt\n",
    "import matplotlib.colors\n",
    "from sunpy.map import Map,GenericMap\n",
    "from astropy.coordinates import SkyCoord\n",
    "import astropy.units as u\n",
    "\n",
    "import synthesizAR\n",
    "from synthesizAR.instruments import InstrumentSDOAIA\n",
    "from synthesizAR.visualize import plot_aia_channels\n",
    "\n",
    "sys.path.append('../scripts/')\n",
    "from timelags import AIATimeLags\n",
    "\n",
    "%matplotlib inline"
   ]
  }
 ],
 "metadata": {
  "kernelspec": {
   "display_name": "Python [conda env:synthesizar]",
   "language": "python",
   "name": "conda-env-synthesizar-py"
  },
  "language_info": {
   "codemirror_mode": {
    "name": "ipython",
    "version": 3
   },
   "file_extension": ".py",
   "mimetype": "text/x-python",
   "name": "python",
   "nbconvert_exporter": "python",
   "pygments_lexer": "ipython3",
   "version": "3.6.4"
  }
 },
 "nbformat": 4,
 "nbformat_minor": 2
}
