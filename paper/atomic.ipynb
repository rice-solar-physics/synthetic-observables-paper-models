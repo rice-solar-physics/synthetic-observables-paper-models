{
 "cells": [
  {
   "cell_type": "markdown",
   "metadata": {},
   "source": [
    "# Atomic Physics\n",
    "Tables and figures associated with the atomic physics details"
   ]
  },
  {
   "cell_type": "code",
   "execution_count": 2,
   "metadata": {},
   "outputs": [],
   "source": [
    "import numpy as np\n",
    "from astropy.table import Table,Column\n",
    "from astropy.io import ascii\n",
    "\n",
    "from synthesizAR.atomic import EmissionModel\n",
    "\n",
    "%matplotlib inline"
   ]
  },
  {
   "cell_type": "code",
   "execution_count": 3,
   "metadata": {},
   "outputs": [],
   "source": [
    "em = EmissionModel.restore('/storage-home/w/wtb2/data/timelag_synthesis_v2/base_emission_model.json')"
   ]
  },
  {
   "cell_type": "markdown",
   "metadata": {},
   "source": [
    "## Element Table\n",
    "List elements, number of ions, total number of lines"
   ]
  },
  {
   "cell_type": "code",
   "execution_count": 27,
   "metadata": {},
   "outputs": [],
   "source": [
    "by_element = {}\n",
    "for i in em:\n",
    "    el = i.atomic_symbol\n",
    "    if el not in by_element:\n",
    "        by_element[el] = [i]\n",
    "    else:\n",
    "        by_element[el].append(i)\n",
    "by_element = {k: sorted(v, key=lambda x:x.atomic_number) for k,v in by_element.items()}"
   ]
  },
  {
   "cell_type": "code",
   "execution_count": 34,
   "metadata": {},
   "outputs": [],
   "source": [
    "col1 = [e[0].atomic_symbol for e in sorted([v for _,v in by_element.items()], key=lambda x: x[0].atomic_number)]"
   ]
  },
  {
   "cell_type": "code",
   "execution_count": 36,
   "metadata": {},
   "outputs": [],
   "source": [
    "col2 = [len(by_element[x]) for x in col1]"
   ]
  },
  {
   "cell_type": "code",
   "execution_count": 39,
   "metadata": {},
   "outputs": [],
   "source": [
    "col3 = [sum([i.transitions.wavelength.shape[0] for i in by_element[x] if i.transitions is not None]) for x in col1]"
   ]
  },
  {
   "cell_type": "code",
   "execution_count": 41,
   "metadata": {},
   "outputs": [],
   "source": [
    "t = Table([col1, col2, col3], names=('Element', 'Number of Ions', 'Number of Transitions'),\n",
    "          meta={'name': 'CHIANTI Elements'})"
   ]
  },
  {
   "cell_type": "code",
   "execution_count": 45,
   "metadata": {},
   "outputs": [],
   "source": [
    "caption = r\"\"\"Elements included in the intensity calculation. These 7 elements were selected as they are the dominant contributors in the\n",
    "AIA passbands. We use every ion from every element and every transition from every ion. All of the atomic data is gathered from the \n",
    "CHIANTI atomic database.\\label{tab:elements}\n",
    "\"\"\""
   ]
  },
  {
   "cell_type": "code",
   "execution_count": 47,
   "metadata": {},
   "outputs": [],
   "source": [
    "ascii.write(t, output='tex/element_table.tex', format='aastex',caption=caption,overwrite=True)"
   ]
  },
  {
   "cell_type": "code",
   "execution_count": null,
   "metadata": {},
   "outputs": [],
   "source": []
  }
 ],
 "metadata": {
  "kernelspec": {
   "display_name": "Python [conda env:synthesized-timelags]",
   "language": "python",
   "name": "conda-env-synthesized-timelags-py"
  },
  "language_info": {
   "codemirror_mode": {
    "name": "ipython",
    "version": 3
   },
   "file_extension": ".py",
   "mimetype": "text/x-python",
   "name": "python",
   "nbconvert_exporter": "python",
   "pygments_lexer": "ipython3",
   "version": "3.6.6"
  }
 },
 "nbformat": 4,
 "nbformat_minor": 2
}
