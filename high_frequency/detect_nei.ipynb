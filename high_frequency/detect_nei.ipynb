{
 "cells": [
  {
   "cell_type": "markdown",
   "metadata": {},
   "source": [
    "# Calculate Detector Counts: NEI\n",
    "Compute detector counts, including non-equilibrium ionization."
   ]
  },
  {
   "cell_type": "code",
   "execution_count": 30,
   "metadata": {
    "collapsed": true
   },
   "outputs": [],
   "source": [
    "import os\n",
    "import glob\n",
    "\n",
    "import numpy as np\n",
    "import h5py\n",
    "import astropy.units as u\n",
    "import distributed\n",
    "\n",
    "import synthesizAR\n",
    "from synthesizAR.instruments import InstrumentSDOAIA\n",
    "from synthesizAR.atomic import EmissionModel"
   ]
  },
  {
   "cell_type": "code",
   "execution_count": 47,
   "metadata": {},
   "outputs": [
    {
     "data": {
      "text/html": [
       "<table style=\"border: 2px solid white;\">\n",
       "<tr>\n",
       "<td style=\"vertical-align: top; border: 0px solid white\">\n",
       "<h3>Client</h3>\n",
       "<ul>\n",
       "  <li><b>Scheduler: </b>tcp://127.0.0.1:34799\n",
       "  <li><b>Dashboard: </b><a href='http://127.0.0.1:8787' target='_blank'>http://127.0.0.1:8787</a>\n",
       "</ul>\n",
       "</td>\n",
       "<td style=\"vertical-align: top; border: 0px solid white\">\n",
       "<h3>Cluster</h3>\n",
       "<ul>\n",
       "  <li><b>Workers: </b>64</li>\n",
       "  <li><b>Cores: </b>64</li>\n",
       "  <li><b>Memory: </b>270.38 GB</li>\n",
       "</ul>\n",
       "</td>\n",
       "</tr>\n",
       "</table>"
      ],
      "text/plain": [
       "<Client: scheduler='tcp://127.0.0.1:34799' processes=64 cores=64>"
      ]
     },
     "execution_count": 47,
     "metadata": {},
     "output_type": "execute_result"
    }
   ],
   "source": [
    "client = distributed.Client()\n",
    "client"
   ]
  },
  {
   "cell_type": "code",
   "execution_count": 2,
   "metadata": {},
   "outputs": [
    {
     "name": "stderr",
     "output_type": "stream",
     "text": [
      "No HMI fits file supplied. A new HMI map object will not be created.\n",
      "/storage-home/w/wtb2/anaconda3/envs/synthesizar/lib/python3.6/site-packages/synthesizAR-0.1.dev528-py3.6.egg/synthesizAR/field.py:187: SunpyDeprecationWarning: This property is only valid for non-rotated WCS\n",
      "  lcx, rcx = self.hmi_map.xrange + self.hmi_map.scale.axis1*u.Quantity([boundary_clipping[0], -boundary_clipping[0]], u.pixel)\n",
      "/storage-home/w/wtb2/anaconda3/envs/synthesizar/lib/python3.6/site-packages/synthesizAR-0.1.dev528-py3.6.egg/synthesizAR/field.py:188: SunpyDeprecationWarning: This property is only valid for non-rotated WCS\n",
      "  lcy, rcy = self.hmi_map.yrange + self.hmi_map.scale.axis2*u.Quantity([boundary_clipping[1], -boundary_clipping[1]], u.pixel)\n",
      "/storage-home/w/wtb2/anaconda3/envs/synthesizar/lib/python3.6/site-packages/synthesizAR-0.1.dev528-py3.6.egg/synthesizAR/field.py:195: SunpyDeprecationWarning: This property is only valid for non-rotated WCS\n",
      "  bbox = np.array([self._convert_angle_to_length(self.clipped_hmi_map.xrange).value,\n",
      "/storage-home/w/wtb2/anaconda3/envs/synthesizar/lib/python3.6/site-packages/synthesizAR-0.1.dev528-py3.6.egg/synthesizAR/field.py:196: SunpyDeprecationWarning: This property is only valid for non-rotated WCS\n",
      "  self._convert_angle_to_length(self.clipped_hmi_map.yrange).value,\n",
      "yt : [INFO     ] 2017-12-08 13:38:56,910 Parameters: current_time              = 0.0\n",
      "yt : [INFO     ] 2017-12-08 13:38:56,911 Parameters: domain_dimensions         = [96 96 96]\n",
      "yt : [INFO     ] 2017-12-08 13:38:56,911 Parameters: domain_left_edge          = [ -2.97931201e+10  -2.62091384e+10   3.91869796e+08]\n",
      "yt : [INFO     ] 2017-12-08 13:38:56,912 Parameters: domain_right_edge         = [ -1.18463315e+10  -7.41270210e+09   1.92016200e+10]\n",
      "yt : [INFO     ] 2017-12-08 13:38:56,913 Parameters: cosmological_simulation   = 0.0\n"
     ]
    }
   ],
   "source": [
    "# Load field\n",
    "field = synthesizAR.Skeleton.restore('/storage-home/w/wtb2/data/timelag_synthesis/high_frequency/field_checkpoint/')"
   ]
  },
  {
   "cell_type": "code",
   "execution_count": 3,
   "metadata": {
    "collapsed": true
   },
   "outputs": [],
   "source": [
    "# Load emission model\n",
    "em_model = EmissionModel.restore('/storage-home/w/wtb2/data/timelag_synthesis/high_frequency/nei/emission_model_dominant.json')"
   ]
  },
  {
   "cell_type": "code",
   "execution_count": 4,
   "metadata": {
    "collapsed": true
   },
   "outputs": [],
   "source": [
    "# Build instrument and observer\n",
    "aia = InstrumentSDOAIA([0, 30000]*u.s, use_temperature_response_functions=False)\n",
    "observer = synthesizAR.Observer(field, [aia], parallel=True)"
   ]
  },
  {
   "cell_type": "code",
   "execution_count": 5,
   "metadata": {},
   "outputs": [
    {
     "name": "stderr",
     "output_type": "stream",
     "text": [
      "/storage-home/w/wtb2/anaconda3/envs/synthesizar/lib/python3.6/site-packages/scipy/interpolate/_fitpack_impl.py:299: RuntimeWarning: The maximal number of iterations (20) allowed for finding smoothing\n",
      "spline with fp=s has been reached. Probable cause: s too small.\n",
      "(abs(fp-s)/s>0.001)\n",
      "  warnings.warn(RuntimeWarning(_iermess[ier][0]))\n",
      "/storage-home/w/wtb2/anaconda3/envs/synthesizar/lib/python3.6/site-packages/scipy/interpolate/_fitpack_impl.py:299: RuntimeWarning: A theoretically impossible result when finding a smoothing spline\n",
      "with fp = s. Probable cause: s too small. (abs(fp-s)/s>0.001)\n",
      "  warnings.warn(RuntimeWarning(_iermess[ier][0]))\n",
      "/storage-home/w/wtb2/anaconda3/envs/synthesizar/lib/python3.6/site-packages/synthesizAR-0.1.dev528-py3.6.egg/synthesizAR/instruments/base.py:116: SunpyDeprecationWarning: This property is only valid for non-rotated WCS\n",
      "  delta_x = np.fabs(field.clipped_hmi_map.xrange[1] - field.clipped_hmi_map.xrange[0])\n",
      "/storage-home/w/wtb2/anaconda3/envs/synthesizar/lib/python3.6/site-packages/synthesizAR-0.1.dev528-py3.6.egg/synthesizAR/instruments/base.py:117: SunpyDeprecationWarning: This property is only valid for non-rotated WCS\n",
      "  delta_y = np.fabs(field.clipped_hmi_map.yrange[1] - field.clipped_hmi_map.yrange[0])\n",
      "/storage-home/w/wtb2/anaconda3/envs/synthesizar/lib/python3.6/site-packages/synthesizAR-0.1.dev528-py3.6.egg/synthesizAR/instruments/base.py:126: SunpyDeprecationWarning: This property is only valid for non-rotated WCS\n",
      "  self.bin_range = Pair(field._convert_angle_to_length(field.clipped_hmi_map.xrange).value,\n",
      "/storage-home/w/wtb2/anaconda3/envs/synthesizar/lib/python3.6/site-packages/synthesizAR-0.1.dev528-py3.6.egg/synthesizAR/instruments/base.py:127: SunpyDeprecationWarning: This property is only valid for non-rotated WCS\n",
      "  field._convert_angle_to_length(field.clipped_hmi_map.yrange).value,\n"
     ]
    }
   ],
   "source": [
    "observer.build_detector_files('/storage-home/w/wtb2/data/timelag_synthesis/high_frequency/nei/',\n",
    "                              ds=field._convert_angle_to_length(1.0*u.arcsec))"
   ]
  },
  {
   "cell_type": "code",
   "execution_count": null,
   "metadata": {
    "collapsed": true
   },
   "outputs": [],
   "source": [
    "tasks = observer.flatten_detector_counts(emission_model=em_model)"
   ]
  },
  {
   "cell_type": "code",
   "execution_count": null,
   "metadata": {
    "collapsed": true
   },
   "outputs": [],
   "source": [
    "tasks['SDO_AIA_parameters'].compute()"
   ]
  },
  {
   "cell_type": "code",
   "execution_count": null,
   "metadata": {
    "collapsed": true
   },
   "outputs": [],
   "source": [
    "tasks['SDO_AIA_counts'].compute()"
   ]
  },
  {
   "cell_type": "markdown",
   "metadata": {},
   "source": [
    "Instead of running these in parallel, find the ones that didn't execute and run them by hand..."
   ]
  },
  {
   "cell_type": "code",
   "execution_count": 38,
   "metadata": {},
   "outputs": [
    {
     "name": "stdout",
     "output_type": "stream",
     "text": [
      "94\n",
      "loop000412\n",
      "loop000420\n",
      "loop001019\n",
      "loop001066\n",
      "loop002397\n",
      "131\n",
      "loop001050\n",
      "171\n",
      "loop000368\n",
      "loop000767\n",
      "loop001255\n",
      "loop002327\n",
      "193\n",
      "loop001152\n",
      "loop001741\n",
      "loop001952\n",
      "211\n",
      "loop000753\n",
      "loop001912\n",
      "loop004054\n",
      "loop004674\n",
      "335\n",
      "loop000355\n",
      "loop002114\n",
      "loop002190\n",
      "loop003269\n"
     ]
    }
   ],
   "source": [
    "for channel in aia.channels:\n",
    "    print(channel['name'])\n",
    "    completed_loops = [os.path.basename(g).split('.')[0] \n",
    "                       for g in glob.glob(os.path.join(aia.tmp_file_template.format(channel['name']),'*.npy'))]\n",
    "    incomplete_loops = [loop for loop in field.loops if loop.name not in completed_loops]\n",
    "    flat_emiss = aia.flatten_emissivities(channel,em_model)\n",
    "    for loop in incomplete_loops:\n",
    "        print(loop.name)\n",
    "        counts = aia.calculate_counts_full(channel,loop,em_model,flat_emiss)\n",
    "        loop_num = field.loops.index(loop)\n",
    "        loop_path = os.path.join(aia.tmp_file_template.format(channel['name']),f'{loop.name}.npy')\n",
    "        aia.interpolate_and_store(counts,loop,aia.observing_time,observer._interpolated_loop_coordinates[loop_num],\n",
    "                                  save_path=loop_path)"
   ]
  },
  {
   "cell_type": "markdown",
   "metadata": {},
   "source": [
    "And now merge into one big file by hand..."
   ]
  },
  {
   "cell_type": "code",
   "execution_count": 44,
   "metadata": {
    "collapsed": true
   },
   "outputs": [],
   "source": [
    "procedures = {}\n",
    "for channel in aia.channels:\n",
    "    tmp = []\n",
    "    for loop in field.loops:\n",
    "        tmp.append((os.path.join(aia.tmp_file_template.format(channel['name']),f'{loop.name}.npy'),\n",
    "                    counts.unit.to_string()))\n",
    "    procedures[channel['name']] = tmp"
   ]
  },
  {
   "cell_type": "code",
   "execution_count": 46,
   "metadata": {
    "collapsed": true
   },
   "outputs": [],
   "source": [
    "observer.assemble_arrays(procedures,aia.counts_file)"
   ]
  },
  {
   "cell_type": "markdown",
   "metadata": {},
   "source": [
    "Now, compute the maps"
   ]
  },
  {
   "cell_type": "code",
   "execution_count": 48,
   "metadata": {
    "collapsed": true
   },
   "outputs": [],
   "source": [
    "tasks = observer.bin_detector_counts('/storage-home/w/wtb2/data/timelag_synthesis/high_frequency/nei/')"
   ]
  },
  {
   "cell_type": "code",
   "execution_count": 49,
   "metadata": {
    "collapsed": true
   },
   "outputs": [],
   "source": [
    "jobs = client.compute(tasks['SDO_AIA'])"
   ]
  },
  {
   "cell_type": "code",
   "execution_count": 50,
   "metadata": {
    "collapsed": true
   },
   "outputs": [],
   "source": [
    "jobs=None"
   ]
  },
  {
   "cell_type": "code",
   "execution_count": null,
   "metadata": {
    "collapsed": true
   },
   "outputs": [],
   "source": []
  }
 ],
 "metadata": {
  "kernelspec": {
   "display_name": "Python [conda env:synthesizar]",
   "language": "python",
   "name": "conda-env-synthesizar-py"
  },
  "language_info": {
   "codemirror_mode": {
    "name": "ipython",
    "version": 3
   },
   "file_extension": ".py",
   "mimetype": "text/x-python",
   "name": "python",
   "nbconvert_exporter": "python",
   "pygments_lexer": "ipython3",
   "version": "3.6.3"
  }
 },
 "nbformat": 4,
 "nbformat_minor": 2
}
